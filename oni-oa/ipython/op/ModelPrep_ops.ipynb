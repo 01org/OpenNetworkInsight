{
 "metadata": {
  "name": "",
  "signature": "sha256:0eec4981619a11e0d8fe62d09e0ae8f37a53c8fc1e466b01f98b2ac44a4bf751"
 },
 "nbformat": 3,
 "nbformat_minor": 0,
 "worksheets": [
  {
   "cells": [
    {
     "cell_type": "code",
     "collapsed": false,
     "input": [
      "import csv\n",
      "import json\n",
      "import numpy as np\n",
      "import socket,struct\n",
      "import matplotlib.pyplot as plt\n",
      "%matplotlib inline\n",
      "import intelanalytics as ia\n",
      "ia.connect()\n",
      "import pandas as pd\n",
      "import time as time\n",
      "import networkx as nx\n",
      "import math\n",
      "import pylab\n",
      "print 'Libraries loaded'\n",
      "\n",
      "drops = True\n",
      "\n",
      "def drop(name):\n",
      "    framenames=ia.get_frame_names()\n",
      "    graphnames=ia.get_graph_names()\n",
      "    if name in framenames:\n",
      "        ia.drop_frames(name)\n",
      "    if name in graphnames:\n",
      "        ia.drop_graphs(name)\n",
      "\n",
      "schema = [('tstart', str),('tend', str),('tdur', ia.float64),\n",
      "('sip', str),('dip', str),('sport', ia.int64),('dport', ia.int64),\n",
      "('proto', str),('flag', str),('fwd', ia.int64),('stos', ia.int64),\n",
      "('ipkt', ia.int64),('ibyt', ia.int64),('opkt', ia.ignore),('obyt', ia.ignore)]\n",
      "\n",
      "reference = '20140708'\n",
      "score     = '20141109'\n",
      "num_topics = 20\n",
      "\n",
      "print 'Paths and modules loaded.'"
     ],
     "language": "python",
     "metadata": {},
     "outputs": [
      {
       "output_type": "stream",
       "stream": "stdout",
       "text": [
        "Already connected to intelanalytics server.\n",
        "Libraries loaded\n",
        "Paths and modules loaded.\n"
       ]
      }
     ],
     "prompt_number": 50
    },
    {
     "cell_type": "code",
     "collapsed": false,
     "input": [
      "if drops == True:\n",
      "    drop('real_netflow_'+reference)\n",
      "    drop('real_netflow_errors')\n",
      "    start = time.time()\n",
      "    real_netflow = ia.Frame(ia.CsvFile('../hadoop/hiveflow/netflow/'+reference+'/*', schema), 'real_netflow_'+reference)\n",
      "    end = time.time()\n",
      "    data_read_time = end - start\n",
      "# put in else to load existing frame\n",
      "real_netflow.inspect()\n",
      "real_netflow_errors = real_netflow.get_error_frame()\n",
      "real_netflow_errors.name = 'real_netflow_errors'\n",
      "real_netflow_errors\n",
      "print 'Data frame loaded.'"
     ],
     "language": "python",
     "metadata": {},
     "outputs": [
      {
       "output_type": "stream",
       "stream": "stdout",
       "text": [
        "\r",
        "initializing..."
       ]
      },
      {
       "output_type": "stream",
       "stream": "stdout",
       "text": [
        "\r",
        "initializing..."
       ]
      },
      {
       "output_type": "stream",
       "stream": "stdout",
       "text": [
        "\r",
        "initializing..."
       ]
      },
      {
       "output_type": "stream",
       "stream": "stdout",
       "text": [
        "\r",
        "initializing..."
       ]
      },
      {
       "output_type": "stream",
       "stream": "stdout",
       "text": [
        "\r",
        "[.........................]   0.00% Tasks retries:0 Time 0:00:00"
       ]
      },
      {
       "output_type": "stream",
       "stream": "stdout",
       "text": [
        "\r",
        "[.........................]   0.10% Tasks retries:0 Time 0:00:02"
       ]
      },
      {
       "output_type": "stream",
       "stream": "stdout",
       "text": [
        "\r",
        "[.........................]   0.16% Tasks retries:0 Time 0:00:04"
       ]
      },
      {
       "output_type": "stream",
       "stream": "stdout",
       "text": [
        "\r",
        "[.........................]   0.20% Tasks retries:0 Time 0:00:06"
       ]
      },
      {
       "output_type": "stream",
       "stream": "stdout",
       "text": [
        "\r",
        "[.........................]   0.28% Tasks retries:0 Time 0:00:08"
       ]
      },
      {
       "output_type": "stream",
       "stream": "stdout",
       "text": [
        "\r",
        "[.........................]   0.43% Tasks retries:0 Time 0:00:10"
       ]
      },
      {
       "output_type": "stream",
       "stream": "stdout",
       "text": [
        "\r",
        "[.........................]   0.49% Tasks retries:0 Time 0:00:12"
       ]
      },
      {
       "output_type": "stream",
       "stream": "stdout",
       "text": [
        "\r",
        "[.........................]   0.57% Tasks retries:0 Time 0:00:14"
       ]
      },
      {
       "output_type": "stream",
       "stream": "stdout",
       "text": [
        "\r",
        "[.........................]   0.69% Tasks retries:0 Time 0:00:16"
       ]
      },
      {
       "output_type": "stream",
       "stream": "stdout",
       "text": [
        "\r",
        "[.........................]   0.76% Tasks retries:0 Time 0:00:18"
       ]
      },
      {
       "output_type": "stream",
       "stream": "stdout",
       "text": [
        "\r",
        "[.........................]   0.88% Tasks retries:0 Time 0:00:20"
       ]
      },
      {
       "output_type": "stream",
       "stream": "stdout",
       "text": [
        "\r",
        "[.........................]   0.96% Tasks retries:0 Time 0:00:22"
       ]
      },
      {
       "output_type": "stream",
       "stream": "stdout",
       "text": [
        "\r",
        "[.........................]   1.07% Tasks retries:0 Time 0:00:24"
       ]
      },
      {
       "output_type": "stream",
       "stream": "stdout",
       "text": [
        "\r",
        "[.........................]   1.20% Tasks retries:0 Time 0:00:26"
       ]
      },
      {
       "output_type": "stream",
       "stream": "stdout",
       "text": [
        "\r",
        "[.........................]   1.36% Tasks retries:0 Time 0:00:28"
       ]
      },
      {
       "output_type": "stream",
       "stream": "stdout",
       "text": [
        "\r",
        "[.........................]   1.48% Tasks retries:0 Time 0:00:30"
       ]
      },
      {
       "output_type": "stream",
       "stream": "stdout",
       "text": [
        "\r",
        "[.........................]   1.50% Tasks retries:0 Time 0:00:32"
       ]
      },
      {
       "output_type": "stream",
       "stream": "stdout",
       "text": [
        "\r",
        "[.........................]   1.61% Tasks retries:0 Time 0:00:34"
       ]
      },
      {
       "output_type": "stream",
       "stream": "stdout",
       "text": [
        "\r",
        "[.........................]   1.75% Tasks retries:0 Time 0:00:36"
       ]
      },
      {
       "output_type": "stream",
       "stream": "stdout",
       "text": [
        "\r",
        "[.........................]   1.85% Tasks retries:0 Time 0:00:38"
       ]
      },
      {
       "output_type": "stream",
       "stream": "stdout",
       "text": [
        "\r",
        "[.........................]   1.93% Tasks retries:0 Time 0:00:40"
       ]
      },
      {
       "output_type": "stream",
       "stream": "stdout",
       "text": [
        "\r",
        "[.........................]   2.07% Tasks retries:0 Time 0:00:42"
       ]
      },
      {
       "output_type": "stream",
       "stream": "stdout",
       "text": [
        "\r",
        "[.........................]   2.18% Tasks retries:0 Time 0:00:44"
       ]
      },
      {
       "output_type": "stream",
       "stream": "stdout",
       "text": [
        "\r",
        "[.........................]   2.26% Tasks retries:0 Time 0:00:46"
       ]
      },
      {
       "output_type": "stream",
       "stream": "stdout",
       "text": [
        "\r",
        "[.........................]   2.31% Tasks retries:0 Time 0:00:48"
       ]
      },
      {
       "output_type": "stream",
       "stream": "stdout",
       "text": [
        "\r",
        "[.........................]   2.44% Tasks retries:0 Time 0:00:50"
       ]
      },
      {
       "output_type": "stream",
       "stream": "stdout",
       "text": [
        "\r",
        "[.........................]   2.55% Tasks retries:0 Time 0:00:52"
       ]
      },
      {
       "output_type": "stream",
       "stream": "stdout",
       "text": [
        "\r",
        "[.........................]   2.64% Tasks retries:0 Time 0:00:54"
       ]
      },
      {
       "output_type": "stream",
       "stream": "stdout",
       "text": [
        "\r",
        "[.........................]   2.76% Tasks retries:0 Time 0:00:56"
       ]
      },
      {
       "output_type": "stream",
       "stream": "stdout",
       "text": [
        "\r",
        "[.........................]   2.90% Tasks retries:0 Time 0:00:59"
       ]
      },
      {
       "output_type": "stream",
       "stream": "stdout",
       "text": [
        "\r",
        "[.........................]   2.96% Tasks retries:0 Time 0:01:01"
       ]
      },
      {
       "output_type": "stream",
       "stream": "stdout",
       "text": [
        "\r",
        "[.........................]   3.06% Tasks retries:0 Time 0:01:03"
       ]
      },
      {
       "output_type": "stream",
       "stream": "stdout",
       "text": [
        "\r",
        "[.........................]   3.15% Tasks retries:0 Time 0:01:05"
       ]
      },
      {
       "output_type": "stream",
       "stream": "stdout",
       "text": [
        "\r",
        "[.........................]   3.26% Tasks retries:0 Time 0:01:07"
       ]
      },
      {
       "output_type": "stream",
       "stream": "stdout",
       "text": [
        "\r",
        "[.........................]   3.34% Tasks retries:0 Time 0:01:09"
       ]
      },
      {
       "output_type": "stream",
       "stream": "stdout",
       "text": [
        "\r",
        "[.........................]   3.46% Tasks retries:0 Time 0:01:11"
       ]
      },
      {
       "output_type": "stream",
       "stream": "stdout",
       "text": [
        "\r",
        "[.........................]   3.51% Tasks retries:0 Time 0:01:13"
       ]
      },
      {
       "output_type": "stream",
       "stream": "stdout",
       "text": [
        "\r",
        "[.........................]   3.61% Tasks retries:0 Time 0:01:15"
       ]
      },
      {
       "output_type": "stream",
       "stream": "stdout",
       "text": [
        "\r",
        "[.........................]   3.69% Tasks retries:0 Time 0:01:17"
       ]
      },
      {
       "output_type": "stream",
       "stream": "stdout",
       "text": [
        "\r",
        "[.........................]   3.77% Tasks retries:0 Time 0:01:19"
       ]
      },
      {
       "output_type": "stream",
       "stream": "stdout",
       "text": [
        "\r",
        "[.........................]   3.88% Tasks retries:0 Time 0:01:21"
       ]
      },
      {
       "output_type": "stream",
       "stream": "stdout",
       "text": [
        "\r",
        "[.........................]   3.99% Tasks retries:0 Time 0:01:23"
       ]
      },
      {
       "output_type": "stream",
       "stream": "stdout",
       "text": [
        "\r",
        "[=........................]   4.12% Tasks retries:0 Time 0:01:25"
       ]
      },
      {
       "output_type": "stream",
       "stream": "stdout",
       "text": [
        "\r",
        "[=........................]   4.20% Tasks retries:0 Time 0:01:27"
       ]
      },
      {
       "output_type": "stream",
       "stream": "stdout",
       "text": [
        "\r",
        "[=........................]   4.30% Tasks retries:0 Time 0:01:29"
       ]
      },
      {
       "output_type": "stream",
       "stream": "stdout",
       "text": [
        "\r",
        "[=........................]   4.35% Tasks retries:0 Time 0:01:31"
       ]
      },
      {
       "output_type": "stream",
       "stream": "stdout",
       "text": [
        "\r",
        "[=........................]   4.47% Tasks retries:0 Time 0:01:33"
       ]
      },
      {
       "output_type": "stream",
       "stream": "stdout",
       "text": [
        "\r",
        "[=........................]   4.56% Tasks retries:0 Time 0:01:35"
       ]
      },
      {
       "output_type": "stream",
       "stream": "stdout",
       "text": [
        "\r",
        "[=........................]   4.69% Tasks retries:0 Time 0:01:37"
       ]
      },
      {
       "output_type": "stream",
       "stream": "stdout",
       "text": [
        "\r",
        "[=........................]   4.79% Tasks retries:0 Time 0:01:39"
       ]
      },
      {
       "output_type": "stream",
       "stream": "stdout",
       "text": [
        "\r",
        "[=........................]   4.91% Tasks retries:0 Time 0:01:41"
       ]
      },
      {
       "output_type": "stream",
       "stream": "stdout",
       "text": [
        "\r",
        "[=........................]   5.03% Tasks retries:0 Time 0:01:43"
       ]
      },
      {
       "output_type": "stream",
       "stream": "stdout",
       "text": [
        "\r",
        "[=........................]   5.14% Tasks retries:0 Time 0:01:45"
       ]
      },
      {
       "output_type": "stream",
       "stream": "stdout",
       "text": [
        "\r",
        "[=........................]   5.24% Tasks retries:0 Time 0:01:47"
       ]
      },
      {
       "output_type": "stream",
       "stream": "stdout",
       "text": [
        "\r",
        "[=........................]   5.26% Tasks retries:0 Time 0:01:49"
       ]
      },
      {
       "output_type": "stream",
       "stream": "stdout",
       "text": [
        "\r",
        "[=........................]   5.42% Tasks retries:0 Time 0:01:51"
       ]
      },
      {
       "output_type": "stream",
       "stream": "stdout",
       "text": [
        "\r",
        "[=........................]   5.52% Tasks retries:0 Time 0:01:53"
       ]
      },
      {
       "output_type": "stream",
       "stream": "stdout",
       "text": [
        "\r",
        "[=........................]   5.62% Tasks retries:0 Time 0:01:55"
       ]
      },
      {
       "output_type": "stream",
       "stream": "stdout",
       "text": [
        "\r",
        "[=........................]   5.73% Tasks retries:0 Time 0:01:57"
       ]
      },
      {
       "output_type": "stream",
       "stream": "stdout",
       "text": [
        "\r",
        "[=........................]   5.84% Tasks retries:0 Time 0:02:00"
       ]
      },
      {
       "output_type": "stream",
       "stream": "stdout",
       "text": [
        "\r",
        "[=........................]   5.94% Tasks retries:0 Time 0:02:02"
       ]
      },
      {
       "output_type": "stream",
       "stream": "stdout",
       "text": [
        "\r",
        "[=........................]   6.04% Tasks retries:0 Time 0:02:04"
       ]
      },
      {
       "output_type": "stream",
       "stream": "stdout",
       "text": [
        "\r",
        "[=........................]   6.14% Tasks retries:0 Time 0:02:06"
       ]
      },
      {
       "output_type": "stream",
       "stream": "stdout",
       "text": [
        "\r",
        "[=........................]   6.17% Tasks retries:0 Time 0:02:08"
       ]
      },
      {
       "output_type": "stream",
       "stream": "stdout",
       "text": [
        "\r",
        "[=........................]   6.30% Tasks retries:0 Time 0:02:10"
       ]
      },
      {
       "output_type": "stream",
       "stream": "stdout",
       "text": [
        "\r",
        "[=........................]   6.44% Tasks retries:0 Time 0:02:12"
       ]
      },
      {
       "output_type": "stream",
       "stream": "stdout",
       "text": [
        "\r",
        "[=........................]   6.57% Tasks retries:0 Time 0:02:14"
       ]
      },
      {
       "output_type": "stream",
       "stream": "stdout",
       "text": [
        "\r",
        "[=........................]   6.66% Tasks retries:0 Time 0:02:16"
       ]
      },
      {
       "output_type": "stream",
       "stream": "stdout",
       "text": [
        "\r",
        "[=........................]   6.78% Tasks retries:0 Time 0:02:18"
       ]
      },
      {
       "output_type": "stream",
       "stream": "stdout",
       "text": [
        "\r",
        "[=........................]   6.89% Tasks retries:0 Time 0:02:20"
       ]
      },
      {
       "output_type": "stream",
       "stream": "stdout",
       "text": [
        "\r",
        "[=........................]   6.96% Tasks retries:0 Time 0:02:22"
       ]
      },
      {
       "output_type": "stream",
       "stream": "stdout",
       "text": [
        "\r",
        "[=........................]   7.02% Tasks retries:0 Time 0:02:24"
       ]
      },
      {
       "output_type": "stream",
       "stream": "stdout",
       "text": [
        "\r",
        "[=........................]   7.14% Tasks retries:0 Time 0:02:26"
       ]
      },
      {
       "output_type": "stream",
       "stream": "stdout",
       "text": [
        "\r",
        "[=........................]   7.22% Tasks retries:0 Time 0:02:28"
       ]
      },
      {
       "output_type": "stream",
       "stream": "stdout",
       "text": [
        "\r",
        "[=........................]   7.35% Tasks retries:0 Time 0:02:30"
       ]
      },
      {
       "output_type": "stream",
       "stream": "stdout",
       "text": [
        "\r",
        "[=........................]   7.46% Tasks retries:0 Time 0:02:32"
       ]
      },
      {
       "output_type": "stream",
       "stream": "stdout",
       "text": [
        "\r",
        "[=........................]   7.59% Tasks retries:0 Time 0:02:34"
       ]
      },
      {
       "output_type": "stream",
       "stream": "stdout",
       "text": [
        "\r",
        "[=........................]   7.71% Tasks retries:0 Time 0:02:36"
       ]
      },
      {
       "output_type": "stream",
       "stream": "stdout",
       "text": [
        "\r",
        "[=........................]   7.75% Tasks retries:0 Time 0:02:38"
       ]
      },
      {
       "output_type": "stream",
       "stream": "stdout",
       "text": [
        "\r",
        "[=........................]   7.90% Tasks retries:0 Time 0:02:40"
       ]
      },
      {
       "output_type": "stream",
       "stream": "stdout",
       "text": [
        "\r",
        "[==.......................]   8.00% Tasks retries:0 Time 0:02:42"
       ]
      },
      {
       "output_type": "stream",
       "stream": "stdout",
       "text": [
        "\r",
        "[==.......................]   8.09% Tasks retries:0 Time 0:02:44"
       ]
      },
      {
       "output_type": "stream",
       "stream": "stdout",
       "text": [
        "\r",
        "[==.......................]   8.18% Tasks retries:0 Time 0:02:46"
       ]
      },
      {
       "output_type": "stream",
       "stream": "stdout",
       "text": [
        "\r",
        "[==.......................]   8.30% Tasks retries:0 Time 0:02:48"
       ]
      },
      {
       "output_type": "stream",
       "stream": "stdout",
       "text": [
        "\r",
        "[==.......................]   8.38% Tasks retries:0 Time 0:02:50"
       ]
      },
      {
       "output_type": "stream",
       "stream": "stdout",
       "text": [
        "\r",
        "[==.......................]   8.45% Tasks retries:0 Time 0:02:52"
       ]
      },
      {
       "output_type": "stream",
       "stream": "stdout",
       "text": [
        "\r",
        "[==.......................]   8.55% Tasks retries:0 Time 0:02:54"
       ]
      },
      {
       "output_type": "stream",
       "stream": "stdout",
       "text": [
        "\r",
        "[==.......................]   8.64% Tasks retries:0 Time 0:02:56"
       ]
      },
      {
       "output_type": "stream",
       "stream": "stdout",
       "text": [
        "\r",
        "[==.......................]   8.72% Tasks retries:0 Time 0:02:58"
       ]
      },
      {
       "output_type": "stream",
       "stream": "stdout",
       "text": [
        "\r",
        "[==.......................]   8.83% Tasks retries:0 Time 0:03:01"
       ]
      },
      {
       "output_type": "stream",
       "stream": "stdout",
       "text": [
        "\r",
        "[==.......................]   8.95% Tasks retries:0 Time 0:03:03"
       ]
      },
      {
       "output_type": "stream",
       "stream": "stdout",
       "text": [
        "\r",
        "[==.......................]   9.09% Tasks retries:0 Time 0:03:05"
       ]
      },
      {
       "output_type": "stream",
       "stream": "stdout",
       "text": [
        "\r",
        "[==.......................]   9.20% Tasks retries:0 Time 0:03:07"
       ]
      },
      {
       "output_type": "stream",
       "stream": "stdout",
       "text": [
        "\r",
        "[==.......................]   9.29% Tasks retries:0 Time 0:03:09"
       ]
      },
      {
       "output_type": "stream",
       "stream": "stdout",
       "text": [
        "\r",
        "[==.......................]   9.41% Tasks retries:0 Time 0:03:11"
       ]
      },
      {
       "output_type": "stream",
       "stream": "stdout",
       "text": [
        "\r",
        "[==.......................]   9.52% Tasks retries:0 Time 0:03:13"
       ]
      },
      {
       "output_type": "stream",
       "stream": "stdout",
       "text": [
        "\r",
        "[==.......................]   9.61% Tasks retries:0 Time 0:03:15"
       ]
      },
      {
       "output_type": "stream",
       "stream": "stdout",
       "text": [
        "\r",
        "[==.......................]   9.75% Tasks retries:0 Time 0:03:17"
       ]
      },
      {
       "output_type": "stream",
       "stream": "stdout",
       "text": [
        "\r",
        "[==.......................]   9.86% Tasks retries:0 Time 0:03:19"
       ]
      },
      {
       "output_type": "stream",
       "stream": "stdout",
       "text": [
        "\r",
        "[==.......................]   9.98% Tasks retries:0 Time 0:03:21"
       ]
      },
      {
       "output_type": "stream",
       "stream": "stdout",
       "text": [
        "\r",
        "[==.......................]  10.03% Tasks retries:0 Time 0:03:23"
       ]
      },
      {
       "output_type": "stream",
       "stream": "stdout",
       "text": [
        "\r",
        "[==.......................]  10.12% Tasks retries:0 Time 0:03:25"
       ]
      },
      {
       "output_type": "stream",
       "stream": "stdout",
       "text": [
        "\r",
        "[==.......................]  10.23% Tasks retries:0 Time 0:03:27"
       ]
      },
      {
       "output_type": "stream",
       "stream": "stdout",
       "text": [
        "\r",
        "[==.......................]  10.34% Tasks retries:0 Time 0:03:29"
       ]
      },
      {
       "output_type": "stream",
       "stream": "stdout",
       "text": [
        "\r",
        "[==.......................]  10.43% Tasks retries:0 Time 0:03:31"
       ]
      },
      {
       "output_type": "stream",
       "stream": "stdout",
       "text": [
        "\r",
        "[==.......................]  10.53% Tasks retries:0 Time 0:03:33"
       ]
      },
      {
       "output_type": "stream",
       "stream": "stdout",
       "text": [
        "\r",
        "[==.......................]  10.66% Tasks retries:0 Time 0:03:35"
       ]
      },
      {
       "output_type": "stream",
       "stream": "stdout",
       "text": [
        "\r",
        "[==.......................]  10.76% Tasks retries:0 Time 0:03:37"
       ]
      },
      {
       "output_type": "stream",
       "stream": "stdout",
       "text": [
        "\r",
        "[==.......................]  10.80% Tasks retries:0 Time 0:03:39"
       ]
      },
      {
       "output_type": "stream",
       "stream": "stdout",
       "text": [
        "\r",
        "[==.......................]  10.90% Tasks retries:0 Time 0:03:41"
       ]
      },
      {
       "output_type": "stream",
       "stream": "stdout",
       "text": [
        "\r",
        "[==.......................]  11.04% Tasks retries:0 Time 0:03:43"
       ]
      },
      {
       "output_type": "stream",
       "stream": "stdout",
       "text": [
        "\r",
        "[==.......................]  11.16% Tasks retries:0 Time 0:03:45"
       ]
      },
      {
       "output_type": "stream",
       "stream": "stdout",
       "text": [
        "\r",
        "[==.......................]  11.26% Tasks retries:0 Time 0:03:47"
       ]
      },
      {
       "output_type": "stream",
       "stream": "stdout",
       "text": [
        "\r",
        "[==.......................]  11.35% Tasks retries:0 Time 0:03:49"
       ]
      },
      {
       "output_type": "stream",
       "stream": "stdout",
       "text": [
        "\r",
        "[==.......................]  11.38% Tasks retries:0 Time 0:03:51"
       ]
      },
      {
       "output_type": "stream",
       "stream": "stdout",
       "text": [
        "\r",
        "[==.......................]  11.45% Tasks retries:0 Time 0:03:53"
       ]
      },
      {
       "output_type": "stream",
       "stream": "stdout",
       "text": [
        "\r",
        "[==.......................]  11.58% Tasks retries:0 Time 0:03:56"
       ]
      },
      {
       "output_type": "stream",
       "stream": "stdout",
       "text": [
        "\r",
        "[==.......................]  11.63% Tasks retries:0 Time 0:03:58"
       ]
      },
      {
       "output_type": "stream",
       "stream": "stdout",
       "text": [
        "\r",
        "[==.......................]  11.66% Tasks retries:0 Time 0:04:00"
       ]
      },
      {
       "output_type": "stream",
       "stream": "stdout",
       "text": [
        "\r",
        "[==.......................]  11.71% Tasks retries:0 Time 0:04:02"
       ]
      },
      {
       "output_type": "stream",
       "stream": "stdout",
       "text": [
        "\r",
        "[==.......................]  11.78% Tasks retries:0 Time 0:04:04"
       ]
      },
      {
       "output_type": "stream",
       "stream": "stdout",
       "text": [
        "\r",
        "[==.......................]  11.82% Tasks retries:0 Time 0:04:06"
       ]
      },
      {
       "output_type": "stream",
       "stream": "stdout",
       "text": [
        "\r",
        "[==.......................]  11.84% Tasks retries:0 Time 0:04:08"
       ]
      },
      {
       "output_type": "stream",
       "stream": "stdout",
       "text": [
        "\r",
        "[==.......................]  11.88% Tasks retries:0 Time 0:04:10"
       ]
      },
      {
       "output_type": "stream",
       "stream": "stdout",
       "text": [
        "\r",
        "[==.......................]  11.93% Tasks retries:0 Time 0:04:12"
       ]
      },
      {
       "output_type": "stream",
       "stream": "stdout",
       "text": [
        "\r",
        "[==.......................]  11.93% Tasks retries:0 Time 0:04:14"
       ]
      },
      {
       "output_type": "stream",
       "stream": "stdout",
       "text": [
        "\r",
        "[==.......................]  11.95% Tasks retries:0 Time 0:04:16"
       ]
      },
      {
       "output_type": "stream",
       "stream": "stdout",
       "text": [
        "\r",
        "[==.......................]  11.97% Tasks retries:0 Time 0:04:18"
       ]
      },
      {
       "output_type": "stream",
       "stream": "stdout",
       "text": [
        "\r",
        "[==.......................]  11.99% Tasks retries:0 Time 0:04:20"
       ]
      },
      {
       "output_type": "stream",
       "stream": "stdout",
       "text": [
        "\r",
        "[===......................]  12.02% Tasks retries:0 Time 0:04:22"
       ]
      },
      {
       "output_type": "stream",
       "stream": "stdout",
       "text": [
        "\r",
        "[===......................]  12.02% Tasks retries:0 Time 0:04:24"
       ]
      },
      {
       "output_type": "stream",
       "stream": "stdout",
       "text": [
        "\r",
        "[===......................]  12.07% Tasks retries:0 Time 0:04:26"
       ]
      },
      {
       "output_type": "stream",
       "stream": "stdout",
       "text": [
        "\r",
        "[===......................]  12.09% Tasks retries:0 Time 0:04:28"
       ]
      },
      {
       "output_type": "stream",
       "stream": "stdout",
       "text": [
        "\r",
        "[===......................]  12.12% Tasks retries:0 Time 0:04:30"
       ]
      },
      {
       "output_type": "stream",
       "stream": "stdout",
       "text": [
        "\r",
        "[===......................]  12.13% Tasks retries:0 Time 0:04:32"
       ]
      },
      {
       "output_type": "stream",
       "stream": "stdout",
       "text": [
        "\r",
        "[===......................]  12.13% Tasks retries:0 Time 0:04:34"
       ]
      },
      {
       "output_type": "stream",
       "stream": "stdout",
       "text": [
        "\r",
        "[===......................]  12.13% Tasks retries:0 Time 0:04:36"
       ]
      },
      {
       "output_type": "stream",
       "stream": "stdout",
       "text": [
        "\r",
        "[===......................]  12.14% Tasks retries:0 Time 0:04:38"
       ]
      },
      {
       "output_type": "stream",
       "stream": "stdout",
       "text": [
        "\r",
        "[===......................]  12.14% Tasks retries:0 Time 0:04:40"
       ]
      },
      {
       "output_type": "stream",
       "stream": "stdout",
       "text": [
        "\r",
        "[===......................]  12.15% Tasks retries:0 Time 0:04:43"
       ]
      },
      {
       "output_type": "stream",
       "stream": "stdout",
       "text": [
        "\r",
        "[===......................]  12.16% Tasks retries:0 Time 0:04:45"
       ]
      },
      {
       "output_type": "stream",
       "stream": "stdout",
       "text": [
        "\r",
        "[===......................]  12.17% Tasks retries:0 Time 0:04:47"
       ]
      },
      {
       "output_type": "stream",
       "stream": "stdout",
       "text": [
        "\r",
        "[===......................]  12.17% Tasks retries:0 Time 0:04:49"
       ]
      },
      {
       "output_type": "stream",
       "stream": "stdout",
       "text": [
        "\r",
        "[===......................]  12.17% Tasks retries:0 Time 0:04:51"
       ]
      },
      {
       "output_type": "stream",
       "stream": "stdout",
       "text": [
        "\r",
        "[===......................]  12.18% Tasks retries:0 Time 0:04:53"
       ]
      },
      {
       "output_type": "stream",
       "stream": "stdout",
       "text": [
        "\r",
        "[===......................]  12.18% Tasks retries:0 Time 0:04:55"
       ]
      },
      {
       "output_type": "stream",
       "stream": "stdout",
       "text": [
        "\r",
        "[===......................]  12.19% Tasks retries:0 Time 0:04:57"
       ]
      },
      {
       "output_type": "stream",
       "stream": "stdout",
       "text": [
        "\r",
        "[===......................]  12.19% Tasks retries:0 Time 0:04:59"
       ]
      },
      {
       "output_type": "stream",
       "stream": "stdout",
       "text": [
        "\r",
        "[===......................]  12.19% Tasks retries:0 Time 0:05:01"
       ]
      },
      {
       "output_type": "stream",
       "stream": "stdout",
       "text": [
        "\r",
        "[===......................]  12.20% Tasks retries:0 Time 0:05:03"
       ]
      },
      {
       "output_type": "stream",
       "stream": "stdout",
       "text": [
        "\r",
        "[===......................]  12.20% Tasks retries:0 Time 0:05:05"
       ]
      },
      {
       "output_type": "stream",
       "stream": "stdout",
       "text": [
        "\r",
        "[===......................]  12.20% Tasks retries:0 Time 0:05:07"
       ]
      },
      {
       "output_type": "stream",
       "stream": "stdout",
       "text": [
        "\r",
        "[===......................]  12.21% Tasks retries:0 Time 0:05:09"
       ]
      },
      {
       "output_type": "stream",
       "stream": "stdout",
       "text": [
        "\r",
        "[===......................]  12.21% Tasks retries:0 Time 0:05:11"
       ]
      },
      {
       "output_type": "stream",
       "stream": "stdout",
       "text": [
        "\r",
        "[===......................]  12.21% Tasks retries:0 Time 0:05:13"
       ]
      },
      {
       "output_type": "stream",
       "stream": "stdout",
       "text": [
        "\r",
        "[===......................]  12.22% Tasks retries:0 Time 0:05:15"
       ]
      },
      {
       "output_type": "stream",
       "stream": "stdout",
       "text": [
        "\r",
        "[===......................]  12.22% Tasks retries:0 Time 0:05:17"
       ]
      },
      {
       "output_type": "stream",
       "stream": "stdout",
       "text": [
        "\r",
        "[===......................]  12.22% Tasks retries:0 Time 0:05:19"
       ]
      },
      {
       "output_type": "stream",
       "stream": "stdout",
       "text": [
        "\r",
        "[===......................]  12.23% Tasks retries:0 Time 0:05:21"
       ]
      },
      {
       "output_type": "stream",
       "stream": "stdout",
       "text": [
        "\r",
        "[===......................]  12.23% Tasks retries:0 Time 0:05:23"
       ]
      },
      {
       "output_type": "stream",
       "stream": "stdout",
       "text": [
        "\r",
        "[===......................]  12.23% Tasks retries:0 Time 0:05:26"
       ]
      },
      {
       "output_type": "stream",
       "stream": "stdout",
       "text": [
        "\r",
        "[===......................]  12.23% Tasks retries:0 Time 0:05:28"
       ]
      },
      {
       "output_type": "stream",
       "stream": "stdout",
       "text": [
        "\r",
        "[===......................]  12.23% Tasks retries:0 Time 0:05:30"
       ]
      },
      {
       "output_type": "stream",
       "stream": "stdout",
       "text": [
        "\r",
        "[===......................]  12.23% Tasks retries:0 Time 0:05:32"
       ]
      },
      {
       "output_type": "stream",
       "stream": "stdout",
       "text": [
        "\r",
        "[===......................]  12.24% Tasks retries:0 Time 0:05:34"
       ]
      },
      {
       "output_type": "stream",
       "stream": "stdout",
       "text": [
        "\r",
        "[===......................]  12.24% Tasks retries:0 Time 0:05:36"
       ]
      },
      {
       "output_type": "stream",
       "stream": "stdout",
       "text": [
        "\r",
        "[===......................]  12.24% Tasks retries:0 Time 0:05:38"
       ]
      },
      {
       "output_type": "stream",
       "stream": "stdout",
       "text": [
        "\r",
        "[===......................]  12.24% Tasks retries:0 Time 0:05:40"
       ]
      },
      {
       "output_type": "stream",
       "stream": "stdout",
       "text": [
        "\r",
        "[===......................]  12.24% Tasks retries:0 Time 0:05:42"
       ]
      },
      {
       "output_type": "stream",
       "stream": "stdout",
       "text": [
        "\r",
        "[===......................]  12.24% Tasks retries:0 Time 0:05:44"
       ]
      },
      {
       "output_type": "stream",
       "stream": "stdout",
       "text": [
        "\r",
        "[===......................]  12.25% Tasks retries:0 Time 0:05:46"
       ]
      },
      {
       "output_type": "stream",
       "stream": "stdout",
       "text": [
        "\r",
        "[===......................]  12.25% Tasks retries:0 Time 0:05:48"
       ]
      },
      {
       "output_type": "stream",
       "stream": "stdout",
       "text": [
        "\r",
        "[===......................]  12.25% Tasks retries:0 Time 0:05:50"
       ]
      },
      {
       "output_type": "stream",
       "stream": "stdout",
       "text": [
        "\r",
        "[===......................]  12.25% Tasks retries:0 Time 0:05:52"
       ]
      },
      {
       "output_type": "stream",
       "stream": "stdout",
       "text": [
        "\r",
        "[===......................]  12.25% Tasks retries:0 Time 0:05:54"
       ]
      },
      {
       "output_type": "stream",
       "stream": "stdout",
       "text": [
        "\r",
        "[===......................]  12.25% Tasks retries:0 Time 0:05:56"
       ]
      },
      {
       "output_type": "stream",
       "stream": "stdout",
       "text": [
        "\r",
        "[===......................]  12.26% Tasks retries:0 Time 0:05:58"
       ]
      },
      {
       "output_type": "stream",
       "stream": "stdout",
       "text": [
        "\r",
        "[===......................]  12.26% Tasks retries:0 Time 0:06:00"
       ]
      },
      {
       "output_type": "stream",
       "stream": "stdout",
       "text": [
        "\r",
        "[===......................]  12.26% Tasks retries:0 Time 0:06:02"
       ]
      },
      {
       "output_type": "stream",
       "stream": "stdout",
       "text": [
        "\r",
        "[===......................]  12.26% Tasks retries:0 Time 0:06:04"
       ]
      },
      {
       "output_type": "stream",
       "stream": "stdout",
       "text": [
        "\r",
        "[===......................]  12.26% Tasks retries:0 Time 0:06:06"
       ]
      },
      {
       "output_type": "stream",
       "stream": "stdout",
       "text": [
        "\r",
        "[===......................]  12.26% Tasks retries:0 Time 0:06:08"
       ]
      },
      {
       "output_type": "stream",
       "stream": "stdout",
       "text": [
        "\r",
        "[===......................]  12.26% Tasks retries:0 Time 0:06:10"
       ]
      },
      {
       "output_type": "stream",
       "stream": "stdout",
       "text": [
        "\r",
        "[===......................]  12.27% Tasks retries:0 Time 0:06:12"
       ]
      },
      {
       "output_type": "stream",
       "stream": "stdout",
       "text": [
        "\r",
        "[===......................]  12.27% Tasks retries:0 Time 0:06:14"
       ]
      },
      {
       "output_type": "stream",
       "stream": "stdout",
       "text": [
        "\r",
        "[===......................]  12.27% Tasks retries:0 Time 0:06:16"
       ]
      },
      {
       "output_type": "stream",
       "stream": "stdout",
       "text": [
        "\r",
        "[===......................]  12.27% Tasks retries:0 Time 0:06:18"
       ]
      },
      {
       "output_type": "stream",
       "stream": "stdout",
       "text": [
        "\r",
        "[===......................]  12.27% Tasks retries:0 Time 0:06:21"
       ]
      },
      {
       "output_type": "stream",
       "stream": "stdout",
       "text": [
        "\r",
        "[===......................]  12.27% Tasks retries:0 Time 0:06:25"
       ]
      },
      {
       "output_type": "stream",
       "stream": "stdout",
       "text": [
        "\r",
        "[===......................]  12.27% Tasks retries:0 Time 0:06:28"
       ]
      },
      {
       "output_type": "stream",
       "stream": "stdout",
       "text": [
        "\r",
        "[===......................]  12.27% Tasks retries:0 Time 0:06:31"
       ]
      },
      {
       "output_type": "stream",
       "stream": "stdout",
       "text": [
        "\r",
        "[===......................]  12.27% Tasks retries:0 Time 0:06:34"
       ]
      },
      {
       "output_type": "stream",
       "stream": "stdout",
       "text": [
        "\r",
        "[===......................]  12.27% Tasks retries:0 Time 0:06:37"
       ]
      },
      {
       "output_type": "stream",
       "stream": "stdout",
       "text": [
        "\r",
        "[===......................]  12.27% Tasks retries:0 Time 0:06:40"
       ]
      },
      {
       "output_type": "stream",
       "stream": "stdout",
       "text": [
        "\r",
        "[===......................]  12.27% Tasks retries:0 Time 0:06:43"
       ]
      },
      {
       "output_type": "stream",
       "stream": "stdout",
       "text": [
        "\r",
        "[===......................]  12.27% Tasks retries:0 Time 0:06:46"
       ]
      },
      {
       "output_type": "stream",
       "stream": "stdout",
       "text": [
        "\r",
        "[===......................]  12.27% Tasks retries:0 Time 0:06:49"
       ]
      },
      {
       "output_type": "stream",
       "stream": "stdout",
       "text": [
        "\r",
        "[===......................]  12.27% Tasks retries:0 Time 0:06:52"
       ]
      },
      {
       "output_type": "stream",
       "stream": "stdout",
       "text": [
        "\r",
        "[===......................]  12.27% Tasks retries:0 Time 0:06:55"
       ]
      },
      {
       "output_type": "stream",
       "stream": "stdout",
       "text": [
        "\r",
        "[===......................]  12.28% Tasks retries:0 Time 0:06:58"
       ]
      },
      {
       "output_type": "stream",
       "stream": "stdout",
       "text": [
        "\r",
        "[===......................]  12.28% Tasks retries:0 Time 0:07:01"
       ]
      },
      {
       "output_type": "stream",
       "stream": "stdout",
       "text": [
        "\r",
        "[===......................]  12.28% Tasks retries:0 Time 0:07:04"
       ]
      },
      {
       "output_type": "stream",
       "stream": "stdout",
       "text": [
        "\r",
        "[===......................]  12.29% Tasks retries:0 Time 0:07:07"
       ]
      },
      {
       "output_type": "stream",
       "stream": "stdout",
       "text": [
        "\r",
        "[===......................]  12.29% Tasks retries:0 Time 0:07:10"
       ]
      },
      {
       "output_type": "stream",
       "stream": "stdout",
       "text": [
        "\r",
        "[===......................]  12.30% Tasks retries:0 Time 0:07:13"
       ]
      },
      {
       "output_type": "stream",
       "stream": "stdout",
       "text": [
        "\r",
        "[===......................]  12.30% Tasks retries:0 Time 0:07:16"
       ]
      },
      {
       "output_type": "stream",
       "stream": "stdout",
       "text": [
        "\r",
        "[===......................]  12.31% Tasks retries:0 Time 0:07:19"
       ]
      },
      {
       "output_type": "stream",
       "stream": "stdout",
       "text": [
        "\r",
        "[===......................]  12.32% Tasks retries:0 Time 0:07:22"
       ]
      },
      {
       "output_type": "stream",
       "stream": "stdout",
       "text": [
        "\r",
        "[===......................]  12.32% Tasks retries:0 Time 0:07:25"
       ]
      },
      {
       "output_type": "stream",
       "stream": "stdout",
       "text": [
        "\r",
        "[===......................]  12.32% Tasks retries:0 Time 0:07:28"
       ]
      },
      {
       "output_type": "stream",
       "stream": "stdout",
       "text": [
        "\r",
        "[===......................]  12.33% Tasks retries:0 Time 0:07:31"
       ]
      },
      {
       "output_type": "stream",
       "stream": "stdout",
       "text": [
        "\r",
        "[===......................]  12.33% Tasks retries:0 Time 0:07:34"
       ]
      },
      {
       "output_type": "stream",
       "stream": "stdout",
       "text": [
        "\r",
        "[===......................]  12.33% Tasks retries:0 Time 0:07:37"
       ]
      },
      {
       "output_type": "stream",
       "stream": "stdout",
       "text": [
        "\r",
        "[===......................]  12.33% Tasks retries:0 Time 0:07:41"
       ]
      },
      {
       "output_type": "stream",
       "stream": "stdout",
       "text": [
        "\r",
        "[===......................]  12.33% Tasks retries:0 Time 0:07:44"
       ]
      },
      {
       "output_type": "stream",
       "stream": "stdout",
       "text": [
        "\r",
        "[===......................]  12.34% Tasks retries:0 Time 0:07:47"
       ]
      },
      {
       "output_type": "stream",
       "stream": "stdout",
       "text": [
        "\r",
        "[===......................]  12.34% Tasks retries:0 Time 0:07:51"
       ]
      },
      {
       "output_type": "stream",
       "stream": "stdout",
       "text": [
        "\r",
        "[===......................]  12.35% Tasks retries:0 Time 0:07:55"
       ]
      },
      {
       "output_type": "stream",
       "stream": "stdout",
       "text": [
        "\r",
        "[===......................]  12.36% Tasks retries:0 Time 0:07:59"
       ]
      },
      {
       "output_type": "stream",
       "stream": "stdout",
       "text": [
        "\r",
        "[===......................]  12.36% Tasks retries:0 Time 0:08:03"
       ]
      },
      {
       "output_type": "stream",
       "stream": "stdout",
       "text": [
        "\r",
        "[===......................]  12.38% Tasks retries:0 Time 0:08:07"
       ]
      },
      {
       "output_type": "stream",
       "stream": "stdout",
       "text": [
        "\r",
        "[===......................]  12.39% Tasks retries:0 Time 0:08:11"
       ]
      },
      {
       "output_type": "stream",
       "stream": "stdout",
       "text": [
        "\r",
        "[===......................]  12.41% Tasks retries:0 Time 0:08:15"
       ]
      },
      {
       "output_type": "stream",
       "stream": "stdout",
       "text": [
        "\r",
        "[===......................]  12.44% Tasks retries:0 Time 0:08:19"
       ]
      },
      {
       "output_type": "stream",
       "stream": "stdout",
       "text": [
        "\r",
        "[===......................]  12.44% Tasks retries:0 Time 0:08:23"
       ]
      },
      {
       "output_type": "stream",
       "stream": "stdout",
       "text": [
        "\r",
        "[===......................]  12.45% Tasks retries:0 Time 0:08:27"
       ]
      },
      {
       "output_type": "stream",
       "stream": "stdout",
       "text": [
        "\r",
        "[===......................]  12.50% Tasks retries:0 Time 0:08:31"
       ]
      },
      {
       "output_type": "stream",
       "stream": "stdout",
       "text": [
        "\r",
        "[===......................]  13.24% Tasks retries:0 Time 0:08:35"
       ]
      },
      {
       "output_type": "stream",
       "stream": "stdout",
       "text": [
        "\r",
        "[====.....................]  18.63% Tasks retries:0 Time 0:08:39"
       ]
      },
      {
       "output_type": "stream",
       "stream": "stdout",
       "text": [
        "\r",
        "[====.....................]  18.74% Tasks retries:0 Time 0:08:43"
       ]
      },
      {
       "output_type": "stream",
       "stream": "stdout",
       "text": [
        "\r",
        "[========.................]  32.18% Tasks retries:0 Time 0:08:47"
       ]
      },
      {
       "output_type": "stream",
       "stream": "stdout",
       "text": [
        "\r",
        "[=========................]  37.50% Tasks retries:0 Time 0:08:51"
       ]
      },
      {
       "output_type": "stream",
       "stream": "stdout",
       "text": [
        "\r",
        "[=========................]  37.55% Tasks retries:0 Time 0:08:55"
       ]
      },
      {
       "output_type": "stream",
       "stream": "stdout",
       "text": [
        "\r",
        "[=========................]  37.55% Tasks retries:0 Time 0:08:59"
       ]
      },
      {
       "output_type": "stream",
       "stream": "stdout",
       "text": [
        "\r",
        "[=========................]  37.55% Tasks retries:0 Time 0:09:03"
       ]
      },
      {
       "output_type": "stream",
       "stream": "stdout",
       "text": [
        "\r",
        "[=========................]  37.55% Tasks retries:0 Time 0:09:07"
       ]
      },
      {
       "output_type": "stream",
       "stream": "stdout",
       "text": [
        "\r",
        "[=========................]  37.65% Tasks retries:0 Time 0:09:11"
       ]
      },
      {
       "output_type": "stream",
       "stream": "stdout",
       "text": [
        "\r",
        "[=========................]  38.04% Tasks retries:0 Time 0:09:15"
       ]
      },
      {
       "output_type": "stream",
       "stream": "stdout",
       "text": [
        "\r",
        "[=========................]  38.07% Tasks retries:0 Time 0:09:20"
       ]
      },
      {
       "output_type": "stream",
       "stream": "stdout",
       "text": [
        "\r",
        "[=========................]  38.08% Tasks retries:0 Time 0:09:24"
       ]
      },
      {
       "output_type": "stream",
       "stream": "stdout",
       "text": [
        "\r",
        "[=========................]  38.11% Tasks retries:0 Time 0:09:28"
       ]
      },
      {
       "output_type": "stream",
       "stream": "stdout",
       "text": [
        "\r",
        "[=========................]  38.21% Tasks retries:0 Time 0:09:32"
       ]
      },
      {
       "output_type": "stream",
       "stream": "stdout",
       "text": [
        "\r",
        "[=========................]  38.30% Tasks retries:0 Time 0:09:36"
       ]
      },
      {
       "output_type": "stream",
       "stream": "stdout",
       "text": [
        "\r",
        "[=========................]  38.48% Tasks retries:0 Time 0:09:40"
       ]
      },
      {
       "output_type": "stream",
       "stream": "stdout",
       "text": [
        "\r",
        "[=========................]  38.60% Tasks retries:0 Time 0:09:44"
       ]
      },
      {
       "output_type": "stream",
       "stream": "stdout",
       "text": [
        "\r",
        "[=========................]  38.64% Tasks retries:0 Time 0:09:48"
       ]
      },
      {
       "output_type": "stream",
       "stream": "stdout",
       "text": [
        "\r",
        "[=========................]  38.72% Tasks retries:0 Time 0:09:52"
       ]
      },
      {
       "output_type": "stream",
       "stream": "stdout",
       "text": [
        "\r",
        "[=========................]  38.78% Tasks retries:0 Time 0:09:56"
       ]
      },
      {
       "output_type": "stream",
       "stream": "stdout",
       "text": [
        "\r",
        "[=========................]  38.92% Tasks retries:0 Time 0:10:00"
       ]
      },
      {
       "output_type": "stream",
       "stream": "stdout",
       "text": [
        "\r",
        "[=========................]  39.06% Tasks retries:0 Time 0:10:04"
       ]
      },
      {
       "output_type": "stream",
       "stream": "stdout",
       "text": [
        "\r",
        "[=========................]  39.14% Tasks retries:0 Time 0:10:08"
       ]
      },
      {
       "output_type": "stream",
       "stream": "stdout",
       "text": [
        "\r",
        "[=========................]  39.22% Tasks retries:0 Time 0:10:12"
       ]
      },
      {
       "output_type": "stream",
       "stream": "stdout",
       "text": [
        "\r",
        "[=========................]  39.33% Tasks retries:0 Time 0:10:16"
       ]
      },
      {
       "output_type": "stream",
       "stream": "stdout",
       "text": [
        "\r",
        "[=========................]  39.39% Tasks retries:0 Time 0:10:20"
       ]
      },
      {
       "output_type": "stream",
       "stream": "stdout",
       "text": [
        "\r",
        "[=========................]  39.50% Tasks retries:0 Time 0:10:24"
       ]
      },
      {
       "output_type": "stream",
       "stream": "stdout",
       "text": [
        "\r",
        "[=========................]  39.60% Tasks retries:0 Time 0:10:28"
       ]
      },
      {
       "output_type": "stream",
       "stream": "stdout",
       "text": [
        "\r",
        "[=========................]  39.69% Tasks retries:0 Time 0:10:32"
       ]
      },
      {
       "output_type": "stream",
       "stream": "stdout",
       "text": [
        "\r",
        "[=========................]  39.78% Tasks retries:0 Time 0:10:36"
       ]
      },
      {
       "output_type": "stream",
       "stream": "stdout",
       "text": [
        "\r",
        "[=========................]  39.87% Tasks retries:0 Time 0:10:40"
       ]
      },
      {
       "output_type": "stream",
       "stream": "stdout",
       "text": [
        "\r",
        "[=========................]  39.95% Tasks retries:0 Time 0:10:44"
       ]
      },
      {
       "output_type": "stream",
       "stream": "stdout",
       "text": [
        "\r",
        "[==========...............]  40.04% Tasks retries:0 Time 0:10:48"
       ]
      },
      {
       "output_type": "stream",
       "stream": "stdout",
       "text": [
        "\r",
        "[==========...............]  40.16% Tasks retries:0 Time 0:10:52"
       ]
      },
      {
       "output_type": "stream",
       "stream": "stdout",
       "text": [
        "\r",
        "[==========...............]  40.23% Tasks retries:0 Time 0:10:56"
       ]
      },
      {
       "output_type": "stream",
       "stream": "stdout",
       "text": [
        "\r",
        "[==========...............]  40.33% Tasks retries:0 Time 0:11:00"
       ]
      },
      {
       "output_type": "stream",
       "stream": "stdout",
       "text": [
        "\r",
        "[==========...............]  40.40% Tasks retries:0 Time 0:11:05"
       ]
      },
      {
       "output_type": "stream",
       "stream": "stdout",
       "text": [
        "\r",
        "[==========...............]  40.51% Tasks retries:0 Time 0:11:09"
       ]
      },
      {
       "output_type": "stream",
       "stream": "stdout",
       "text": [
        "\r",
        "[==========...............]  40.61% Tasks retries:0 Time 0:11:13"
       ]
      },
      {
       "output_type": "stream",
       "stream": "stdout",
       "text": [
        "\r",
        "[==========...............]  40.70% Tasks retries:0 Time 0:11:17"
       ]
      },
      {
       "output_type": "stream",
       "stream": "stdout",
       "text": [
        "\r",
        "[==========...............]  40.76% Tasks retries:0 Time 0:11:21"
       ]
      },
      {
       "output_type": "stream",
       "stream": "stdout",
       "text": [
        "\r",
        "[==========...............]  40.88% Tasks retries:0 Time 0:11:25"
       ]
      },
      {
       "output_type": "stream",
       "stream": "stdout",
       "text": [
        "\r",
        "[==========...............]  40.95% Tasks retries:0 Time 0:11:29"
       ]
      },
      {
       "output_type": "stream",
       "stream": "stdout",
       "text": [
        "\r",
        "[==========...............]  41.04% Tasks retries:0 Time 0:11:33"
       ]
      },
      {
       "output_type": "stream",
       "stream": "stdout",
       "text": [
        "\r",
        "[==========...............]  41.14% Tasks retries:0 Time 0:11:37"
       ]
      },
      {
       "output_type": "stream",
       "stream": "stdout",
       "text": [
        "\r",
        "[==========...............]  41.24% Tasks retries:0 Time 0:11:41"
       ]
      },
      {
       "output_type": "stream",
       "stream": "stdout",
       "text": [
        "\r",
        "[==========...............]  41.34% Tasks retries:0 Time 0:11:45"
       ]
      },
      {
       "output_type": "stream",
       "stream": "stdout",
       "text": [
        "\r",
        "[==========...............]  41.41% Tasks retries:0 Time 0:11:49"
       ]
      },
      {
       "output_type": "stream",
       "stream": "stdout",
       "text": [
        "\r",
        "[==========...............]  41.51% Tasks retries:0 Time 0:11:53"
       ]
      },
      {
       "output_type": "stream",
       "stream": "stdout",
       "text": [
        "\r",
        "[==========...............]  41.62% Tasks retries:0 Time 0:11:57"
       ]
      },
      {
       "output_type": "stream",
       "stream": "stdout",
       "text": [
        "\r",
        "[==========...............]  41.69% Tasks retries:0 Time 0:12:01"
       ]
      },
      {
       "output_type": "stream",
       "stream": "stdout",
       "text": [
        "\r",
        "[==========...............]  41.78% Tasks retries:0 Time 0:12:05"
       ]
      },
      {
       "output_type": "stream",
       "stream": "stdout",
       "text": [
        "\r",
        "[==========...............]  41.87% Tasks retries:0 Time 0:12:09"
       ]
      },
      {
       "output_type": "stream",
       "stream": "stdout",
       "text": [
        "\r",
        "[==========...............]  41.99% Tasks retries:0 Time 0:12:13"
       ]
      },
      {
       "output_type": "stream",
       "stream": "stdout",
       "text": [
        "\r",
        "[==========...............]  42.04% Tasks retries:0 Time 0:12:17"
       ]
      },
      {
       "output_type": "stream",
       "stream": "stdout",
       "text": [
        "\r",
        "[==========...............]  42.13% Tasks retries:0 Time 0:12:21"
       ]
      },
      {
       "output_type": "stream",
       "stream": "stdout",
       "text": [
        "\r",
        "[==========...............]  42.25% Tasks retries:0 Time 0:12:25"
       ]
      },
      {
       "output_type": "stream",
       "stream": "stdout",
       "text": [
        "\r",
        "[==========...............]  42.31% Tasks retries:0 Time 0:12:29"
       ]
      },
      {
       "output_type": "stream",
       "stream": "stdout",
       "text": [
        "\r",
        "[==========...............]  42.40% Tasks retries:0 Time 0:12:33"
       ]
      },
      {
       "output_type": "stream",
       "stream": "stdout",
       "text": [
        "\r",
        "[==========...............]  42.49% Tasks retries:0 Time 0:12:38"
       ]
      },
      {
       "output_type": "stream",
       "stream": "stdout",
       "text": [
        "\r",
        "[==========...............]  42.57% Tasks retries:0 Time 0:12:42"
       ]
      },
      {
       "output_type": "stream",
       "stream": "stdout",
       "text": [
        "\r",
        "[==========...............]  42.69% Tasks retries:0 Time 0:12:46"
       ]
      },
      {
       "output_type": "stream",
       "stream": "stdout",
       "text": [
        "\r",
        "[==========...............]  42.77% Tasks retries:0 Time 0:12:50"
       ]
      },
      {
       "output_type": "stream",
       "stream": "stdout",
       "text": [
        "\r",
        "[==========...............]  42.83% Tasks retries:0 Time 0:12:54"
       ]
      },
      {
       "output_type": "stream",
       "stream": "stdout",
       "text": [
        "\r",
        "[==========...............]  42.93% Tasks retries:0 Time 0:12:58"
       ]
      },
      {
       "output_type": "stream",
       "stream": "stdout",
       "text": [
        "\r",
        "[==========...............]  43.02% Tasks retries:0 Time 0:13:02"
       ]
      },
      {
       "output_type": "stream",
       "stream": "stdout",
       "text": [
        "\r",
        "[==========...............]  43.09% Tasks retries:0 Time 0:13:06"
       ]
      },
      {
       "output_type": "stream",
       "stream": "stdout",
       "text": [
        "\r",
        "[==========...............]  43.18% Tasks retries:0 Time 0:13:10"
       ]
      },
      {
       "output_type": "stream",
       "stream": "stdout",
       "text": [
        "\r",
        "[==========...............]  43.25% Tasks retries:0 Time 0:13:14"
       ]
      },
      {
       "output_type": "stream",
       "stream": "stdout",
       "text": [
        "\r",
        "[==========...............]  43.36% Tasks retries:0 Time 0:13:18"
       ]
      },
      {
       "output_type": "stream",
       "stream": "stdout",
       "text": [
        "\r",
        "[==========...............]  43.47% Tasks retries:0 Time 0:13:22"
       ]
      },
      {
       "output_type": "stream",
       "stream": "stdout",
       "text": [
        "\r",
        "[==========...............]  43.55% Tasks retries:0 Time 0:13:26"
       ]
      },
      {
       "output_type": "stream",
       "stream": "stdout",
       "text": [
        "\r",
        "[==========...............]  43.56% Tasks retries:0 Time 0:13:30"
       ]
      },
      {
       "output_type": "stream",
       "stream": "stdout",
       "text": [
        "\r",
        "[==========...............]  43.56% Tasks retries:0 Time 0:13:34"
       ]
      },
      {
       "output_type": "stream",
       "stream": "stdout",
       "text": [
        "\r",
        "[==========...............]  43.58% Tasks retries:0 Time 0:13:38"
       ]
      },
      {
       "output_type": "stream",
       "stream": "stdout",
       "text": [
        "\r",
        "[==========...............]  43.58% Tasks retries:0 Time 0:13:42"
       ]
      },
      {
       "output_type": "stream",
       "stream": "stdout",
       "text": [
        "\r",
        "[==========...............]  43.58% Tasks retries:0 Time 0:13:46"
       ]
      },
      {
       "output_type": "stream",
       "stream": "stdout",
       "text": [
        "\r",
        "[==========...............]  43.58% Tasks retries:0 Time 0:13:50"
       ]
      },
      {
       "output_type": "stream",
       "stream": "stdout",
       "text": [
        "\r",
        "[==========...............]  43.58% Tasks retries:0 Time 0:13:54"
       ]
      },
      {
       "output_type": "stream",
       "stream": "stdout",
       "text": [
        "\r",
        "[==========...............]  43.59% Tasks retries:0 Time 0:13:58"
       ]
      },
      {
       "output_type": "stream",
       "stream": "stdout",
       "text": [
        "\r",
        "[==========...............]  43.59% Tasks retries:0 Time 0:14:02"
       ]
      },
      {
       "output_type": "stream",
       "stream": "stdout",
       "text": [
        "\r",
        "[==========...............]  43.60% Tasks retries:0 Time 0:14:07"
       ]
      },
      {
       "output_type": "stream",
       "stream": "stdout",
       "text": [
        "\r",
        "[==========...............]  43.60% Tasks retries:0 Time 0:14:11"
       ]
      },
      {
       "output_type": "stream",
       "stream": "stdout",
       "text": [
        "\r",
        "[==========...............]  43.60% Tasks retries:0 Time 0:14:15"
       ]
      },
      {
       "output_type": "stream",
       "stream": "stdout",
       "text": [
        "\r",
        "[==========...............]  43.61% Tasks retries:0 Time 0:14:19"
       ]
      },
      {
       "output_type": "stream",
       "stream": "stdout",
       "text": [
        "\r",
        "[==========...............]  43.61% Tasks retries:0 Time 0:14:23"
       ]
      },
      {
       "output_type": "stream",
       "stream": "stdout",
       "text": [
        "\r",
        "[==========...............]  43.62% Tasks retries:0 Time 0:14:27"
       ]
      },
      {
       "output_type": "stream",
       "stream": "stdout",
       "text": [
        "\r",
        "[==========...............]  43.62% Tasks retries:0 Time 0:14:31"
       ]
      },
      {
       "output_type": "stream",
       "stream": "stdout",
       "text": [
        "\r",
        "[==========...............]  43.62% Tasks retries:0 Time 0:14:35"
       ]
      },
      {
       "output_type": "stream",
       "stream": "stdout",
       "text": [
        "\r",
        "[==========...............]  43.62% Tasks retries:0 Time 0:14:39"
       ]
      },
      {
       "output_type": "stream",
       "stream": "stdout",
       "text": [
        "\r",
        "[==========...............]  43.62% Tasks retries:0 Time 0:14:43"
       ]
      },
      {
       "output_type": "stream",
       "stream": "stdout",
       "text": [
        "\r",
        "[==========...............]  43.62% Tasks retries:0 Time 0:14:47"
       ]
      },
      {
       "output_type": "stream",
       "stream": "stdout",
       "text": [
        "\r",
        "[==========...............]  43.62% Tasks retries:0 Time 0:14:51"
       ]
      },
      {
       "output_type": "stream",
       "stream": "stdout",
       "text": [
        "\r",
        "[==========...............]  43.62% Tasks retries:0 Time 0:14:55"
       ]
      },
      {
       "output_type": "stream",
       "stream": "stdout",
       "text": [
        "\r",
        "[==========...............]  43.63% Tasks retries:0 Time 0:14:59"
       ]
      },
      {
       "output_type": "stream",
       "stream": "stdout",
       "text": [
        "\r",
        "[==========...............]  43.63% Tasks retries:0 Time 0:15:03"
       ]
      },
      {
       "output_type": "stream",
       "stream": "stdout",
       "text": [
        "\r",
        "[==========...............]  43.63% Tasks retries:0 Time 0:15:07"
       ]
      },
      {
       "output_type": "stream",
       "stream": "stdout",
       "text": [
        "\r",
        "[==========...............]  43.63% Tasks retries:0 Time 0:15:11"
       ]
      },
      {
       "output_type": "stream",
       "stream": "stdout",
       "text": [
        "\r",
        "[==========...............]  43.64% Tasks retries:0 Time 0:15:15"
       ]
      },
      {
       "output_type": "stream",
       "stream": "stdout",
       "text": [
        "\r",
        "[==========...............]  43.64% Tasks retries:0 Time 0:15:19"
       ]
      },
      {
       "output_type": "stream",
       "stream": "stdout",
       "text": [
        "\r",
        "[==========...............]  43.64% Tasks retries:0 Time 0:15:23"
       ]
      },
      {
       "output_type": "stream",
       "stream": "stdout",
       "text": [
        "\r",
        "[==========...............]  43.64% Tasks retries:0 Time 0:15:28"
       ]
      },
      {
       "output_type": "stream",
       "stream": "stdout",
       "text": [
        "\r",
        "[==========...............]  43.64% Tasks retries:0 Time 0:15:33"
       ]
      },
      {
       "output_type": "stream",
       "stream": "stdout",
       "text": [
        "\r",
        "[==========...............]  43.64% Tasks retries:0 Time 0:15:38"
       ]
      },
      {
       "output_type": "stream",
       "stream": "stdout",
       "text": [
        "\r",
        "[==========...............]  43.64% Tasks retries:0 Time 0:15:43"
       ]
      },
      {
       "output_type": "stream",
       "stream": "stdout",
       "text": [
        "\r",
        "[==========...............]  43.64% Tasks retries:0 Time 0:15:48"
       ]
      },
      {
       "output_type": "stream",
       "stream": "stdout",
       "text": [
        "\r",
        "[==========...............]  43.64% Tasks retries:0 Time 0:15:53"
       ]
      },
      {
       "output_type": "stream",
       "stream": "stdout",
       "text": [
        "\r",
        "[==========...............]  43.64% Tasks retries:0 Time 0:15:59"
       ]
      },
      {
       "output_type": "stream",
       "stream": "stdout",
       "text": [
        "\r",
        "[==========...............]  43.64% Tasks retries:0 Time 0:16:04"
       ]
      },
      {
       "output_type": "stream",
       "stream": "stdout",
       "text": [
        "\r",
        "[==========...............]  43.65% Tasks retries:0 Time 0:16:09"
       ]
      },
      {
       "output_type": "stream",
       "stream": "stdout",
       "text": [
        "\r",
        "[==========...............]  43.66% Tasks retries:0 Time 0:16:14"
       ]
      },
      {
       "output_type": "stream",
       "stream": "stdout",
       "text": [
        "\r",
        "[==========...............]  43.67% Tasks retries:0 Time 0:16:19"
       ]
      },
      {
       "output_type": "stream",
       "stream": "stdout",
       "text": [
        "\r",
        "[==========...............]  43.67% Tasks retries:0 Time 0:16:24"
       ]
      },
      {
       "output_type": "stream",
       "stream": "stdout",
       "text": [
        "\r",
        "[==========...............]  43.67% Tasks retries:0 Time 0:16:29"
       ]
      },
      {
       "output_type": "stream",
       "stream": "stdout",
       "text": [
        "\r",
        "[==========...............]  43.67% Tasks retries:0 Time 0:16:34"
       ]
      },
      {
       "output_type": "stream",
       "stream": "stdout",
       "text": [
        "\r",
        "[==========...............]  43.67% Tasks retries:0 Time 0:16:39"
       ]
      },
      {
       "output_type": "stream",
       "stream": "stdout",
       "text": [
        "\r",
        "[==========...............]  43.68% Tasks retries:0 Time 0:16:44"
       ]
      },
      {
       "output_type": "stream",
       "stream": "stdout",
       "text": [
        "\r",
        "[==========...............]  43.69% Tasks retries:0 Time 0:16:49"
       ]
      },
      {
       "output_type": "stream",
       "stream": "stdout",
       "text": [
        "\r",
        "[==========...............]  43.69% Tasks retries:0 Time 0:16:54"
       ]
      },
      {
       "output_type": "stream",
       "stream": "stdout",
       "text": [
        "\r",
        "[==========...............]  43.69% Tasks retries:0 Time 0:16:59"
       ]
      },
      {
       "output_type": "stream",
       "stream": "stdout",
       "text": [
        "\r",
        "[==========...............]  43.70% Tasks retries:0 Time 0:17:04"
       ]
      },
      {
       "output_type": "stream",
       "stream": "stdout",
       "text": [
        "\r",
        "[==========...............]  43.71% Tasks retries:0 Time 0:17:09"
       ]
      },
      {
       "output_type": "stream",
       "stream": "stdout",
       "text": [
        "\r",
        "[==========...............]  43.72% Tasks retries:0 Time 0:17:14"
       ]
      },
      {
       "output_type": "stream",
       "stream": "stdout",
       "text": [
        "\r",
        "[==========...............]  43.74% Tasks retries:0 Time 0:17:19"
       ]
      },
      {
       "output_type": "stream",
       "stream": "stdout",
       "text": [
        "\r",
        "[============.............]  50.00% Tasks retries:0 Time 0:17:25"
       ]
      },
      {
       "output_type": "stream",
       "stream": "stdout",
       "text": [
        "\r",
        "[============.............]  50.02% Tasks retries:0 Time 0:17:30"
       ]
      },
      {
       "output_type": "stream",
       "stream": "stdout",
       "text": [
        "\r",
        "[============.............]  50.09% Tasks retries:0 Time 0:17:35"
       ]
      },
      {
       "output_type": "stream",
       "stream": "stdout",
       "text": [
        "\r",
        "[============.............]  50.10% Tasks retries:0 Time 0:17:40"
       ]
      },
      {
       "output_type": "stream",
       "stream": "stdout",
       "text": [
        "\r",
        "[============.............]  50.19% Tasks retries:0 Time 0:17:45"
       ]
      },
      {
       "output_type": "stream",
       "stream": "stdout",
       "text": [
        "\r",
        "[============.............]  50.68% Tasks retries:0 Time 0:17:50"
       ]
      },
      {
       "output_type": "stream",
       "stream": "stdout",
       "text": [
        "\r",
        "[============.............]  51.07% Tasks retries:0 Time 0:17:55"
       ]
      },
      {
       "output_type": "stream",
       "stream": "stdout",
       "text": [
        "\r",
        "[============.............]  51.10% Tasks retries:0 Time 0:18:00"
       ]
      },
      {
       "output_type": "stream",
       "stream": "stdout",
       "text": [
        "\r",
        "[============.............]  51.21% Tasks retries:0 Time 0:18:05"
       ]
      },
      {
       "output_type": "stream",
       "stream": "stdout",
       "text": [
        "\r",
        "[============.............]  51.42% Tasks retries:0 Time 0:18:10"
       ]
      },
      {
       "output_type": "stream",
       "stream": "stdout",
       "text": [
        "\r",
        "[============.............]  51.62% Tasks retries:0 Time 0:18:15"
       ]
      },
      {
       "output_type": "stream",
       "stream": "stdout",
       "text": [
        "\r",
        "[=============............]  52.12% Tasks retries:0 Time 0:18:20"
       ]
      },
      {
       "output_type": "stream",
       "stream": "stdout",
       "text": [
        "\r",
        "[=============............]  52.17% Tasks retries:0 Time 0:18:25"
       ]
      },
      {
       "output_type": "stream",
       "stream": "stdout",
       "text": [
        "\r",
        "[=============............]  52.27% Tasks retries:0 Time 0:18:30"
       ]
      },
      {
       "output_type": "stream",
       "stream": "stdout",
       "text": [
        "\r",
        "[=============............]  52.48% Tasks retries:0 Time 0:18:35"
       ]
      },
      {
       "output_type": "stream",
       "stream": "stdout",
       "text": [
        "\r",
        "[=============............]  52.82% Tasks retries:0 Time 0:18:40"
       ]
      },
      {
       "output_type": "stream",
       "stream": "stdout",
       "text": [
        "\r",
        "[=============............]  53.07% Tasks retries:0 Time 0:18:45"
       ]
      },
      {
       "output_type": "stream",
       "stream": "stdout",
       "text": [
        "\r",
        "[=============............]  53.14% Tasks retries:0 Time 0:18:50"
       ]
      },
      {
       "output_type": "stream",
       "stream": "stdout",
       "text": [
        "\r",
        "[=============............]  53.56% Tasks retries:0 Time 0:18:56"
       ]
      },
      {
       "output_type": "stream",
       "stream": "stdout",
       "text": [
        "\r",
        "[=============............]  53.74% Tasks retries:0 Time 0:19:01"
       ]
      },
      {
       "output_type": "stream",
       "stream": "stdout",
       "text": [
        "\r",
        "[=============............]  53.95% Tasks retries:0 Time 0:19:06"
       ]
      },
      {
       "output_type": "stream",
       "stream": "stdout",
       "text": [
        "\r",
        "[=============............]  54.09% Tasks retries:0 Time 0:19:11"
       ]
      },
      {
       "output_type": "stream",
       "stream": "stdout",
       "text": [
        "\r",
        "[=============............]  54.34% Tasks retries:0 Time 0:19:16"
       ]
      },
      {
       "output_type": "stream",
       "stream": "stdout",
       "text": [
        "\r",
        "[=============............]  54.59% Tasks retries:0 Time 0:19:21"
       ]
      },
      {
       "output_type": "stream",
       "stream": "stdout",
       "text": [
        "\r",
        "[=============............]  54.89% Tasks retries:0 Time 0:19:26"
       ]
      },
      {
       "output_type": "stream",
       "stream": "stdout",
       "text": [
        "\r",
        "[=============............]  54.96% Tasks retries:0 Time 0:19:31"
       ]
      },
      {
       "output_type": "stream",
       "stream": "stdout",
       "text": [
        "\r",
        "[=============............]  55.22% Tasks retries:0 Time 0:19:36"
       ]
      },
      {
       "output_type": "stream",
       "stream": "stdout",
       "text": [
        "\r",
        "[=============............]  55.44% Tasks retries:0 Time 0:19:41"
       ]
      },
      {
       "output_type": "stream",
       "stream": "stdout",
       "text": [
        "\r",
        "[=============............]  55.72% Tasks retries:0 Time 0:19:46"
       ]
      },
      {
       "output_type": "stream",
       "stream": "stdout",
       "text": [
        "\r",
        "[=============............]  55.83% Tasks retries:0 Time 0:19:51"
       ]
      },
      {
       "output_type": "stream",
       "stream": "stdout",
       "text": [
        "\r",
        "[==============...........]  56.01% Tasks retries:0 Time 0:19:56"
       ]
      },
      {
       "output_type": "stream",
       "stream": "stdout",
       "text": [
        "\r",
        "[==============...........]  56.26% Tasks retries:0 Time 0:20:01"
       ]
      },
      {
       "output_type": "stream",
       "stream": "stdout",
       "text": [
        "\r",
        "[==============...........]  56.58% Tasks retries:0 Time 0:20:06"
       ]
      },
      {
       "output_type": "stream",
       "stream": "stdout",
       "text": [
        "\r",
        "[==============...........]  56.66% Tasks retries:0 Time 0:20:11"
       ]
      },
      {
       "output_type": "stream",
       "stream": "stdout",
       "text": [
        "\r",
        "[==============...........]  56.93% Tasks retries:0 Time 0:20:16"
       ]
      },
      {
       "output_type": "stream",
       "stream": "stdout",
       "text": [
        "\r",
        "[==============...........]  57.14% Tasks retries:0 Time 0:20:21"
       ]
      },
      {
       "output_type": "stream",
       "stream": "stdout",
       "text": [
        "\r",
        "[==============...........]  57.37% Tasks retries:0 Time 0:20:26"
       ]
      },
      {
       "output_type": "stream",
       "stream": "stdout",
       "text": [
        "\r",
        "[==============...........]  57.50% Tasks retries:0 Time 0:20:32"
       ]
      },
      {
       "output_type": "stream",
       "stream": "stdout",
       "text": [
        "\r",
        "[==============...........]  57.67% Tasks retries:0 Time 0:20:37"
       ]
      },
      {
       "output_type": "stream",
       "stream": "stdout",
       "text": [
        "\r",
        "[==============...........]  58.01% Tasks retries:0 Time 0:20:42"
       ]
      },
      {
       "output_type": "stream",
       "stream": "stdout",
       "text": [
        "\r",
        "[==============...........]  58.19% Tasks retries:0 Time 0:20:47"
       ]
      },
      {
       "output_type": "stream",
       "stream": "stdout",
       "text": [
        "\r",
        "[==============...........]  58.31% Tasks retries:0 Time 0:20:52"
       ]
      },
      {
       "output_type": "stream",
       "stream": "stdout",
       "text": [
        "\r",
        "[==============...........]  58.55% Tasks retries:0 Time 0:20:57"
       ]
      },
      {
       "output_type": "stream",
       "stream": "stdout",
       "text": [
        "\r",
        "[==============...........]  58.73% Tasks retries:0 Time 0:21:02"
       ]
      },
      {
       "output_type": "stream",
       "stream": "stdout",
       "text": [
        "\r",
        "[==============...........]  58.97% Tasks retries:0 Time 0:21:07"
       ]
      },
      {
       "output_type": "stream",
       "stream": "stdout",
       "text": [
        "\r",
        "[==============...........]  59.20% Tasks retries:0 Time 0:21:12"
       ]
      },
      {
       "output_type": "stream",
       "stream": "stdout",
       "text": [
        "\r",
        "[==============...........]  59.44% Tasks retries:0 Time 0:21:17"
       ]
      },
      {
       "output_type": "stream",
       "stream": "stdout",
       "text": [
        "\r",
        "[==============...........]  59.66% Tasks retries:0 Time 0:21:22"
       ]
      },
      {
       "output_type": "stream",
       "stream": "stdout",
       "text": [
        "\r",
        "[==============...........]  59.83% Tasks retries:0 Time 0:21:27"
       ]
      },
      {
       "output_type": "stream",
       "stream": "stdout",
       "text": [
        "\r",
        "[===============..........]  60.06% Tasks retries:0 Time 0:21:32"
       ]
      },
      {
       "output_type": "stream",
       "stream": "stdout",
       "text": [
        "\r",
        "[===============..........]  60.37% Tasks retries:0 Time 0:21:37"
       ]
      },
      {
       "output_type": "stream",
       "stream": "stdout",
       "text": [
        "\r",
        "[===============..........]  60.54% Tasks retries:0 Time 0:21:42"
       ]
      },
      {
       "output_type": "stream",
       "stream": "stdout",
       "text": [
        "\r",
        "[===============..........]  60.71% Tasks retries:0 Time 0:21:47"
       ]
      },
      {
       "output_type": "stream",
       "stream": "stdout",
       "text": [
        "\r",
        "[===============..........]  61.00% Tasks retries:0 Time 0:21:52"
       ]
      },
      {
       "output_type": "stream",
       "stream": "stdout",
       "text": [
        "\r",
        "[===============..........]  61.21% Tasks retries:0 Time 0:21:58"
       ]
      },
      {
       "output_type": "stream",
       "stream": "stdout",
       "text": [
        "\r",
        "[===============..........]  61.38% Tasks retries:0 Time 0:22:03"
       ]
      },
      {
       "output_type": "stream",
       "stream": "stdout",
       "text": [
        "\r",
        "[===============..........]  61.62% Tasks retries:0 Time 0:22:08"
       ]
      },
      {
       "output_type": "stream",
       "stream": "stdout",
       "text": [
        "\r",
        "[===============..........]  61.95% Tasks retries:0 Time 0:22:13"
       ]
      },
      {
       "output_type": "stream",
       "stream": "stdout",
       "text": [
        "\r",
        "[===============..........]  62.12% Tasks retries:0 Time 0:22:18"
       ]
      },
      {
       "output_type": "stream",
       "stream": "stdout",
       "text": [
        "\r",
        "[===============..........]  62.12% Tasks retries:0 Time 0:22:23"
       ]
      },
      {
       "output_type": "stream",
       "stream": "stdout",
       "text": [
        "\r",
        "[===============..........]  62.14% Tasks retries:0 Time 0:22:28"
       ]
      },
      {
       "output_type": "stream",
       "stream": "stdout",
       "text": [
        "\r",
        "[===============..........]  62.15% Tasks retries:0 Time 0:22:33"
       ]
      },
      {
       "output_type": "stream",
       "stream": "stdout",
       "text": [
        "\r",
        "[===============..........]  62.16% Tasks retries:0 Time 0:22:38"
       ]
      },
      {
       "output_type": "stream",
       "stream": "stdout",
       "text": [
        "\r",
        "[===============..........]  62.16% Tasks retries:0 Time 0:22:43"
       ]
      },
      {
       "output_type": "stream",
       "stream": "stdout",
       "text": [
        "\r",
        "[===============..........]  62.17% Tasks retries:0 Time 0:22:48"
       ]
      },
      {
       "output_type": "stream",
       "stream": "stdout",
       "text": [
        "\r",
        "[===============..........]  62.20% Tasks retries:0 Time 0:22:53"
       ]
      },
      {
       "output_type": "stream",
       "stream": "stdout",
       "text": [
        "\r",
        "[===============..........]  62.20% Tasks retries:0 Time 0:22:58"
       ]
      },
      {
       "output_type": "stream",
       "stream": "stdout",
       "text": [
        "\r",
        "[===============..........]  62.20% Tasks retries:0 Time 0:23:03"
       ]
      },
      {
       "output_type": "stream",
       "stream": "stdout",
       "text": [
        "\r",
        "[===============..........]  62.21% Tasks retries:0 Time 0:23:08"
       ]
      },
      {
       "output_type": "stream",
       "stream": "stdout",
       "text": [
        "\r",
        "[===============..........]  62.21% Tasks retries:0 Time 0:23:13"
       ]
      },
      {
       "output_type": "stream",
       "stream": "stdout",
       "text": [
        "\r",
        "[===============..........]  62.22% Tasks retries:0 Time 0:23:18"
       ]
      },
      {
       "output_type": "stream",
       "stream": "stdout",
       "text": [
        "\r",
        "[===============..........]  62.22% Tasks retries:0 Time 0:23:23"
       ]
      },
      {
       "output_type": "stream",
       "stream": "stdout",
       "text": [
        "\r",
        "[===============..........]  62.22% Tasks retries:0 Time 0:23:28"
       ]
      },
      {
       "output_type": "stream",
       "stream": "stdout",
       "text": [
        "\r",
        "[===============..........]  62.22% Tasks retries:0 Time 0:23:34"
       ]
      },
      {
       "output_type": "stream",
       "stream": "stdout",
       "text": [
        "\r",
        "[===============..........]  62.23% Tasks retries:0 Time 0:23:40"
       ]
      },
      {
       "output_type": "stream",
       "stream": "stdout",
       "text": [
        "\r",
        "[===============..........]  62.24% Tasks retries:0 Time 0:23:46"
       ]
      },
      {
       "output_type": "stream",
       "stream": "stdout",
       "text": [
        "\r",
        "[===============..........]  62.26% Tasks retries:0 Time 0:23:53"
       ]
      },
      {
       "output_type": "stream",
       "stream": "stdout",
       "text": [
        "\r",
        "[===============..........]  62.26% Tasks retries:0 Time 0:23:59"
       ]
      },
      {
       "output_type": "stream",
       "stream": "stdout",
       "text": [
        "\r",
        "[===============..........]  62.26% Tasks retries:0 Time 0:24:05"
       ]
      },
      {
       "output_type": "stream",
       "stream": "stdout",
       "text": [
        "\r",
        "[===============..........]  62.26% Tasks retries:0 Time 0:24:11"
       ]
      },
      {
       "output_type": "stream",
       "stream": "stdout",
       "text": [
        "\r",
        "[===============..........]  62.26% Tasks retries:0 Time 0:24:17"
       ]
      },
      {
       "output_type": "stream",
       "stream": "stdout",
       "text": [
        "\r",
        "[===============..........]  62.26% Tasks retries:0 Time 0:24:23"
       ]
      },
      {
       "output_type": "stream",
       "stream": "stdout",
       "text": [
        "\r",
        "[===============..........]  62.26% Tasks retries:0 Time 0:24:29"
       ]
      },
      {
       "output_type": "stream",
       "stream": "stdout",
       "text": [
        "\r",
        "[===============..........]  62.26% Tasks retries:0 Time 0:24:35"
       ]
      },
      {
       "output_type": "stream",
       "stream": "stdout",
       "text": [
        "\r",
        "[===============..........]  62.27% Tasks retries:0 Time 0:24:41"
       ]
      },
      {
       "output_type": "stream",
       "stream": "stdout",
       "text": [
        "\r",
        "[===============..........]  62.28% Tasks retries:0 Time 0:24:47"
       ]
      },
      {
       "output_type": "stream",
       "stream": "stdout",
       "text": [
        "\r",
        "[===============..........]  62.28% Tasks retries:0 Time 0:24:53"
       ]
      },
      {
       "output_type": "stream",
       "stream": "stdout",
       "text": [
        "\r",
        "[===============..........]  62.29% Tasks retries:0 Time 0:24:59"
       ]
      },
      {
       "output_type": "stream",
       "stream": "stdout",
       "text": [
        "\r",
        "[===============..........]  62.30% Tasks retries:0 Time 0:25:05"
       ]
      },
      {
       "output_type": "stream",
       "stream": "stdout",
       "text": [
        "\r",
        "[===============..........]  62.31% Tasks retries:0 Time 0:25:11"
       ]
      },
      {
       "output_type": "stream",
       "stream": "stdout",
       "text": [
        "\r",
        "[===============..........]  62.32% Tasks retries:0 Time 0:25:17"
       ]
      },
      {
       "output_type": "stream",
       "stream": "stdout",
       "text": [
        "\r",
        "[===============..........]  62.33% Tasks retries:0 Time 0:25:23"
       ]
      },
      {
       "output_type": "stream",
       "stream": "stdout",
       "text": [
        "\r",
        "[===============..........]  62.33% Tasks retries:0 Time 0:25:29"
       ]
      },
      {
       "output_type": "stream",
       "stream": "stdout",
       "text": [
        "\r",
        "[===============..........]  62.34% Tasks retries:0 Time 0:25:35"
       ]
      },
      {
       "output_type": "stream",
       "stream": "stdout",
       "text": [
        "\r",
        "[===============..........]  62.34% Tasks retries:0 Time 0:25:41"
       ]
      },
      {
       "output_type": "stream",
       "stream": "stdout",
       "text": [
        "\r",
        "[===============..........]  62.36% Tasks retries:0 Time 0:25:47"
       ]
      },
      {
       "output_type": "stream",
       "stream": "stdout",
       "text": [
        "\r",
        "[===============..........]  62.36% Tasks retries:0 Time 0:25:53"
       ]
      },
      {
       "output_type": "stream",
       "stream": "stdout",
       "text": [
        "\r",
        "[===============..........]  62.37% Tasks retries:0 Time 0:25:59"
       ]
      },
      {
       "output_type": "stream",
       "stream": "stdout",
       "text": [
        "\r",
        "[===============..........]  62.38% Tasks retries:0 Time 0:26:06"
       ]
      },
      {
       "output_type": "stream",
       "stream": "stdout",
       "text": [
        "\r",
        "[===============..........]  62.40% Tasks retries:0 Time 0:26:12"
       ]
      },
      {
       "output_type": "stream",
       "stream": "stdout",
       "text": [
        "\r",
        "[===============..........]  62.44% Tasks retries:0 Time 0:26:18"
       ]
      },
      {
       "output_type": "stream",
       "stream": "stdout",
       "text": [
        "\r",
        "[===============..........]  62.47% Tasks retries:0 Time 0:26:24"
       ]
      },
      {
       "output_type": "stream",
       "stream": "stdout",
       "text": [
        "\r",
        "[===============..........]  62.47% Tasks retries:0 Time 0:26:30"
       ]
      },
      {
       "output_type": "stream",
       "stream": "stdout",
       "text": [
        "\r",
        "[===============..........]  62.47% Tasks retries:0 Time 0:26:36"
       ]
      },
      {
       "output_type": "stream",
       "stream": "stdout",
       "text": [
        "\r",
        "[===============..........]  62.47% Tasks retries:0 Time 0:26:42"
       ]
      },
      {
       "output_type": "stream",
       "stream": "stdout",
       "text": [
        "\r",
        "[===============..........]  62.47% Tasks retries:0 Time 0:26:49"
       ]
      },
      {
       "output_type": "stream",
       "stream": "stdout",
       "text": [
        "\r",
        "[===============..........]  62.47% Tasks retries:0 Time 0:26:56"
       ]
      },
      {
       "output_type": "stream",
       "stream": "stdout",
       "text": [
        "\r",
        "[===============..........]  62.47% Tasks retries:0 Time 0:27:03"
       ]
      },
      {
       "output_type": "stream",
       "stream": "stdout",
       "text": [
        "\r",
        "[===============..........]  62.47% Tasks retries:0 Time 0:27:10"
       ]
      },
      {
       "output_type": "stream",
       "stream": "stdout",
       "text": [
        "\r",
        "[===============..........]  62.47% Tasks retries:0 Time 0:27:17"
       ]
      },
      {
       "output_type": "stream",
       "stream": "stdout",
       "text": [
        "\r",
        "[===============..........]  62.47% Tasks retries:0 Time 0:27:24"
       ]
      },
      {
       "output_type": "stream",
       "stream": "stdout",
       "text": [
        "\r",
        "[===============..........]  62.57% Tasks retries:0 Time 0:27:31"
       ]
      },
      {
       "output_type": "stream",
       "stream": "stdout",
       "text": [
        "\r",
        "[===============..........]  62.60% Tasks retries:0 Time 0:27:38"
       ]
      },
      {
       "output_type": "stream",
       "stream": "stdout",
       "text": [
        "\r",
        "[===============..........]  62.60% Tasks retries:0 Time 0:27:45"
       ]
      },
      {
       "output_type": "stream",
       "stream": "stdout",
       "text": [
        "\r",
        "[===============..........]  62.60% Tasks retries:0 Time 0:27:52"
       ]
      },
      {
       "output_type": "stream",
       "stream": "stdout",
       "text": [
        "\r",
        "[===============..........]  62.60% Tasks retries:0 Time 0:27:59"
       ]
      },
      {
       "output_type": "stream",
       "stream": "stdout",
       "text": [
        "\r",
        "[===============..........]  62.60% Tasks retries:0 Time 0:28:07"
       ]
      },
      {
       "output_type": "stream",
       "stream": "stdout",
       "text": [
        "\r",
        "[===============..........]  62.60% Tasks retries:0 Time 0:28:15"
       ]
      },
      {
       "output_type": "stream",
       "stream": "stdout",
       "text": [
        "\r",
        "[===============..........]  62.60% Tasks retries:0 Time 0:28:23"
       ]
      },
      {
       "output_type": "stream",
       "stream": "stdout",
       "text": [
        "\r",
        "[===============..........]  62.60% Tasks retries:0 Time 0:28:31"
       ]
      },
      {
       "output_type": "stream",
       "stream": "stdout",
       "text": [
        "\r",
        "[===============..........]  62.60% Tasks retries:0 Time 0:28:39"
       ]
      },
      {
       "output_type": "stream",
       "stream": "stdout",
       "text": [
        "\r",
        "[===============..........]  62.92% Tasks retries:0 Time 0:28:48"
       ]
      },
      {
       "output_type": "stream",
       "stream": "stdout",
       "text": [
        "\r",
        "[===============..........]  63.55% Tasks retries:0 Time 0:28:56"
       ]
      },
      {
       "output_type": "stream",
       "stream": "stdout",
       "text": [
        "\r",
        "[===============..........]  63.67% Tasks retries:0 Time 0:29:04"
       ]
      },
      {
       "output_type": "stream",
       "stream": "stdout",
       "text": [
        "\r",
        "[===============..........]  63.68% Tasks retries:0 Time 0:29:12"
       ]
      },
      {
       "output_type": "stream",
       "stream": "stdout",
       "text": [
        "\r",
        "[===============..........]  63.70% Tasks retries:0 Time 0:29:20"
       ]
      },
      {
       "output_type": "stream",
       "stream": "stdout",
       "text": [
        "\r",
        "[===============..........]  63.70% Tasks retries:0 Time 0:29:28"
       ]
      },
      {
       "output_type": "stream",
       "stream": "stdout",
       "text": [
        "\r",
        "[===============..........]  63.71% Tasks retries:0 Time 0:29:36"
       ]
      },
      {
       "output_type": "stream",
       "stream": "stdout",
       "text": [
        "\r",
        "[===============..........]  63.72% Tasks retries:0 Time 0:29:45"
       ]
      },
      {
       "output_type": "stream",
       "stream": "stdout",
       "text": [
        "\r",
        "[===============..........]  63.72% Tasks retries:0 Time 0:29:54"
       ]
      },
      {
       "output_type": "stream",
       "stream": "stdout",
       "text": [
        "\r",
        "[===============..........]  63.75% Tasks retries:0 Time 0:30:03"
       ]
      },
      {
       "output_type": "stream",
       "stream": "stdout",
       "text": [
        "\r",
        "[===============..........]  63.77% Tasks retries:0 Time 0:30:12"
       ]
      },
      {
       "output_type": "stream",
       "stream": "stdout",
       "text": [
        "\r",
        "[===============..........]  63.95% Tasks retries:0 Time 0:30:21"
       ]
      },
      {
       "output_type": "stream",
       "stream": "stdout",
       "text": [
        "\r",
        "[================.........]  64.29% Tasks retries:0 Time 0:30:30"
       ]
      },
      {
       "output_type": "stream",
       "stream": "stdout",
       "text": [
        "\r",
        "[================.........]  64.38% Tasks retries:0 Time 0:30:39"
       ]
      },
      {
       "output_type": "stream",
       "stream": "stdout",
       "text": [
        "\r",
        "[================.........]  64.39% Tasks retries:0 Time 0:30:48"
       ]
      },
      {
       "output_type": "stream",
       "stream": "stdout",
       "text": [
        "\r",
        "[================.........]  64.82% Tasks retries:0 Time 0:30:58"
       ]
      },
      {
       "output_type": "stream",
       "stream": "stdout",
       "text": [
        "\r",
        "[================.........]  64.82% Tasks retries:0 Time 0:31:07"
       ]
      },
      {
       "output_type": "stream",
       "stream": "stdout",
       "text": [
        "\r",
        "[================.........]  64.83% Tasks retries:0 Time 0:31:16"
       ]
      },
      {
       "output_type": "stream",
       "stream": "stdout",
       "text": [
        "\r",
        "[================.........]  64.87% Tasks retries:0 Time 0:31:25"
       ]
      },
      {
       "output_type": "stream",
       "stream": "stdout",
       "text": [
        "\r",
        "[================.........]  64.93% Tasks retries:0 Time 0:31:34"
       ]
      },
      {
       "output_type": "stream",
       "stream": "stdout",
       "text": [
        "\r",
        "[================.........]  65.00% Tasks retries:0 Time 0:31:43"
       ]
      },
      {
       "output_type": "stream",
       "stream": "stdout",
       "text": [
        "\r",
        "[================.........]  65.10% Tasks retries:0 Time 0:31:52"
       ]
      },
      {
       "output_type": "stream",
       "stream": "stdout",
       "text": [
        "\r",
        "[================.........]  65.18% Tasks retries:0 Time 0:32:01"
       ]
      },
      {
       "output_type": "stream",
       "stream": "stdout",
       "text": [
        "\r",
        "[================.........]  65.24% Tasks retries:0 Time 0:32:10"
       ]
      },
      {
       "output_type": "stream",
       "stream": "stdout",
       "text": [
        "\r",
        "[================.........]  65.36% Tasks retries:0 Time 0:32:19"
       ]
      },
      {
       "output_type": "stream",
       "stream": "stdout",
       "text": [
        "\r",
        "[================.........]  65.44% Tasks retries:0 Time 0:32:28"
       ]
      },
      {
       "output_type": "stream",
       "stream": "stdout",
       "text": [
        "\r",
        "[================.........]  65.46% Tasks retries:0 Time 0:32:37"
       ]
      },
      {
       "output_type": "stream",
       "stream": "stdout",
       "text": [
        "\r",
        "[================.........]  65.52% Tasks retries:0 Time 0:32:46"
       ]
      },
      {
       "output_type": "stream",
       "stream": "stdout",
       "text": [
        "\r",
        "[================.........]  65.61% Tasks retries:0 Time 0:32:55"
       ]
      },
      {
       "output_type": "stream",
       "stream": "stdout",
       "text": [
        "\r",
        "[================.........]  65.74% Tasks retries:0 Time 0:33:04"
       ]
      },
      {
       "output_type": "stream",
       "stream": "stdout",
       "text": [
        "\r",
        "[================.........]  65.85% Tasks retries:0 Time 0:33:14"
       ]
      },
      {
       "output_type": "stream",
       "stream": "stdout",
       "text": [
        "\r",
        "[================.........]  66.33% Tasks retries:0 Time 0:33:23"
       ]
      },
      {
       "output_type": "stream",
       "stream": "stdout",
       "text": [
        "\r",
        "[================.........]  66.42% Tasks retries:0 Time 0:33:32"
       ]
      },
      {
       "output_type": "stream",
       "stream": "stdout",
       "text": [
        "\r",
        "[================.........]  66.48% Tasks retries:0 Time 0:33:41"
       ]
      },
      {
       "output_type": "stream",
       "stream": "stdout",
       "text": [
        "\r",
        "[================.........]  66.51% Tasks retries:0 Time 0:33:50"
       ]
      },
      {
       "output_type": "stream",
       "stream": "stdout",
       "text": [
        "\r",
        "[================.........]  66.54% Tasks retries:0 Time 0:33:59"
       ]
      },
      {
       "output_type": "stream",
       "stream": "stdout",
       "text": [
        "\r",
        "[================.........]  66.58% Tasks retries:0 Time 0:34:08"
       ]
      },
      {
       "output_type": "stream",
       "stream": "stdout",
       "text": [
        "\r",
        "[================.........]  66.61% Tasks retries:0 Time 0:34:17"
       ]
      },
      {
       "output_type": "stream",
       "stream": "stdout",
       "text": [
        "\r",
        "[================.........]  66.66% Tasks retries:0 Time 0:34:26"
       ]
      },
      {
       "output_type": "stream",
       "stream": "stdout",
       "text": [
        "\r",
        "[================.........]  66.80% Tasks retries:0 Time 0:34:35"
       ]
      },
      {
       "output_type": "stream",
       "stream": "stdout",
       "text": [
        "\r",
        "[================.........]  66.90% Tasks retries:0 Time 0:34:44"
       ]
      },
      {
       "output_type": "stream",
       "stream": "stdout",
       "text": [
        "\r",
        "[================.........]  67.05% Tasks retries:0 Time 0:34:53"
       ]
      },
      {
       "output_type": "stream",
       "stream": "stdout",
       "text": [
        "\r",
        "[================.........]  67.46% Tasks retries:0 Time 0:35:02"
       ]
      },
      {
       "output_type": "stream",
       "stream": "stdout",
       "text": [
        "\r",
        "[================.........]  67.52% Tasks retries:0 Time 0:35:11"
       ]
      },
      {
       "output_type": "stream",
       "stream": "stdout",
       "text": [
        "\r",
        "[================.........]  67.56% Tasks retries:0 Time 0:35:20"
       ]
      },
      {
       "output_type": "stream",
       "stream": "stdout",
       "text": [
        "\r",
        "[================.........]  67.58% Tasks retries:0 Time 0:35:29"
       ]
      },
      {
       "output_type": "stream",
       "stream": "stdout",
       "text": [
        "\r",
        "[================.........]  67.61% Tasks retries:0 Time 0:35:38"
       ]
      },
      {
       "output_type": "stream",
       "stream": "stdout",
       "text": [
        "\r",
        "[================.........]  67.66% Tasks retries:0 Time 0:35:48"
       ]
      },
      {
       "output_type": "stream",
       "stream": "stdout",
       "text": [
        "\r",
        "[================.........]  67.72% Tasks retries:0 Time 0:35:57"
       ]
      },
      {
       "output_type": "stream",
       "stream": "stdout",
       "text": [
        "\r",
        "[================.........]  67.77% Tasks retries:0 Time 0:36:06"
       ]
      },
      {
       "output_type": "stream",
       "stream": "stdout",
       "text": [
        "\r",
        "[================.........]  67.89% Tasks retries:0 Time 0:36:15"
       ]
      },
      {
       "output_type": "stream",
       "stream": "stdout",
       "text": [
        "\r",
        "[=================........]  68.03% Tasks retries:0 Time 0:36:24"
       ]
      },
      {
       "output_type": "stream",
       "stream": "stdout",
       "text": [
        "\r",
        "[=================........]  68.15% Tasks retries:0 Time 0:36:33"
       ]
      },
      {
       "output_type": "stream",
       "stream": "stdout",
       "text": [
        "\r",
        "[=================........]  68.29% Tasks retries:0 Time 0:36:42"
       ]
      },
      {
       "output_type": "stream",
       "stream": "stdout",
       "text": [
        "\r",
        "[=================........]  68.37% Tasks retries:0 Time 0:36:51"
       ]
      },
      {
       "output_type": "stream",
       "stream": "stdout",
       "text": [
        "\r",
        "[=================........]  68.41% Tasks retries:0 Time 0:37:00"
       ]
      },
      {
       "output_type": "stream",
       "stream": "stdout",
       "text": [
        "\r",
        "[=================........]  68.74% Tasks retries:0 Time 0:37:09"
       ]
      },
      {
       "output_type": "stream",
       "stream": "stdout",
       "text": [
        "\r",
        "[=================........]  68.78% Tasks retries:0 Time 0:37:18"
       ]
      },
      {
       "output_type": "stream",
       "stream": "stdout",
       "text": [
        "\r",
        "[=================........]  68.83% Tasks retries:0 Time 0:37:27"
       ]
      },
      {
       "output_type": "stream",
       "stream": "stdout",
       "text": [
        "\r",
        "[=================........]  68.86% Tasks retries:0 Time 0:37:36"
       ]
      },
      {
       "output_type": "stream",
       "stream": "stdout",
       "text": [
        "\r",
        "[=================........]  68.95% Tasks retries:0 Time 0:37:45"
       ]
      },
      {
       "output_type": "stream",
       "stream": "stdout",
       "text": [
        "\r",
        "[=================........]  69.00% Tasks retries:0 Time 0:37:54"
       ]
      },
      {
       "output_type": "stream",
       "stream": "stdout",
       "text": [
        "\r",
        "[=================........]  69.22% Tasks retries:0 Time 0:38:03"
       ]
      },
      {
       "output_type": "stream",
       "stream": "stdout",
       "text": [
        "\r",
        "[=================........]  69.29% Tasks retries:0 Time 0:38:12"
       ]
      },
      {
       "output_type": "stream",
       "stream": "stdout",
       "text": [
        "\r",
        "[=================........]  69.33% Tasks retries:0 Time 0:38:21"
       ]
      },
      {
       "output_type": "stream",
       "stream": "stdout",
       "text": [
        "\r",
        "[=================........]  69.38% Tasks retries:0 Time 0:38:30"
       ]
      },
      {
       "output_type": "stream",
       "stream": "stdout",
       "text": [
        "\r",
        "[=================........]  69.54% Tasks retries:0 Time 0:38:40"
       ]
      },
      {
       "output_type": "stream",
       "stream": "stdout",
       "text": [
        "\r",
        "[=================........]  69.59% Tasks retries:0 Time 0:38:49"
       ]
      },
      {
       "output_type": "stream",
       "stream": "stdout",
       "text": [
        "\r",
        "[=================........]  69.64% Tasks retries:0 Time 0:38:58"
       ]
      },
      {
       "output_type": "stream",
       "stream": "stdout",
       "text": [
        "\r",
        "[=================........]  69.71% Tasks retries:0 Time 0:39:07"
       ]
      },
      {
       "output_type": "stream",
       "stream": "stdout",
       "text": [
        "\r",
        "[=================........]  69.76% Tasks retries:0 Time 0:39:16"
       ]
      },
      {
       "output_type": "stream",
       "stream": "stdout",
       "text": [
        "\r",
        "[=================........]  69.86% Tasks retries:0 Time 0:39:25"
       ]
      },
      {
       "output_type": "stream",
       "stream": "stdout",
       "text": [
        "\r",
        "[=================........]  69.93% Tasks retries:0 Time 0:39:34"
       ]
      },
      {
       "output_type": "stream",
       "stream": "stdout",
       "text": [
        "\r",
        "[=================........]  70.09% Tasks retries:0 Time 0:39:43"
       ]
      },
      {
       "output_type": "stream",
       "stream": "stdout",
       "text": [
        "\r",
        "[=================........]  70.19% Tasks retries:0 Time 0:39:52"
       ]
      },
      {
       "output_type": "stream",
       "stream": "stdout",
       "text": [
        "\r",
        "[=================........]  70.31% Tasks retries:0 Time 0:40:01"
       ]
      },
      {
       "output_type": "stream",
       "stream": "stdout",
       "text": [
        "\r",
        "[=================........]  70.33% Tasks retries:0 Time 0:40:10"
       ]
      },
      {
       "output_type": "stream",
       "stream": "stdout",
       "text": [
        "\r",
        "[=================........]  70.71% Tasks retries:0 Time 0:40:19"
       ]
      },
      {
       "output_type": "stream",
       "stream": "stdout",
       "text": [
        "\r",
        "[=================........]  70.75% Tasks retries:0 Time 0:40:28"
       ]
      },
      {
       "output_type": "stream",
       "stream": "stdout",
       "text": [
        "\r",
        "[=================........]  70.82% Tasks retries:0 Time 0:40:37"
       ]
      },
      {
       "output_type": "stream",
       "stream": "stdout",
       "text": [
        "\r",
        "[=================........]  70.89% Tasks retries:0 Time 0:40:46"
       ]
      },
      {
       "output_type": "stream",
       "stream": "stdout",
       "text": [
        "\r",
        "[=================........]  70.97% Tasks retries:0 Time 0:40:55"
       ]
      },
      {
       "output_type": "stream",
       "stream": "stdout",
       "text": [
        "\r",
        "[=================........]  71.02% Tasks retries:0 Time 0:41:04"
       ]
      },
      {
       "output_type": "stream",
       "stream": "stdout",
       "text": [
        "\r",
        "[=================........]  71.08% Tasks retries:0 Time 0:41:13"
       ]
      },
      {
       "output_type": "stream",
       "stream": "stdout",
       "text": [
        "\r",
        "[=================........]  71.16% Tasks retries:0 Time 0:41:23"
       ]
      },
      {
       "output_type": "stream",
       "stream": "stdout",
       "text": [
        "\r",
        "[=================........]  71.25% Tasks retries:0 Time 0:41:32"
       ]
      },
      {
       "output_type": "stream",
       "stream": "stdout",
       "text": [
        "\r",
        "[=================........]  71.31% Tasks retries:0 Time 0:41:41"
       ]
      },
      {
       "output_type": "stream",
       "stream": "stdout",
       "text": [
        "\r",
        "[=================........]  71.46% Tasks retries:0 Time 0:41:50"
       ]
      },
      {
       "output_type": "stream",
       "stream": "stdout",
       "text": [
        "\r",
        "[=================........]  71.89% Tasks retries:0 Time 0:41:59"
       ]
      },
      {
       "output_type": "stream",
       "stream": "stdout",
       "text": [
        "\r",
        "[=================........]  71.92% Tasks retries:0 Time 0:42:08"
       ]
      },
      {
       "output_type": "stream",
       "stream": "stdout",
       "text": [
        "\r",
        "[=================........]  71.98% Tasks retries:0 Time 0:42:17"
       ]
      },
      {
       "output_type": "stream",
       "stream": "stdout",
       "text": [
        "\r",
        "[==================.......]  72.03% Tasks retries:0 Time 0:42:26"
       ]
      },
      {
       "output_type": "stream",
       "stream": "stdout",
       "text": [
        "\r",
        "[==================.......]  72.07% Tasks retries:0 Time 0:42:35"
       ]
      },
      {
       "output_type": "stream",
       "stream": "stdout",
       "text": [
        "\r",
        "[==================.......]  72.08% Tasks retries:0 Time 0:42:44"
       ]
      },
      {
       "output_type": "stream",
       "stream": "stdout",
       "text": [
        "\r",
        "[==================.......]  72.15% Tasks retries:0 Time 0:42:53"
       ]
      },
      {
       "output_type": "stream",
       "stream": "stdout",
       "text": [
        "\r",
        "[==================.......]  72.21% Tasks retries:0 Time 0:43:02"
       ]
      },
      {
       "output_type": "stream",
       "stream": "stdout",
       "text": [
        "\r",
        "[==================.......]  72.24% Tasks retries:0 Time 0:43:11"
       ]
      },
      {
       "output_type": "stream",
       "stream": "stdout",
       "text": [
        "\r",
        "[==================.......]  72.40% Tasks retries:0 Time 0:43:20"
       ]
      },
      {
       "output_type": "stream",
       "stream": "stdout",
       "text": [
        "\r",
        "[==================.......]  72.52% Tasks retries:0 Time 0:43:29"
       ]
      },
      {
       "output_type": "stream",
       "stream": "stdout",
       "text": [
        "\r",
        "[==================.......]  72.60% Tasks retries:0 Time 0:43:38"
       ]
      },
      {
       "output_type": "stream",
       "stream": "stdout",
       "text": [
        "\r",
        "[==================.......]  73.11% Tasks retries:0 Time 0:43:47"
       ]
      },
      {
       "output_type": "stream",
       "stream": "stdout",
       "text": [
        "\r",
        "[==================.......]  73.14% Tasks retries:0 Time 0:43:56"
       ]
      },
      {
       "output_type": "stream",
       "stream": "stdout",
       "text": [
        "\r",
        "[==================.......]  73.19% Tasks retries:0 Time 0:44:06"
       ]
      },
      {
       "output_type": "stream",
       "stream": "stdout",
       "text": [
        "\r",
        "[==================.......]  73.27% Tasks retries:0 Time 0:44:15"
       ]
      },
      {
       "output_type": "stream",
       "stream": "stdout",
       "text": [
        "\r",
        "[==================.......]  73.29% Tasks retries:0 Time 0:44:24"
       ]
      },
      {
       "output_type": "stream",
       "stream": "stdout",
       "text": [
        "\r",
        "[==================.......]  73.36% Tasks retries:0 Time 0:44:33"
       ]
      },
      {
       "output_type": "stream",
       "stream": "stdout",
       "text": [
        "\r",
        "[==================.......]  73.42% Tasks retries:0 Time 0:44:42"
       ]
      },
      {
       "output_type": "stream",
       "stream": "stdout",
       "text": [
        "\r",
        "[==================.......]  73.45% Tasks retries:0 Time 0:44:51"
       ]
      },
      {
       "output_type": "stream",
       "stream": "stdout",
       "text": [
        "\r",
        "[==================.......]  73.49% Tasks retries:0 Time 0:45:00"
       ]
      },
      {
       "output_type": "stream",
       "stream": "stdout",
       "text": [
        "\r",
        "[==================.......]  73.59% Tasks retries:0 Time 0:45:09"
       ]
      },
      {
       "output_type": "stream",
       "stream": "stdout",
       "text": [
        "\r",
        "[==================.......]  73.76% Tasks retries:0 Time 0:45:18"
       ]
      },
      {
       "output_type": "stream",
       "stream": "stdout",
       "text": [
        "\r",
        "[==================.......]  73.81% Tasks retries:0 Time 0:45:27"
       ]
      },
      {
       "output_type": "stream",
       "stream": "stdout",
       "text": [
        "\r",
        "[==================.......]  73.86% Tasks retries:0 Time 0:45:36"
       ]
      },
      {
       "output_type": "stream",
       "stream": "stdout",
       "text": [
        "\r",
        "[==================.......]  74.41% Tasks retries:0 Time 0:45:45"
       ]
      },
      {
       "output_type": "stream",
       "stream": "stdout",
       "text": [
        "\r",
        "[==================.......]  74.47% Tasks retries:0 Time 0:45:54"
       ]
      },
      {
       "output_type": "stream",
       "stream": "stdout",
       "text": [
        "\r",
        "[==================.......]  74.53% Tasks retries:0 Time 0:46:03"
       ]
      },
      {
       "output_type": "stream",
       "stream": "stdout",
       "text": [
        "\r",
        "[==================.......]  74.63% Tasks retries:0 Time 0:46:12"
       ]
      },
      {
       "output_type": "stream",
       "stream": "stdout",
       "text": [
        "\r",
        "[==================.......]  74.76% Tasks retries:0 Time 0:46:22"
       ]
      },
      {
       "output_type": "stream",
       "stream": "stdout",
       "text": [
        "\r",
        "[==================.......]  74.83% Tasks retries:0 Time 0:46:31"
       ]
      },
      {
       "output_type": "stream",
       "stream": "stdout",
       "text": [
        "\r",
        "[==================.......]  74.89% Tasks retries:0 Time 0:46:40"
       ]
      },
      {
       "output_type": "stream",
       "stream": "stdout",
       "text": [
        "\r",
        "[==================.......]  74.89% Tasks retries:0 Time 0:46:49"
       ]
      },
      {
       "output_type": "stream",
       "stream": "stdout",
       "text": [
        "\r",
        "[==================.......]  74.89% Tasks retries:0 Time 0:46:58"
       ]
      },
      {
       "output_type": "stream",
       "stream": "stdout",
       "text": [
        "\r",
        "[==================.......]  74.91% Tasks retries:0 Time 0:47:07"
       ]
      },
      {
       "output_type": "stream",
       "stream": "stdout",
       "text": [
        "\r",
        "[==================.......]  74.93% Tasks retries:0 Time 0:47:16"
       ]
      },
      {
       "output_type": "stream",
       "stream": "stdout",
       "text": [
        "\r",
        "[==================.......]  75.00% Tasks retries:0 Time 0:47:25"
       ]
      },
      {
       "output_type": "stream",
       "stream": "stdout",
       "text": [
        "\r",
        "[==================.......]  75.00% Tasks retries:0 Time 0:47:34"
       ]
      },
      {
       "output_type": "stream",
       "stream": "stdout",
       "text": [
        "\r",
        "[==================.......]  75.00% Tasks retries:0 Time 0:47:43"
       ]
      },
      {
       "output_type": "stream",
       "stream": "stdout",
       "text": [
        "\r",
        "[==================.......]  75.00% Tasks retries:0 Time 0:47:52"
       ]
      },
      {
       "output_type": "stream",
       "stream": "stdout",
       "text": [
        "\r",
        "[==================.......]  75.00% Tasks retries:0 Time 0:48:01"
       ]
      },
      {
       "output_type": "stream",
       "stream": "stdout",
       "text": [
        "\r",
        "[==================.......]  75.00% Tasks retries:0 Time 0:48:10"
       ]
      },
      {
       "output_type": "stream",
       "stream": "stdout",
       "text": [
        "\r",
        "[=========================] 100.00% Tasks retries:0 Time 0:48:19\n"
       ]
      },
      {
       "output_type": "stream",
       "stream": "stdout",
       "text": [
        "\r",
        "initializing..."
       ]
      },
      {
       "output_type": "stream",
       "stream": "stdout",
       "text": [
        "\r",
        "initializing..."
       ]
      },
      {
       "output_type": "stream",
       "stream": "stdout",
       "text": [
        "\r",
        "[=========================] 100.00%  Time 0:00:00\n"
       ]
      },
      {
       "output_type": "stream",
       "stream": "stdout",
       "text": [
        "Data frame loaded.\n"
       ]
      }
     ],
     "prompt_number": 51
    },
    {
     "cell_type": "code",
     "collapsed": false,
     "input": [
      "def get_time(row):\n",
      "    x = row.tstart.split(\" \")\n",
      "    date = x[0]\n",
      "    time = x[1]\n",
      "    y = time.split(\":\")\n",
      "    hour = y[0]\n",
      "    minute = y[1]\n",
      "    return [date, time, hour, minute]\n",
      "\n",
      "start = time.time()\n",
      "real_netflow.add_columns(get_time, [('date',str), ('time',str), ('hour', ia.float64), ('minute', ia.float64)])\n",
      "end = time.time()\n",
      "parse_time_time = end - start\n"
     ],
     "language": "python",
     "metadata": {},
     "outputs": [
      {
       "output_type": "stream",
       "stream": "stdout",
       "text": [
        "\r",
        "initializing..."
       ]
      },
      {
       "output_type": "stream",
       "stream": "stdout",
       "text": [
        "\r",
        "initializing..."
       ]
      },
      {
       "output_type": "stream",
       "stream": "stdout",
       "text": [
        "\r",
        "initializing..."
       ]
      },
      {
       "output_type": "stream",
       "stream": "stdout",
       "text": [
        "\r",
        "initializing..."
       ]
      },
      {
       "output_type": "stream",
       "stream": "stdout",
       "text": [
        "\r",
        "initializing..."
       ]
      },
      {
       "output_type": "stream",
       "stream": "stdout",
       "text": [
        "\r",
        "initializing..."
       ]
      },
      {
       "output_type": "stream",
       "stream": "stdout",
       "text": [
        "\r",
        "initializing..."
       ]
      },
      {
       "output_type": "stream",
       "stream": "stdout",
       "text": [
        "\r",
        "initializing..."
       ]
      },
      {
       "output_type": "stream",
       "stream": "stdout",
       "text": [
        "\r",
        "initializing..."
       ]
      },
      {
       "output_type": "stream",
       "stream": "stdout",
       "text": [
        "\r",
        "initializing..."
       ]
      },
      {
       "output_type": "stream",
       "stream": "stdout",
       "text": [
        "\r",
        "initializing..."
       ]
      },
      {
       "output_type": "stream",
       "stream": "stdout",
       "text": [
        "\r",
        "initializing..."
       ]
      },
      {
       "output_type": "stream",
       "stream": "stdout",
       "text": [
        "\r",
        "initializing..."
       ]
      },
      {
       "output_type": "stream",
       "stream": "stdout",
       "text": [
        "\r",
        "initializing..."
       ]
      },
      {
       "output_type": "stream",
       "stream": "stdout",
       "text": [
        "\r",
        "initializing..."
       ]
      },
      {
       "output_type": "stream",
       "stream": "stdout",
       "text": [
        "\r",
        "initializing..."
       ]
      },
      {
       "output_type": "stream",
       "stream": "stdout",
       "text": [
        "\r",
        "initializing..."
       ]
      },
      {
       "output_type": "stream",
       "stream": "stdout",
       "text": [
        "\r",
        "initializing..."
       ]
      },
      {
       "output_type": "stream",
       "stream": "stdout",
       "text": [
        "\r",
        "initializing..."
       ]
      },
      {
       "output_type": "stream",
       "stream": "stdout",
       "text": [
        "\r",
        "initializing..."
       ]
      },
      {
       "output_type": "stream",
       "stream": "stdout",
       "text": [
        "\r",
        "initializing..."
       ]
      },
      {
       "output_type": "stream",
       "stream": "stdout",
       "text": [
        "\r",
        "initializing..."
       ]
      },
      {
       "output_type": "stream",
       "stream": "stdout",
       "text": [
        "\r",
        "initializing..."
       ]
      },
      {
       "output_type": "stream",
       "stream": "stdout",
       "text": [
        "\r",
        "initializing..."
       ]
      },
      {
       "output_type": "stream",
       "stream": "stdout",
       "text": [
        "\r",
        "initializing..."
       ]
      },
      {
       "output_type": "stream",
       "stream": "stdout",
       "text": [
        "\r",
        "initializing..."
       ]
      },
      {
       "output_type": "stream",
       "stream": "stdout",
       "text": [
        "\r",
        "initializing..."
       ]
      },
      {
       "output_type": "stream",
       "stream": "stdout",
       "text": [
        "\r",
        "initializing..."
       ]
      },
      {
       "output_type": "stream",
       "stream": "stdout",
       "text": [
        "\r",
        "initializing..."
       ]
      },
      {
       "output_type": "stream",
       "stream": "stdout",
       "text": [
        "\r",
        "initializing..."
       ]
      },
      {
       "output_type": "stream",
       "stream": "stdout",
       "text": [
        "\r",
        "initializing..."
       ]
      },
      {
       "output_type": "stream",
       "stream": "stdout",
       "text": [
        "\r",
        "initializing..."
       ]
      },
      {
       "output_type": "stream",
       "stream": "stdout",
       "text": [
        "\r",
        "initializing..."
       ]
      },
      {
       "output_type": "stream",
       "stream": "stdout",
       "text": [
        "\r",
        "initializing..."
       ]
      },
      {
       "output_type": "stream",
       "stream": "stdout",
       "text": [
        "\r",
        "initializing..."
       ]
      },
      {
       "output_type": "stream",
       "stream": "stdout",
       "text": [
        "\r",
        "initializing..."
       ]
      },
      {
       "output_type": "stream",
       "stream": "stdout",
       "text": [
        "\r",
        "initializing..."
       ]
      },
      {
       "output_type": "stream",
       "stream": "stdout",
       "text": [
        "\r",
        "initializing..."
       ]
      },
      {
       "output_type": "stream",
       "stream": "stdout",
       "text": [
        "\r",
        "initializing..."
       ]
      },
      {
       "output_type": "stream",
       "stream": "stdout",
       "text": [
        "\r",
        "initializing..."
       ]
      },
      {
       "output_type": "stream",
       "stream": "stdout",
       "text": [
        "\r",
        "[.........................]   0.03% Tasks retries:0 Time 0:00:00"
       ]
      },
      {
       "output_type": "stream",
       "stream": "stdout",
       "text": [
        "\r",
        "[.........................]   0.03% Tasks retries:0 Time 0:00:03"
       ]
      },
      {
       "output_type": "stream",
       "stream": "stdout",
       "text": [
        "\r",
        "[.........................]   0.03% Tasks retries:0 Time 0:00:06"
       ]
      },
      {
       "output_type": "stream",
       "stream": "stdout",
       "text": [
        "\r",
        "[.........................]   0.07% Tasks retries:0 Time 0:00:09"
       ]
      },
      {
       "output_type": "stream",
       "stream": "stdout",
       "text": [
        "\r",
        "[.........................]   0.11% Tasks retries:0 Time 0:00:12"
       ]
      },
      {
       "output_type": "stream",
       "stream": "stdout",
       "text": [
        "\r",
        "[.........................]   0.11% Tasks retries:0 Time 0:00:15"
       ]
      },
      {
       "output_type": "stream",
       "stream": "stdout",
       "text": [
        "\r",
        "[.........................]   0.15% Tasks retries:0 Time 0:00:18"
       ]
      },
      {
       "output_type": "stream",
       "stream": "stdout",
       "text": [
        "\r",
        "[.........................]   0.15% Tasks retries:0 Time 0:00:21"
       ]
      },
      {
       "output_type": "stream",
       "stream": "stdout",
       "text": [
        "\r",
        "[.........................]   0.15% Tasks retries:0 Time 0:00:24"
       ]
      },
      {
       "output_type": "stream",
       "stream": "stdout",
       "text": [
        "\r",
        "[.........................]   0.15% Tasks retries:0 Time 0:00:27"
       ]
      },
      {
       "output_type": "stream",
       "stream": "stdout",
       "text": [
        "\r",
        "[.........................]   0.15% Tasks retries:0 Time 0:00:30"
       ]
      },
      {
       "output_type": "stream",
       "stream": "stdout",
       "text": [
        "\r",
        "[.........................]   0.15% Tasks retries:0 Time 0:00:33"
       ]
      },
      {
       "output_type": "stream",
       "stream": "stdout",
       "text": [
        "\r",
        "[.........................]   0.15% Tasks retries:0 Time 0:00:36"
       ]
      },
      {
       "output_type": "stream",
       "stream": "stdout",
       "text": [
        "\r",
        "[.........................]   0.15% Tasks retries:0 Time 0:00:39"
       ]
      },
      {
       "output_type": "stream",
       "stream": "stdout",
       "text": [
        "\r",
        "[.........................]   0.15% Tasks retries:0 Time 0:00:42"
       ]
      },
      {
       "output_type": "stream",
       "stream": "stdout",
       "text": [
        "\r",
        "[.........................]   0.15% Tasks retries:0 Time 0:00:45"
       ]
      },
      {
       "output_type": "stream",
       "stream": "stdout",
       "text": [
        "\r",
        "[.........................]   0.15% Tasks retries:0 Time 0:00:48"
       ]
      },
      {
       "output_type": "stream",
       "stream": "stdout",
       "text": [
        "\r",
        "[.........................]   0.15% Tasks retries:0 Time 0:00:51"
       ]
      },
      {
       "output_type": "stream",
       "stream": "stdout",
       "text": [
        "\r",
        "[.........................]   0.19% Tasks retries:0 Time 0:00:54"
       ]
      },
      {
       "output_type": "stream",
       "stream": "stdout",
       "text": [
        "\r",
        "[.........................]   0.19% Tasks retries:0 Time 0:00:57"
       ]
      },
      {
       "output_type": "stream",
       "stream": "stdout",
       "text": [
        "\r",
        "[.........................]   0.19% Tasks retries:0 Time 0:01:00"
       ]
      },
      {
       "output_type": "stream",
       "stream": "stdout",
       "text": [
        "\r",
        "[.........................]   0.19% Tasks retries:0 Time 0:01:03"
       ]
      },
      {
       "output_type": "stream",
       "stream": "stdout",
       "text": [
        "\r",
        "[.........................]   0.19% Tasks retries:0 Time 0:01:07"
       ]
      },
      {
       "output_type": "stream",
       "stream": "stdout",
       "text": [
        "\r",
        "[.........................]   0.19% Tasks retries:0 Time 0:01:11"
       ]
      },
      {
       "output_type": "stream",
       "stream": "stdout",
       "text": [
        "\r",
        "[.........................]   0.22% Tasks retries:0 Time 0:01:15"
       ]
      },
      {
       "output_type": "stream",
       "stream": "stdout",
       "text": [
        "\r",
        "[.........................]   0.30% Tasks retries:0 Time 0:01:19"
       ]
      },
      {
       "output_type": "stream",
       "stream": "stdout",
       "text": [
        "\r",
        "[.........................]   0.30% Tasks retries:0 Time 0:01:23"
       ]
      },
      {
       "output_type": "stream",
       "stream": "stdout",
       "text": [
        "\r",
        "[.........................]   0.34% Tasks retries:0 Time 0:01:27"
       ]
      },
      {
       "output_type": "stream",
       "stream": "stdout",
       "text": [
        "\r",
        "[.........................]   0.34% Tasks retries:0 Time 0:01:31"
       ]
      },
      {
       "output_type": "stream",
       "stream": "stdout",
       "text": [
        "\r",
        "[.........................]   0.34% Tasks retries:0 Time 0:01:35"
       ]
      },
      {
       "output_type": "stream",
       "stream": "stdout",
       "text": [
        "\r",
        "[.........................]   0.34% Tasks retries:0 Time 0:01:40"
       ]
      },
      {
       "output_type": "stream",
       "stream": "stdout",
       "text": [
        "\r",
        "[.........................]   0.38% Tasks retries:0 Time 0:01:44"
       ]
      },
      {
       "output_type": "stream",
       "stream": "stdout",
       "text": [
        "\r",
        "[.........................]   0.38% Tasks retries:0 Time 0:01:48"
       ]
      },
      {
       "output_type": "stream",
       "stream": "stdout",
       "text": [
        "\r",
        "[.........................]   0.42% Tasks retries:0 Time 0:01:52"
       ]
      },
      {
       "output_type": "stream",
       "stream": "stdout",
       "text": [
        "\r",
        "[.........................]   0.42% Tasks retries:0 Time 0:01:56"
       ]
      },
      {
       "output_type": "stream",
       "stream": "stdout",
       "text": [
        "\r",
        "[.........................]   0.45% Tasks retries:0 Time 0:02:00"
       ]
      },
      {
       "output_type": "stream",
       "stream": "stdout",
       "text": [
        "\r",
        "[.........................]   0.49% Tasks retries:0 Time 0:02:04"
       ]
      },
      {
       "output_type": "stream",
       "stream": "stdout",
       "text": [
        "\r",
        "[.........................]   0.49% Tasks retries:0 Time 0:02:08"
       ]
      },
      {
       "output_type": "stream",
       "stream": "stdout",
       "text": [
        "\r",
        "[.........................]   0.49% Tasks retries:0 Time 0:02:12"
       ]
      },
      {
       "output_type": "stream",
       "stream": "stdout",
       "text": [
        "\r",
        "[.........................]   0.49% Tasks retries:0 Time 0:02:16"
       ]
      },
      {
       "output_type": "stream",
       "stream": "stdout",
       "text": [
        "\r",
        "[.........................]   0.53% Tasks retries:0 Time 0:02:20"
       ]
      },
      {
       "output_type": "stream",
       "stream": "stdout",
       "text": [
        "\r",
        "[.........................]   0.65% Tasks retries:0 Time 0:02:24"
       ]
      },
      {
       "output_type": "stream",
       "stream": "stdout",
       "text": [
        "\r",
        "[.........................]   0.65% Tasks retries:0 Time 0:02:28"
       ]
      },
      {
       "output_type": "stream",
       "stream": "stdout",
       "text": [
        "\r",
        "[.........................]   0.68% Tasks retries:0 Time 0:02:32"
       ]
      },
      {
       "output_type": "stream",
       "stream": "stdout",
       "text": [
        "\r",
        "[.........................]   0.68% Tasks retries:0 Time 0:02:36"
       ]
      },
      {
       "output_type": "stream",
       "stream": "stdout",
       "text": [
        "\r",
        "[.........................]   0.72% Tasks retries:0 Time 0:02:40"
       ]
      },
      {
       "output_type": "stream",
       "stream": "stdout",
       "text": [
        "\r",
        "[.........................]   0.72% Tasks retries:0 Time 0:02:44"
       ]
      },
      {
       "output_type": "stream",
       "stream": "stdout",
       "text": [
        "\r",
        "[.........................]   0.72% Tasks retries:0 Time 0:02:48"
       ]
      },
      {
       "output_type": "stream",
       "stream": "stdout",
       "text": [
        "\r",
        "[.........................]   0.72% Tasks retries:0 Time 0:02:53"
       ]
      },
      {
       "output_type": "stream",
       "stream": "stdout",
       "text": [
        "\r",
        "[.........................]   0.76% Tasks retries:0 Time 0:02:58"
       ]
      },
      {
       "output_type": "stream",
       "stream": "stdout",
       "text": [
        "\r",
        "[.........................]   0.80% Tasks retries:0 Time 0:03:03"
       ]
      },
      {
       "output_type": "stream",
       "stream": "stdout",
       "text": [
        "\r",
        "[.........................]   0.80% Tasks retries:0 Time 0:03:08"
       ]
      },
      {
       "output_type": "stream",
       "stream": "stdout",
       "text": [
        "\r",
        "[.........................]   0.80% Tasks retries:0 Time 0:03:13"
       ]
      },
      {
       "output_type": "stream",
       "stream": "stdout",
       "text": [
        "\r",
        "[.........................]   0.84% Tasks retries:0 Time 0:03:18"
       ]
      },
      {
       "output_type": "stream",
       "stream": "stdout",
       "text": [
        "\r",
        "[.........................]   0.84% Tasks retries:0 Time 0:03:23"
       ]
      },
      {
       "output_type": "stream",
       "stream": "stdout",
       "text": [
        "\r",
        "[.........................]   0.88% Tasks retries:0 Time 0:03:28"
       ]
      },
      {
       "output_type": "stream",
       "stream": "stdout",
       "text": [
        "\r",
        "[.........................]   0.88% Tasks retries:0 Time 0:03:34"
       ]
      },
      {
       "output_type": "stream",
       "stream": "stdout",
       "text": [
        "\r",
        "[.........................]   0.88% Tasks retries:0 Time 0:03:39"
       ]
      },
      {
       "output_type": "stream",
       "stream": "stdout",
       "text": [
        "\r",
        "[.........................]   0.91% Tasks retries:0 Time 0:03:44"
       ]
      },
      {
       "output_type": "stream",
       "stream": "stdout",
       "text": [
        "\r",
        "[.........................]   0.91% Tasks retries:0 Time 0:03:49"
       ]
      },
      {
       "output_type": "stream",
       "stream": "stdout",
       "text": [
        "\r",
        "[.........................]   0.91% Tasks retries:0 Time 0:03:54"
       ]
      },
      {
       "output_type": "stream",
       "stream": "stdout",
       "text": [
        "\r",
        "[.........................]   0.91% Tasks retries:0 Time 0:03:59"
       ]
      },
      {
       "output_type": "stream",
       "stream": "stdout",
       "text": [
        "\r",
        "[.........................]   0.91% Tasks retries:0 Time 0:04:04"
       ]
      },
      {
       "output_type": "stream",
       "stream": "stdout",
       "text": [
        "\r",
        "[.........................]   0.91% Tasks retries:0 Time 0:04:09"
       ]
      },
      {
       "output_type": "stream",
       "stream": "stdout",
       "text": [
        "\r",
        "[.........................]   0.99% Tasks retries:0 Time 0:04:15"
       ]
      },
      {
       "output_type": "stream",
       "stream": "stdout",
       "text": [
        "\r",
        "[.........................]   1.07% Tasks retries:0 Time 0:04:21"
       ]
      },
      {
       "output_type": "stream",
       "stream": "stdout",
       "text": [
        "\r",
        "[.........................]   2.06% Tasks retries:0 Time 0:04:27"
       ]
      },
      {
       "output_type": "stream",
       "stream": "stdout",
       "text": [
        "\r",
        "[=........................]   4.82% Tasks retries:0 Time 0:04:33"
       ]
      },
      {
       "output_type": "stream",
       "stream": "stdout",
       "text": [
        "\r",
        "[=........................]   6.93% Tasks retries:0 Time 0:04:39"
       ]
      },
      {
       "output_type": "stream",
       "stream": "stdout",
       "text": [
        "\r",
        "[==.......................]   8.35% Tasks retries:0 Time 0:04:45"
       ]
      },
      {
       "output_type": "stream",
       "stream": "stdout",
       "text": [
        "\r",
        "[==.......................]   8.62% Tasks retries:0 Time 0:04:51"
       ]
      },
      {
       "output_type": "stream",
       "stream": "stdout",
       "text": [
        "\r",
        "[==.......................]   8.65% Tasks retries:0 Time 0:04:57"
       ]
      },
      {
       "output_type": "stream",
       "stream": "stdout",
       "text": [
        "\r",
        "[==.......................]   8.65% Tasks retries:0 Time 0:05:03"
       ]
      },
      {
       "output_type": "stream",
       "stream": "stdout",
       "text": [
        "\r",
        "[==.......................]   8.69% Tasks retries:0 Time 0:05:09"
       ]
      },
      {
       "output_type": "stream",
       "stream": "stdout",
       "text": [
        "\r",
        "[==.......................]   8.69% Tasks retries:0 Time 0:05:15"
       ]
      },
      {
       "output_type": "stream",
       "stream": "stdout",
       "text": [
        "\r",
        "[==.......................]   8.77% Tasks retries:0 Time 0:05:21"
       ]
      },
      {
       "output_type": "stream",
       "stream": "stdout",
       "text": [
        "\r",
        "[==.......................]   8.77% Tasks retries:0 Time 0:05:27"
       ]
      },
      {
       "output_type": "stream",
       "stream": "stdout",
       "text": [
        "\r",
        "[==.......................]   8.81% Tasks retries:0 Time 0:05:33"
       ]
      },
      {
       "output_type": "stream",
       "stream": "stdout",
       "text": [
        "\r",
        "[==.......................]   8.85% Tasks retries:0 Time 0:05:39"
       ]
      },
      {
       "output_type": "stream",
       "stream": "stdout",
       "text": [
        "\r",
        "[==.......................]   8.88% Tasks retries:0 Time 0:05:45"
       ]
      },
      {
       "output_type": "stream",
       "stream": "stdout",
       "text": [
        "\r",
        "[==.......................]   8.92% Tasks retries:0 Time 0:05:52"
       ]
      },
      {
       "output_type": "stream",
       "stream": "stdout",
       "text": [
        "\r",
        "[==.......................]   8.92% Tasks retries:0 Time 0:05:58"
       ]
      },
      {
       "output_type": "stream",
       "stream": "stdout",
       "text": [
        "\r",
        "[==.......................]   8.92% Tasks retries:0 Time 0:06:04"
       ]
      },
      {
       "output_type": "stream",
       "stream": "stdout",
       "text": [
        "\r",
        "[==.......................]   8.92% Tasks retries:0 Time 0:06:10"
       ]
      },
      {
       "output_type": "stream",
       "stream": "stdout",
       "text": [
        "\r",
        "[==.......................]   8.92% Tasks retries:0 Time 0:06:16"
       ]
      },
      {
       "output_type": "stream",
       "stream": "stdout",
       "text": [
        "\r",
        "[==.......................]   8.92% Tasks retries:0 Time 0:06:22"
       ]
      },
      {
       "output_type": "stream",
       "stream": "stdout",
       "text": [
        "\r",
        "[==.......................]   8.92% Tasks retries:0 Time 0:06:28"
       ]
      },
      {
       "output_type": "stream",
       "stream": "stdout",
       "text": [
        "\r",
        "[==.......................]   8.96% Tasks retries:0 Time 0:06:35"
       ]
      },
      {
       "output_type": "stream",
       "stream": "stdout",
       "text": [
        "\r",
        "[==.......................]   8.96% Tasks retries:0 Time 0:06:42"
       ]
      },
      {
       "output_type": "stream",
       "stream": "stdout",
       "text": [
        "\r",
        "[==.......................]   8.96% Tasks retries:0 Time 0:06:49"
       ]
      },
      {
       "output_type": "stream",
       "stream": "stdout",
       "text": [
        "\r",
        "[==.......................]   9.00% Tasks retries:0 Time 0:06:56"
       ]
      },
      {
       "output_type": "stream",
       "stream": "stdout",
       "text": [
        "\r",
        "[==.......................]   9.08% Tasks retries:0 Time 0:07:03"
       ]
      },
      {
       "output_type": "stream",
       "stream": "stdout",
       "text": [
        "\r",
        "[==.......................]   9.08% Tasks retries:0 Time 0:07:10"
       ]
      },
      {
       "output_type": "stream",
       "stream": "stdout",
       "text": [
        "\r",
        "[==.......................]   9.11% Tasks retries:0 Time 0:07:17"
       ]
      },
      {
       "output_type": "stream",
       "stream": "stdout",
       "text": [
        "\r",
        "[==.......................]   9.15% Tasks retries:0 Time 0:07:24"
       ]
      },
      {
       "output_type": "stream",
       "stream": "stdout",
       "text": [
        "\r",
        "[==.......................]   9.23% Tasks retries:0 Time 0:07:31"
       ]
      },
      {
       "output_type": "stream",
       "stream": "stdout",
       "text": [
        "\r",
        "[==.......................]   9.27% Tasks retries:0 Time 0:07:38"
       ]
      },
      {
       "output_type": "stream",
       "stream": "stdout",
       "text": [
        "\r",
        "[==.......................]   9.34% Tasks retries:0 Time 0:07:45"
       ]
      },
      {
       "output_type": "stream",
       "stream": "stdout",
       "text": [
        "\r",
        "[==.......................]   9.42% Tasks retries:0 Time 0:07:52"
       ]
      },
      {
       "output_type": "stream",
       "stream": "stdout",
       "text": [
        "\r",
        "[==.......................]   9.46% Tasks retries:0 Time 0:07:59"
       ]
      },
      {
       "output_type": "stream",
       "stream": "stdout",
       "text": [
        "\r",
        "[==.......................]   9.54% Tasks retries:0 Time 0:08:06"
       ]
      },
      {
       "output_type": "stream",
       "stream": "stdout",
       "text": [
        "\r",
        "[==.......................]   9.65% Tasks retries:0 Time 0:08:13"
       ]
      },
      {
       "output_type": "stream",
       "stream": "stdout",
       "text": [
        "\r",
        "[==.......................]   9.73% Tasks retries:0 Time 0:08:20"
       ]
      },
      {
       "output_type": "stream",
       "stream": "stdout",
       "text": [
        "\r",
        "[==.......................]   9.73% Tasks retries:0 Time 0:08:28"
       ]
      },
      {
       "output_type": "stream",
       "stream": "stdout",
       "text": [
        "\r",
        "[==.......................]   9.84% Tasks retries:0 Time 0:08:35"
       ]
      },
      {
       "output_type": "stream",
       "stream": "stdout",
       "text": [
        "\r",
        "[==.......................]   9.84% Tasks retries:0 Time 0:08:42"
       ]
      },
      {
       "output_type": "stream",
       "stream": "stdout",
       "text": [
        "\r",
        "[==.......................]   9.92% Tasks retries:0 Time 0:08:49"
       ]
      },
      {
       "output_type": "stream",
       "stream": "stdout",
       "text": [
        "\r",
        "[==.......................]  10.00% Tasks retries:0 Time 0:08:56"
       ]
      },
      {
       "output_type": "stream",
       "stream": "stdout",
       "text": [
        "\r",
        "[==.......................]  10.00% Tasks retries:0 Time 0:09:03"
       ]
      },
      {
       "output_type": "stream",
       "stream": "stdout",
       "text": [
        "\r",
        "[==.......................]  10.03% Tasks retries:0 Time 0:09:10"
       ]
      },
      {
       "output_type": "stream",
       "stream": "stdout",
       "text": [
        "\r",
        "[==.......................]  10.11% Tasks retries:0 Time 0:09:17"
       ]
      },
      {
       "output_type": "stream",
       "stream": "stdout",
       "text": [
        "\r",
        "[==.......................]  10.15% Tasks retries:0 Time 0:09:24"
       ]
      },
      {
       "output_type": "stream",
       "stream": "stdout",
       "text": [
        "\r",
        "[==.......................]  10.34% Tasks retries:0 Time 0:09:31"
       ]
      },
      {
       "output_type": "stream",
       "stream": "stdout",
       "text": [
        "\r",
        "[==.......................]  10.38% Tasks retries:0 Time 0:09:38"
       ]
      },
      {
       "output_type": "stream",
       "stream": "stdout",
       "text": [
        "\r",
        "[==.......................]  10.45% Tasks retries:0 Time 0:09:45"
       ]
      },
      {
       "output_type": "stream",
       "stream": "stdout",
       "text": [
        "\r",
        "[==.......................]  10.53% Tasks retries:0 Time 0:09:52"
       ]
      },
      {
       "output_type": "stream",
       "stream": "stdout",
       "text": [
        "\r",
        "[==.......................]  11.07% Tasks retries:0 Time 0:09:59"
       ]
      },
      {
       "output_type": "stream",
       "stream": "stdout",
       "text": [
        "\r",
        "[===......................]  12.06% Tasks retries:0 Time 0:10:06"
       ]
      },
      {
       "output_type": "stream",
       "stream": "stdout",
       "text": [
        "\r",
        "[===......................]  12.98% Tasks retries:0 Time 0:10:13"
       ]
      },
      {
       "output_type": "stream",
       "stream": "stdout",
       "text": [
        "\r",
        "[===......................]  14.82% Tasks retries:0 Time 0:10:20"
       ]
      },
      {
       "output_type": "stream",
       "stream": "stdout",
       "text": [
        "\r",
        "[====.....................]  16.43% Tasks retries:0 Time 0:10:27"
       ]
      },
      {
       "output_type": "stream",
       "stream": "stdout",
       "text": [
        "\r",
        "[====.....................]  17.01% Tasks retries:0 Time 0:10:34"
       ]
      },
      {
       "output_type": "stream",
       "stream": "stdout",
       "text": [
        "\r",
        "[====.....................]  17.27% Tasks retries:0 Time 0:10:41"
       ]
      },
      {
       "output_type": "stream",
       "stream": "stdout",
       "text": [
        "\r",
        "[====.....................]  17.39% Tasks retries:0 Time 0:10:48"
       ]
      },
      {
       "output_type": "stream",
       "stream": "stdout",
       "text": [
        "\r",
        "[====.....................]  17.39% Tasks retries:0 Time 0:10:56"
       ]
      },
      {
       "output_type": "stream",
       "stream": "stdout",
       "text": [
        "\r",
        "[====.....................]  17.43% Tasks retries:0 Time 0:11:03"
       ]
      },
      {
       "output_type": "stream",
       "stream": "stdout",
       "text": [
        "\r",
        "[====.....................]  17.47% Tasks retries:0 Time 0:11:11"
       ]
      },
      {
       "output_type": "stream",
       "stream": "stdout",
       "text": [
        "\r",
        "[====.....................]  17.50% Tasks retries:0 Time 0:11:19"
       ]
      },
      {
       "output_type": "stream",
       "stream": "stdout",
       "text": [
        "\r",
        "[====.....................]  17.58% Tasks retries:0 Time 0:11:27"
       ]
      },
      {
       "output_type": "stream",
       "stream": "stdout",
       "text": [
        "\r",
        "[====.....................]  17.62% Tasks retries:0 Time 0:11:35"
       ]
      },
      {
       "output_type": "stream",
       "stream": "stdout",
       "text": [
        "\r",
        "[====.....................]  17.62% Tasks retries:0 Time 0:11:43"
       ]
      },
      {
       "output_type": "stream",
       "stream": "stdout",
       "text": [
        "\r",
        "[====.....................]  17.66% Tasks retries:0 Time 0:11:51"
       ]
      },
      {
       "output_type": "stream",
       "stream": "stdout",
       "text": [
        "\r",
        "[====.....................]  17.73% Tasks retries:0 Time 0:11:59"
       ]
      },
      {
       "output_type": "stream",
       "stream": "stdout",
       "text": [
        "\r",
        "[====.....................]  17.73% Tasks retries:0 Time 0:12:07"
       ]
      },
      {
       "output_type": "stream",
       "stream": "stdout",
       "text": [
        "\r",
        "[====.....................]  17.77% Tasks retries:0 Time 0:12:15"
       ]
      },
      {
       "output_type": "stream",
       "stream": "stdout",
       "text": [
        "\r",
        "[====.....................]  17.81% Tasks retries:0 Time 0:12:23"
       ]
      },
      {
       "output_type": "stream",
       "stream": "stdout",
       "text": [
        "\r",
        "[====.....................]  17.85% Tasks retries:0 Time 0:12:31"
       ]
      },
      {
       "output_type": "stream",
       "stream": "stdout",
       "text": [
        "\r",
        "[====.....................]  17.89% Tasks retries:0 Time 0:12:39"
       ]
      },
      {
       "output_type": "stream",
       "stream": "stdout",
       "text": [
        "\r",
        "[====.....................]  17.96% Tasks retries:0 Time 0:12:47"
       ]
      },
      {
       "output_type": "stream",
       "stream": "stdout",
       "text": [
        "\r",
        "[====.....................]  17.96% Tasks retries:0 Time 0:12:55"
       ]
      },
      {
       "output_type": "stream",
       "stream": "stdout",
       "text": [
        "\r",
        "[====.....................]  18.00% Tasks retries:0 Time 0:13:03"
       ]
      },
      {
       "output_type": "stream",
       "stream": "stdout",
       "text": [
        "\r",
        "[====.....................]  18.12% Tasks retries:0 Time 0:13:11"
       ]
      },
      {
       "output_type": "stream",
       "stream": "stdout",
       "text": [
        "\r",
        "[====.....................]  18.31% Tasks retries:0 Time 0:13:19"
       ]
      },
      {
       "output_type": "stream",
       "stream": "stdout",
       "text": [
        "\r",
        "[====.....................]  18.35% Tasks retries:0 Time 0:13:27"
       ]
      },
      {
       "output_type": "stream",
       "stream": "stdout",
       "text": [
        "\r",
        "[====.....................]  18.42% Tasks retries:0 Time 0:13:35"
       ]
      },
      {
       "output_type": "stream",
       "stream": "stdout",
       "text": [
        "\r",
        "[====.....................]  18.46% Tasks retries:0 Time 0:13:43"
       ]
      },
      {
       "output_type": "stream",
       "stream": "stdout",
       "text": [
        "\r",
        "[====.....................]  18.62% Tasks retries:0 Time 0:13:52"
       ]
      },
      {
       "output_type": "stream",
       "stream": "stdout",
       "text": [
        "\r",
        "[====.....................]  18.77% Tasks retries:0 Time 0:14:00"
       ]
      },
      {
       "output_type": "stream",
       "stream": "stdout",
       "text": [
        "\r",
        "[====.....................]  18.88% Tasks retries:0 Time 0:14:08"
       ]
      },
      {
       "output_type": "stream",
       "stream": "stdout",
       "text": [
        "\r",
        "[====.....................]  18.92% Tasks retries:0 Time 0:14:16"
       ]
      },
      {
       "output_type": "stream",
       "stream": "stdout",
       "text": [
        "\r",
        "[====.....................]  19.08% Tasks retries:0 Time 0:14:24"
       ]
      },
      {
       "output_type": "stream",
       "stream": "stdout",
       "text": [
        "\r",
        "[====.....................]  19.11% Tasks retries:0 Time 0:14:32"
       ]
      },
      {
       "output_type": "stream",
       "stream": "stdout",
       "text": [
        "\r",
        "[====.....................]  19.27% Tasks retries:0 Time 0:14:40"
       ]
      },
      {
       "output_type": "stream",
       "stream": "stdout",
       "text": [
        "\r",
        "[====.....................]  19.27% Tasks retries:0 Time 0:14:48"
       ]
      },
      {
       "output_type": "stream",
       "stream": "stdout",
       "text": [
        "\r",
        "[====.....................]  19.31% Tasks retries:0 Time 0:14:56"
       ]
      },
      {
       "output_type": "stream",
       "stream": "stdout",
       "text": [
        "\r",
        "[====.....................]  19.42% Tasks retries:0 Time 0:15:04"
       ]
      },
      {
       "output_type": "stream",
       "stream": "stdout",
       "text": [
        "\r",
        "[====.....................]  19.61% Tasks retries:0 Time 0:15:12"
       ]
      },
      {
       "output_type": "stream",
       "stream": "stdout",
       "text": [
        "\r",
        "[====.....................]  19.69% Tasks retries:0 Time 0:15:20"
       ]
      },
      {
       "output_type": "stream",
       "stream": "stdout",
       "text": [
        "\r",
        "[====.....................]  19.92% Tasks retries:0 Time 0:15:28"
       ]
      },
      {
       "output_type": "stream",
       "stream": "stdout",
       "text": [
        "\r",
        "[=====....................]  20.19% Tasks retries:0 Time 0:15:36"
       ]
      },
      {
       "output_type": "stream",
       "stream": "stdout",
       "text": [
        "\r",
        "[=====....................]  20.91% Tasks retries:0 Time 0:15:44"
       ]
      },
      {
       "output_type": "stream",
       "stream": "stdout",
       "text": [
        "\r",
        "[=====....................]  21.80% Tasks retries:0 Time 0:15:52"
       ]
      },
      {
       "output_type": "stream",
       "stream": "stdout",
       "text": [
        "\r",
        "[=====....................]  22.98% Tasks retries:0 Time 0:16:00"
       ]
      },
      {
       "output_type": "stream",
       "stream": "stdout",
       "text": [
        "\r",
        "[======...................]  24.52% Tasks retries:0 Time 0:16:08"
       ]
      },
      {
       "output_type": "stream",
       "stream": "stdout",
       "text": [
        "\r",
        "[======...................]  25.44% Tasks retries:0 Time 0:16:16"
       ]
      },
      {
       "output_type": "stream",
       "stream": "stdout",
       "text": [
        "\r",
        "[======...................]  25.70% Tasks retries:0 Time 0:16:24"
       ]
      },
      {
       "output_type": "stream",
       "stream": "stdout",
       "text": [
        "\r",
        "[======...................]  25.97% Tasks retries:0 Time 0:16:32"
       ]
      },
      {
       "output_type": "stream",
       "stream": "stdout",
       "text": [
        "\r",
        "[======...................]  26.16% Tasks retries:0 Time 0:16:41"
       ]
      },
      {
       "output_type": "stream",
       "stream": "stdout",
       "text": [
        "\r",
        "[======...................]  26.24% Tasks retries:0 Time 0:16:49"
       ]
      },
      {
       "output_type": "stream",
       "stream": "stdout",
       "text": [
        "\r",
        "[======...................]  26.32% Tasks retries:0 Time 0:16:57"
       ]
      },
      {
       "output_type": "stream",
       "stream": "stdout",
       "text": [
        "\r",
        "[======...................]  26.39% Tasks retries:0 Time 0:17:05"
       ]
      },
      {
       "output_type": "stream",
       "stream": "stdout",
       "text": [
        "\r",
        "[======...................]  26.39% Tasks retries:0 Time 0:17:13"
       ]
      },
      {
       "output_type": "stream",
       "stream": "stdout",
       "text": [
        "\r",
        "[======...................]  26.51% Tasks retries:0 Time 0:17:21"
       ]
      },
      {
       "output_type": "stream",
       "stream": "stdout",
       "text": [
        "\r",
        "[======...................]  26.55% Tasks retries:0 Time 0:17:29"
       ]
      },
      {
       "output_type": "stream",
       "stream": "stdout",
       "text": [
        "\r",
        "[======...................]  26.66% Tasks retries:0 Time 0:17:37"
       ]
      },
      {
       "output_type": "stream",
       "stream": "stdout",
       "text": [
        "\r",
        "[======...................]  26.81% Tasks retries:0 Time 0:17:45"
       ]
      },
      {
       "output_type": "stream",
       "stream": "stdout",
       "text": [
        "\r",
        "[======...................]  26.85% Tasks retries:0 Time 0:17:53"
       ]
      },
      {
       "output_type": "stream",
       "stream": "stdout",
       "text": [
        "\r",
        "[======...................]  26.89% Tasks retries:0 Time 0:18:01"
       ]
      },
      {
       "output_type": "stream",
       "stream": "stdout",
       "text": [
        "\r",
        "[======...................]  26.93% Tasks retries:0 Time 0:18:09"
       ]
      },
      {
       "output_type": "stream",
       "stream": "stdout",
       "text": [
        "\r",
        "[======...................]  26.97% Tasks retries:0 Time 0:18:17"
       ]
      },
      {
       "output_type": "stream",
       "stream": "stdout",
       "text": [
        "\r",
        "[======...................]  27.04% Tasks retries:0 Time 0:18:25"
       ]
      },
      {
       "output_type": "stream",
       "stream": "stdout",
       "text": [
        "\r",
        "[======...................]  27.04% Tasks retries:0 Time 0:18:33"
       ]
      },
      {
       "output_type": "stream",
       "stream": "stdout",
       "text": [
        "\r",
        "[======...................]  27.04% Tasks retries:0 Time 0:18:41"
       ]
      },
      {
       "output_type": "stream",
       "stream": "stdout",
       "text": [
        "\r",
        "[======...................]  27.16% Tasks retries:0 Time 0:18:49"
       ]
      },
      {
       "output_type": "stream",
       "stream": "stdout",
       "text": [
        "\r",
        "[======...................]  27.39% Tasks retries:0 Time 0:18:58"
       ]
      },
      {
       "output_type": "stream",
       "stream": "stdout",
       "text": [
        "\r",
        "[======...................]  27.47% Tasks retries:0 Time 0:19:07"
       ]
      },
      {
       "output_type": "stream",
       "stream": "stdout",
       "text": [
        "\r",
        "[======...................]  27.62% Tasks retries:0 Time 0:19:16"
       ]
      },
      {
       "output_type": "stream",
       "stream": "stdout",
       "text": [
        "\r",
        "[======...................]  27.66% Tasks retries:0 Time 0:19:26"
       ]
      },
      {
       "output_type": "stream",
       "stream": "stdout",
       "text": [
        "\r",
        "[======...................]  27.89% Tasks retries:0 Time 0:19:35"
       ]
      },
      {
       "output_type": "stream",
       "stream": "stdout",
       "text": [
        "\r",
        "[======...................]  27.96% Tasks retries:0 Time 0:19:44"
       ]
      },
      {
       "output_type": "stream",
       "stream": "stdout",
       "text": [
        "\r",
        "[=======..................]  28.04% Tasks retries:0 Time 0:19:53"
       ]
      },
      {
       "output_type": "stream",
       "stream": "stdout",
       "text": [
        "\r",
        "[=======..................]  28.16% Tasks retries:0 Time 0:20:02"
       ]
      },
      {
       "output_type": "stream",
       "stream": "stdout",
       "text": [
        "\r",
        "[=======..................]  28.27% Tasks retries:0 Time 0:20:11"
       ]
      },
      {
       "output_type": "stream",
       "stream": "stdout",
       "text": [
        "\r",
        "[=======..................]  28.42% Tasks retries:0 Time 0:20:20"
       ]
      },
      {
       "output_type": "stream",
       "stream": "stdout",
       "text": [
        "\r",
        "[=======..................]  28.50% Tasks retries:0 Time 0:20:29"
       ]
      },
      {
       "output_type": "stream",
       "stream": "stdout",
       "text": [
        "\r",
        "[=======..................]  28.54% Tasks retries:0 Time 0:20:38"
       ]
      },
      {
       "output_type": "stream",
       "stream": "stdout",
       "text": [
        "\r",
        "[=======..................]  28.62% Tasks retries:0 Time 0:20:47"
       ]
      },
      {
       "output_type": "stream",
       "stream": "stdout",
       "text": [
        "\r",
        "[=======..................]  28.85% Tasks retries:0 Time 0:20:56"
       ]
      },
      {
       "output_type": "stream",
       "stream": "stdout",
       "text": [
        "\r",
        "[=======..................]  29.08% Tasks retries:0 Time 0:21:05"
       ]
      },
      {
       "output_type": "stream",
       "stream": "stdout",
       "text": [
        "\r",
        "[=======..................]  29.27% Tasks retries:0 Time 0:21:14"
       ]
      },
      {
       "output_type": "stream",
       "stream": "stdout",
       "text": [
        "\r",
        "[=======..................]  29.84% Tasks retries:0 Time 0:21:23"
       ]
      },
      {
       "output_type": "stream",
       "stream": "stdout",
       "text": [
        "\r",
        "[=======..................]  30.72% Tasks retries:0 Time 0:21:32"
       ]
      },
      {
       "output_type": "stream",
       "stream": "stdout",
       "text": [
        "\r",
        "[=======..................]  31.80% Tasks retries:0 Time 0:21:41"
       ]
      },
      {
       "output_type": "stream",
       "stream": "stdout",
       "text": [
        "\r",
        "[========.................]  33.25% Tasks retries:0 Time 0:21:51"
       ]
      },
      {
       "output_type": "stream",
       "stream": "stdout",
       "text": [
        "\r",
        "[========.................]  33.90% Tasks retries:0 Time 0:22:00"
       ]
      },
      {
       "output_type": "stream",
       "stream": "stdout",
       "text": [
        "\r",
        "[========.................]  34.44% Tasks retries:0 Time 0:22:09"
       ]
      },
      {
       "output_type": "stream",
       "stream": "stdout",
       "text": [
        "\r",
        "[========.................]  34.71% Tasks retries:0 Time 0:22:18"
       ]
      },
      {
       "output_type": "stream",
       "stream": "stdout",
       "text": [
        "\r",
        "[========.................]  34.90% Tasks retries:0 Time 0:22:27"
       ]
      },
      {
       "output_type": "stream",
       "stream": "stdout",
       "text": [
        "\r",
        "[========.................]  34.98% Tasks retries:0 Time 0:22:36"
       ]
      },
      {
       "output_type": "stream",
       "stream": "stdout",
       "text": [
        "\r",
        "[========.................]  35.05% Tasks retries:0 Time 0:22:45"
       ]
      },
      {
       "output_type": "stream",
       "stream": "stdout",
       "text": [
        "\r",
        "[========.................]  35.17% Tasks retries:0 Time 0:22:54"
       ]
      },
      {
       "output_type": "stream",
       "stream": "stdout",
       "text": [
        "\r",
        "[========.................]  35.24% Tasks retries:0 Time 0:23:03"
       ]
      },
      {
       "output_type": "stream",
       "stream": "stdout",
       "text": [
        "\r",
        "[========.................]  35.28% Tasks retries:0 Time 0:23:12"
       ]
      },
      {
       "output_type": "stream",
       "stream": "stdout",
       "text": [
        "\r",
        "[========.................]  35.51% Tasks retries:0 Time 0:23:21"
       ]
      },
      {
       "output_type": "stream",
       "stream": "stdout",
       "text": [
        "\r",
        "[========.................]  35.59% Tasks retries:0 Time 0:23:30"
       ]
      },
      {
       "output_type": "stream",
       "stream": "stdout",
       "text": [
        "\r",
        "[========.................]  35.67% Tasks retries:0 Time 0:23:39"
       ]
      },
      {
       "output_type": "stream",
       "stream": "stdout",
       "text": [
        "\r",
        "[========.................]  35.67% Tasks retries:0 Time 0:23:48"
       ]
      },
      {
       "output_type": "stream",
       "stream": "stdout",
       "text": [
        "\r",
        "[========.................]  35.78% Tasks retries:0 Time 0:23:57"
       ]
      },
      {
       "output_type": "stream",
       "stream": "stdout",
       "text": [
        "\r",
        "[========.................]  35.90% Tasks retries:0 Time 0:24:06"
       ]
      },
      {
       "output_type": "stream",
       "stream": "stdout",
       "text": [
        "\r",
        "[========.................]  35.97% Tasks retries:0 Time 0:24:15"
       ]
      },
      {
       "output_type": "stream",
       "stream": "stdout",
       "text": [
        "\r",
        "[=========................]  36.01% Tasks retries:0 Time 0:24:25"
       ]
      },
      {
       "output_type": "stream",
       "stream": "stdout",
       "text": [
        "\r",
        "[=========................]  36.01% Tasks retries:0 Time 0:24:34"
       ]
      },
      {
       "output_type": "stream",
       "stream": "stdout",
       "text": [
        "\r",
        "[=========................]  36.36% Tasks retries:0 Time 0:24:43"
       ]
      },
      {
       "output_type": "stream",
       "stream": "stdout",
       "text": [
        "\r",
        "[=========................]  36.47% Tasks retries:0 Time 0:24:52"
       ]
      },
      {
       "output_type": "stream",
       "stream": "stdout",
       "text": [
        "\r",
        "[=========................]  36.66% Tasks retries:0 Time 0:25:01"
       ]
      },
      {
       "output_type": "stream",
       "stream": "stdout",
       "text": [
        "\r",
        "[=========................]  36.85% Tasks retries:0 Time 0:25:10"
       ]
      },
      {
       "output_type": "stream",
       "stream": "stdout",
       "text": [
        "\r",
        "[=========................]  36.85% Tasks retries:0 Time 0:25:19"
       ]
      },
      {
       "output_type": "stream",
       "stream": "stdout",
       "text": [
        "\r",
        "[=========................]  37.01% Tasks retries:0 Time 0:25:28"
       ]
      },
      {
       "output_type": "stream",
       "stream": "stdout",
       "text": [
        "\r",
        "[=========................]  37.08% Tasks retries:0 Time 0:25:37"
       ]
      },
      {
       "output_type": "stream",
       "stream": "stdout",
       "text": [
        "\r",
        "[=========................]  37.20% Tasks retries:0 Time 0:25:46"
       ]
      },
      {
       "output_type": "stream",
       "stream": "stdout",
       "text": [
        "\r",
        "[=========................]  37.39% Tasks retries:0 Time 0:25:55"
       ]
      },
      {
       "output_type": "stream",
       "stream": "stdout",
       "text": [
        "\r",
        "[=========................]  37.47% Tasks retries:0 Time 0:26:04"
       ]
      },
      {
       "output_type": "stream",
       "stream": "stdout",
       "text": [
        "\r",
        "[=========................]  37.47% Tasks retries:0 Time 0:26:13"
       ]
      },
      {
       "output_type": "stream",
       "stream": "stdout",
       "text": [
        "\r",
        "[=========................]  37.58% Tasks retries:0 Time 0:26:22"
       ]
      },
      {
       "output_type": "stream",
       "stream": "stdout",
       "text": [
        "\r",
        "[=========................]  37.62% Tasks retries:0 Time 0:26:31"
       ]
      },
      {
       "output_type": "stream",
       "stream": "stdout",
       "text": [
        "\r",
        "[=========................]  37.85% Tasks retries:0 Time 0:26:40"
       ]
      },
      {
       "output_type": "stream",
       "stream": "stdout",
       "text": [
        "\r",
        "[=========................]  38.16% Tasks retries:0 Time 0:26:49"
       ]
      },
      {
       "output_type": "stream",
       "stream": "stdout",
       "text": [
        "\r",
        "[=========................]  38.50% Tasks retries:0 Time 0:26:58"
       ]
      },
      {
       "output_type": "stream",
       "stream": "stdout",
       "text": [
        "\r",
        "[=========................]  39.00% Tasks retries:0 Time 0:27:07"
       ]
      },
      {
       "output_type": "stream",
       "stream": "stdout",
       "text": [
        "\r",
        "[=========................]  39.69% Tasks retries:0 Time 0:27:17"
       ]
      },
      {
       "output_type": "stream",
       "stream": "stdout",
       "text": [
        "\r",
        "[==========...............]  40.88% Tasks retries:0 Time 0:27:26"
       ]
      },
      {
       "output_type": "stream",
       "stream": "stdout",
       "text": [
        "\r",
        "[==========...............]  41.87% Tasks retries:0 Time 0:27:35"
       ]
      },
      {
       "output_type": "stream",
       "stream": "stdout",
       "text": [
        "\r",
        "[==========...............]  42.72% Tasks retries:0 Time 0:27:44"
       ]
      },
      {
       "output_type": "stream",
       "stream": "stdout",
       "text": [
        "\r",
        "[==========...............]  43.21% Tasks retries:0 Time 0:27:53"
       ]
      },
      {
       "output_type": "stream",
       "stream": "stdout",
       "text": [
        "\r",
        "[==========...............]  43.52% Tasks retries:0 Time 0:28:02"
       ]
      },
      {
       "output_type": "stream",
       "stream": "stdout",
       "text": [
        "\r",
        "[==========...............]  43.83% Tasks retries:0 Time 0:28:11"
       ]
      },
      {
       "output_type": "stream",
       "stream": "stdout",
       "text": [
        "\r",
        "[==========...............]  43.98% Tasks retries:0 Time 0:28:20"
       ]
      },
      {
       "output_type": "stream",
       "stream": "stdout",
       "text": [
        "\r",
        "[==========...............]  43.98% Tasks retries:0 Time 0:28:29"
       ]
      },
      {
       "output_type": "stream",
       "stream": "stdout",
       "text": [
        "\r",
        "[===========..............]  44.13% Tasks retries:0 Time 0:28:38"
       ]
      },
      {
       "output_type": "stream",
       "stream": "stdout",
       "text": [
        "\r",
        "[===========..............]  44.29% Tasks retries:0 Time 0:28:47"
       ]
      },
      {
       "output_type": "stream",
       "stream": "stdout",
       "text": [
        "\r",
        "[===========..............]  44.32% Tasks retries:0 Time 0:28:56"
       ]
      },
      {
       "output_type": "stream",
       "stream": "stdout",
       "text": [
        "\r",
        "[===========..............]  44.52% Tasks retries:0 Time 0:29:05"
       ]
      },
      {
       "output_type": "stream",
       "stream": "stdout",
       "text": [
        "\r",
        "[===========..............]  44.59% Tasks retries:0 Time 0:29:14"
       ]
      },
      {
       "output_type": "stream",
       "stream": "stdout",
       "text": [
        "\r",
        "[===========..............]  44.67% Tasks retries:0 Time 0:29:23"
       ]
      },
      {
       "output_type": "stream",
       "stream": "stdout",
       "text": [
        "\r",
        "[===========..............]  44.82% Tasks retries:0 Time 0:29:32"
       ]
      },
      {
       "output_type": "stream",
       "stream": "stdout",
       "text": [
        "\r",
        "[===========..............]  44.90% Tasks retries:0 Time 0:29:42"
       ]
      },
      {
       "output_type": "stream",
       "stream": "stdout",
       "text": [
        "\r",
        "[===========..............]  45.01% Tasks retries:0 Time 0:29:51"
       ]
      },
      {
       "output_type": "stream",
       "stream": "stdout",
       "text": [
        "\r",
        "[===========..............]  45.01% Tasks retries:0 Time 0:30:00"
       ]
      },
      {
       "output_type": "stream",
       "stream": "stdout",
       "text": [
        "\r",
        "[===========..............]  45.21% Tasks retries:0 Time 0:30:09"
       ]
      },
      {
       "output_type": "stream",
       "stream": "stdout",
       "text": [
        "\r",
        "[===========..............]  45.28% Tasks retries:0 Time 0:30:19"
       ]
      },
      {
       "output_type": "stream",
       "stream": "stdout",
       "text": [
        "\r",
        "[===========..............]  45.44% Tasks retries:0 Time 0:30:29"
       ]
      },
      {
       "output_type": "stream",
       "stream": "stdout",
       "text": [
        "\r",
        "[===========..............]  45.70% Tasks retries:0 Time 0:30:39"
       ]
      },
      {
       "output_type": "stream",
       "stream": "stdout",
       "text": [
        "\r",
        "[===========..............]  45.82% Tasks retries:0 Time 0:30:49"
       ]
      },
      {
       "output_type": "stream",
       "stream": "stdout",
       "text": [
        "\r",
        "[===========..............]  45.97% Tasks retries:0 Time 0:30:59"
       ]
      },
      {
       "output_type": "stream",
       "stream": "stdout",
       "text": [
        "\r",
        "[===========..............]  46.09% Tasks retries:0 Time 0:31:09"
       ]
      },
      {
       "output_type": "stream",
       "stream": "stdout",
       "text": [
        "\r",
        "[===========..............]  46.32% Tasks retries:0 Time 0:31:19"
       ]
      },
      {
       "output_type": "stream",
       "stream": "stdout",
       "text": [
        "\r",
        "[===========..............]  46.43% Tasks retries:0 Time 0:31:29"
       ]
      },
      {
       "output_type": "stream",
       "stream": "stdout",
       "text": [
        "\r",
        "[===========..............]  46.62% Tasks retries:0 Time 0:31:39"
       ]
      },
      {
       "output_type": "stream",
       "stream": "stdout",
       "text": [
        "\r",
        "[===========..............]  46.74% Tasks retries:0 Time 0:31:49"
       ]
      },
      {
       "output_type": "stream",
       "stream": "stdout",
       "text": [
        "\r",
        "[===========..............]  46.78% Tasks retries:0 Time 0:31:59"
       ]
      },
      {
       "output_type": "stream",
       "stream": "stdout",
       "text": [
        "\r",
        "[===========..............]  46.81% Tasks retries:0 Time 0:32:09"
       ]
      },
      {
       "output_type": "stream",
       "stream": "stdout",
       "text": [
        "\r",
        "[===========..............]  46.97% Tasks retries:0 Time 0:32:19"
       ]
      },
      {
       "output_type": "stream",
       "stream": "stdout",
       "text": [
        "\r",
        "[===========..............]  47.20% Tasks retries:0 Time 0:32:29"
       ]
      },
      {
       "output_type": "stream",
       "stream": "stdout",
       "text": [
        "\r",
        "[===========..............]  47.70% Tasks retries:0 Time 0:32:39"
       ]
      },
      {
       "output_type": "stream",
       "stream": "stdout",
       "text": [
        "\r",
        "[============.............]  48.12% Tasks retries:0 Time 0:32:49"
       ]
      },
      {
       "output_type": "stream",
       "stream": "stdout",
       "text": [
        "\r",
        "[============.............]  49.00% Tasks retries:0 Time 0:32:59"
       ]
      },
      {
       "output_type": "stream",
       "stream": "stdout",
       "text": [
        "\r",
        "[============.............]  50.15% Tasks retries:0 Time 0:33:09"
       ]
      },
      {
       "output_type": "stream",
       "stream": "stdout",
       "text": [
        "\r",
        "[============.............]  50.99% Tasks retries:0 Time 0:33:20"
       ]
      },
      {
       "output_type": "stream",
       "stream": "stdout",
       "text": [
        "\r",
        "[============.............]  51.57% Tasks retries:0 Time 0:33:30"
       ]
      },
      {
       "output_type": "stream",
       "stream": "stdout",
       "text": [
        "\r",
        "[=============............]  52.06% Tasks retries:0 Time 0:33:40"
       ]
      },
      {
       "output_type": "stream",
       "stream": "stdout",
       "text": [
        "\r",
        "[=============............]  52.49% Tasks retries:0 Time 0:33:50"
       ]
      },
      {
       "output_type": "stream",
       "stream": "stdout",
       "text": [
        "\r",
        "[=============............]  52.68% Tasks retries:0 Time 0:34:00"
       ]
      },
      {
       "output_type": "stream",
       "stream": "stdout",
       "text": [
        "\r",
        "[=============............]  52.79% Tasks retries:0 Time 0:34:10"
       ]
      },
      {
       "output_type": "stream",
       "stream": "stdout",
       "text": [
        "\r",
        "[=============............]  52.87% Tasks retries:0 Time 0:34:20"
       ]
      },
      {
       "output_type": "stream",
       "stream": "stdout",
       "text": [
        "\r",
        "[=============............]  52.95% Tasks retries:0 Time 0:34:30"
       ]
      },
      {
       "output_type": "stream",
       "stream": "stdout",
       "text": [
        "\r",
        "[=============............]  53.10% Tasks retries:0 Time 0:34:40"
       ]
      },
      {
       "output_type": "stream",
       "stream": "stdout",
       "text": [
        "\r",
        "[=============............]  53.29% Tasks retries:0 Time 0:34:50"
       ]
      },
      {
       "output_type": "stream",
       "stream": "stdout",
       "text": [
        "\r",
        "[=============............]  53.40% Tasks retries:0 Time 0:35:00"
       ]
      },
      {
       "output_type": "stream",
       "stream": "stdout",
       "text": [
        "\r",
        "[=============............]  53.44% Tasks retries:0 Time 0:35:10"
       ]
      },
      {
       "output_type": "stream",
       "stream": "stdout",
       "text": [
        "\r",
        "[=============............]  53.60% Tasks retries:0 Time 0:35:20"
       ]
      },
      {
       "output_type": "stream",
       "stream": "stdout",
       "text": [
        "\r",
        "[=============............]  53.79% Tasks retries:0 Time 0:35:30"
       ]
      },
      {
       "output_type": "stream",
       "stream": "stdout",
       "text": [
        "\r",
        "[=============............]  53.83% Tasks retries:0 Time 0:35:40"
       ]
      },
      {
       "output_type": "stream",
       "stream": "stdout",
       "text": [
        "\r",
        "[=============............]  53.94% Tasks retries:0 Time 0:35:50"
       ]
      },
      {
       "output_type": "stream",
       "stream": "stdout",
       "text": [
        "\r",
        "[=============............]  54.21% Tasks retries:0 Time 0:36:00"
       ]
      },
      {
       "output_type": "stream",
       "stream": "stdout",
       "text": [
        "\r",
        "[=============............]  54.36% Tasks retries:0 Time 0:36:11"
       ]
      },
      {
       "output_type": "stream",
       "stream": "stdout",
       "text": [
        "\r",
        "[=============............]  54.52% Tasks retries:0 Time 0:36:21"
       ]
      },
      {
       "output_type": "stream",
       "stream": "stdout",
       "text": [
        "\r",
        "[=============............]  54.67% Tasks retries:0 Time 0:36:31"
       ]
      },
      {
       "output_type": "stream",
       "stream": "stdout",
       "text": [
        "\r",
        "[=============............]  54.78% Tasks retries:0 Time 0:36:41"
       ]
      },
      {
       "output_type": "stream",
       "stream": "stdout",
       "text": [
        "\r",
        "[=============............]  55.01% Tasks retries:0 Time 0:36:51"
       ]
      },
      {
       "output_type": "stream",
       "stream": "stdout",
       "text": [
        "\r",
        "[=============............]  55.32% Tasks retries:0 Time 0:37:01"
       ]
      },
      {
       "output_type": "stream",
       "stream": "stdout",
       "text": [
        "\r",
        "[=============............]  55.44% Tasks retries:0 Time 0:37:11"
       ]
      },
      {
       "output_type": "stream",
       "stream": "stdout",
       "text": [
        "\r",
        "[=============............]  55.55% Tasks retries:0 Time 0:37:21"
       ]
      },
      {
       "output_type": "stream",
       "stream": "stdout",
       "text": [
        "\r",
        "[=============............]  55.67% Tasks retries:0 Time 0:37:31"
       ]
      },
      {
       "output_type": "stream",
       "stream": "stdout",
       "text": [
        "\r",
        "[=============............]  55.70% Tasks retries:0 Time 0:37:41"
       ]
      },
      {
       "output_type": "stream",
       "stream": "stdout",
       "text": [
        "\r",
        "[=============............]  55.74% Tasks retries:0 Time 0:37:51"
       ]
      },
      {
       "output_type": "stream",
       "stream": "stdout",
       "text": [
        "\r",
        "[==============...........]  56.01% Tasks retries:0 Time 0:38:01"
       ]
      },
      {
       "output_type": "stream",
       "stream": "stdout",
       "text": [
        "\r",
        "[==============...........]  56.24% Tasks retries:0 Time 0:38:11"
       ]
      },
      {
       "output_type": "stream",
       "stream": "stdout",
       "text": [
        "\r",
        "[==============...........]  56.70% Tasks retries:0 Time 0:38:21"
       ]
      },
      {
       "output_type": "stream",
       "stream": "stdout",
       "text": [
        "\r",
        "[==============...........]  57.04% Tasks retries:0 Time 0:38:31"
       ]
      },
      {
       "output_type": "stream",
       "stream": "stdout",
       "text": [
        "\r",
        "[==============...........]  57.70% Tasks retries:0 Time 0:38:41"
       ]
      },
      {
       "output_type": "stream",
       "stream": "stdout",
       "text": [
        "\r",
        "[==============...........]  58.73% Tasks retries:0 Time 0:38:51"
       ]
      },
      {
       "output_type": "stream",
       "stream": "stdout",
       "text": [
        "\r",
        "[==============...........]  59.50% Tasks retries:0 Time 0:39:01"
       ]
      },
      {
       "output_type": "stream",
       "stream": "stdout",
       "text": [
        "\r",
        "[===============..........]  60.11% Tasks retries:0 Time 0:39:11"
       ]
      },
      {
       "output_type": "stream",
       "stream": "stdout",
       "text": [
        "\r",
        "[===============..........]  60.84% Tasks retries:0 Time 0:39:22"
       ]
      },
      {
       "output_type": "stream",
       "stream": "stdout",
       "text": [
        "\r",
        "[===============..........]  61.14% Tasks retries:0 Time 0:39:32"
       ]
      },
      {
       "output_type": "stream",
       "stream": "stdout",
       "text": [
        "\r",
        "[===============..........]  61.34% Tasks retries:0 Time 0:39:42"
       ]
      },
      {
       "output_type": "stream",
       "stream": "stdout",
       "text": [
        "\r",
        "[===============..........]  61.45% Tasks retries:0 Time 0:39:52"
       ]
      },
      {
       "output_type": "stream",
       "stream": "stdout",
       "text": [
        "\r",
        "[===============..........]  61.60% Tasks retries:0 Time 0:40:02"
       ]
      },
      {
       "output_type": "stream",
       "stream": "stdout",
       "text": [
        "\r",
        "[===============..........]  61.76% Tasks retries:0 Time 0:40:12"
       ]
      },
      {
       "output_type": "stream",
       "stream": "stdout",
       "text": [
        "\r",
        "[===============..........]  61.91% Tasks retries:0 Time 0:40:22"
       ]
      },
      {
       "output_type": "stream",
       "stream": "stdout",
       "text": [
        "\r",
        "[===============..........]  62.10% Tasks retries:0 Time 0:40:32"
       ]
      },
      {
       "output_type": "stream",
       "stream": "stdout",
       "text": [
        "\r",
        "[===============..........]  62.18% Tasks retries:0 Time 0:40:42"
       ]
      },
      {
       "output_type": "stream",
       "stream": "stdout",
       "text": [
        "\r",
        "[===============..........]  62.37% Tasks retries:0 Time 0:40:52"
       ]
      },
      {
       "output_type": "stream",
       "stream": "stdout",
       "text": [
        "\r",
        "[===============..........]  62.49% Tasks retries:0 Time 0:41:02"
       ]
      },
      {
       "output_type": "stream",
       "stream": "stdout",
       "text": [
        "\r",
        "[===============..........]  62.60% Tasks retries:0 Time 0:41:12"
       ]
      },
      {
       "output_type": "stream",
       "stream": "stdout",
       "text": [
        "\r",
        "[===============..........]  62.68% Tasks retries:0 Time 0:41:22"
       ]
      },
      {
       "output_type": "stream",
       "stream": "stdout",
       "text": [
        "\r",
        "[===============..........]  62.98% Tasks retries:0 Time 0:41:32"
       ]
      },
      {
       "output_type": "stream",
       "stream": "stdout",
       "text": [
        "\r",
        "[===============..........]  63.10% Tasks retries:0 Time 0:41:42"
       ]
      },
      {
       "output_type": "stream",
       "stream": "stdout",
       "text": [
        "\r",
        "[===============..........]  63.29% Tasks retries:0 Time 0:41:52"
       ]
      },
      {
       "output_type": "stream",
       "stream": "stdout",
       "text": [
        "\r",
        "[===============..........]  63.48% Tasks retries:0 Time 0:42:02"
       ]
      },
      {
       "output_type": "stream",
       "stream": "stdout",
       "text": [
        "\r",
        "[===============..........]  63.60% Tasks retries:0 Time 0:42:12"
       ]
      },
      {
       "output_type": "stream",
       "stream": "stdout",
       "text": [
        "\r",
        "[===============..........]  63.75% Tasks retries:0 Time 0:42:23"
       ]
      },
      {
       "output_type": "stream",
       "stream": "stdout",
       "text": [
        "\r",
        "[================.........]  64.02% Tasks retries:0 Time 0:42:33"
       ]
      },
      {
       "output_type": "stream",
       "stream": "stdout",
       "text": [
        "\r",
        "[================.........]  64.25% Tasks retries:0 Time 0:42:43"
       ]
      },
      {
       "output_type": "stream",
       "stream": "stdout",
       "text": [
        "\r",
        "[================.........]  64.36% Tasks retries:0 Time 0:42:53"
       ]
      },
      {
       "output_type": "stream",
       "stream": "stdout",
       "text": [
        "\r",
        "[================.........]  64.52% Tasks retries:0 Time 0:43:03"
       ]
      },
      {
       "output_type": "stream",
       "stream": "stdout",
       "text": [
        "\r",
        "[================.........]  64.63% Tasks retries:0 Time 0:43:13"
       ]
      },
      {
       "output_type": "stream",
       "stream": "stdout",
       "text": [
        "\r",
        "[================.........]  64.63% Tasks retries:0 Time 0:43:23"
       ]
      },
      {
       "output_type": "stream",
       "stream": "stdout",
       "text": [
        "\r",
        "[================.........]  64.82% Tasks retries:0 Time 0:43:33"
       ]
      },
      {
       "output_type": "stream",
       "stream": "stdout",
       "text": [
        "\r",
        "[================.........]  65.09% Tasks retries:0 Time 0:43:43"
       ]
      },
      {
       "output_type": "stream",
       "stream": "stdout",
       "text": [
        "\r",
        "[================.........]  65.36% Tasks retries:0 Time 0:43:53"
       ]
      },
      {
       "output_type": "stream",
       "stream": "stdout",
       "text": [
        "\r",
        "[================.........]  65.74% Tasks retries:0 Time 0:44:03"
       ]
      },
      {
       "output_type": "stream",
       "stream": "stdout",
       "text": [
        "\r",
        "[================.........]  66.05% Tasks retries:0 Time 0:44:13"
       ]
      },
      {
       "output_type": "stream",
       "stream": "stdout",
       "text": [
        "\r",
        "[================.........]  66.78% Tasks retries:0 Time 0:44:23"
       ]
      },
      {
       "output_type": "stream",
       "stream": "stdout",
       "text": [
        "\r",
        "[================.........]  67.58% Tasks retries:0 Time 0:44:33"
       ]
      },
      {
       "output_type": "stream",
       "stream": "stdout",
       "text": [
        "\r",
        "[=================........]  68.58% Tasks retries:0 Time 0:44:43"
       ]
      },
      {
       "output_type": "stream",
       "stream": "stdout",
       "text": [
        "\r",
        "[=================........]  68.92% Tasks retries:0 Time 0:44:53"
       ]
      },
      {
       "output_type": "stream",
       "stream": "stdout",
       "text": [
        "\r",
        "[=================........]  69.54% Tasks retries:0 Time 0:45:03"
       ]
      },
      {
       "output_type": "stream",
       "stream": "stdout",
       "text": [
        "\r",
        "[=================........]  69.88% Tasks retries:0 Time 0:45:13"
       ]
      },
      {
       "output_type": "stream",
       "stream": "stdout",
       "text": [
        "\r",
        "[=================........]  70.15% Tasks retries:0 Time 0:45:23"
       ]
      },
      {
       "output_type": "stream",
       "stream": "stdout",
       "text": [
        "\r",
        "[=================........]  70.30% Tasks retries:0 Time 0:45:33"
       ]
      },
      {
       "output_type": "stream",
       "stream": "stdout",
       "text": [
        "\r",
        "[=================........]  70.42% Tasks retries:0 Time 0:45:44"
       ]
      },
      {
       "output_type": "stream",
       "stream": "stdout",
       "text": [
        "\r",
        "[=================........]  70.65% Tasks retries:0 Time 0:45:54"
       ]
      },
      {
       "output_type": "stream",
       "stream": "stdout",
       "text": [
        "\r",
        "[=================........]  70.88% Tasks retries:0 Time 0:46:04"
       ]
      },
      {
       "output_type": "stream",
       "stream": "stdout",
       "text": [
        "\r",
        "[=================........]  71.03% Tasks retries:0 Time 0:46:14"
       ]
      },
      {
       "output_type": "stream",
       "stream": "stdout",
       "text": [
        "\r",
        "[=================........]  71.11% Tasks retries:0 Time 0:46:24"
       ]
      },
      {
       "output_type": "stream",
       "stream": "stdout",
       "text": [
        "\r",
        "[=================........]  71.30% Tasks retries:0 Time 0:46:34"
       ]
      },
      {
       "output_type": "stream",
       "stream": "stdout",
       "text": [
        "\r",
        "[=================........]  71.45% Tasks retries:0 Time 0:46:44"
       ]
      },
      {
       "output_type": "stream",
       "stream": "stdout",
       "text": [
        "\r",
        "[=================........]  71.60% Tasks retries:0 Time 0:46:54"
       ]
      },
      {
       "output_type": "stream",
       "stream": "stdout",
       "text": [
        "\r",
        "[=================........]  71.64% Tasks retries:0 Time 0:47:04"
       ]
      },
      {
       "output_type": "stream",
       "stream": "stdout",
       "text": [
        "\r",
        "[=================........]  71.87% Tasks retries:0 Time 0:47:14"
       ]
      },
      {
       "output_type": "stream",
       "stream": "stdout",
       "text": [
        "\r",
        "[==================.......]  72.03% Tasks retries:0 Time 0:47:24"
       ]
      },
      {
       "output_type": "stream",
       "stream": "stdout",
       "text": [
        "\r",
        "[==================.......]  72.26% Tasks retries:0 Time 0:47:34"
       ]
      },
      {
       "output_type": "stream",
       "stream": "stdout",
       "text": [
        "\r",
        "[==================.......]  72.49% Tasks retries:0 Time 0:47:44"
       ]
      },
      {
       "output_type": "stream",
       "stream": "stdout",
       "text": [
        "\r",
        "[==================.......]  72.60% Tasks retries:0 Time 0:47:54"
       ]
      },
      {
       "output_type": "stream",
       "stream": "stdout",
       "text": [
        "\r",
        "[==================.......]  72.79% Tasks retries:0 Time 0:48:04"
       ]
      },
      {
       "output_type": "stream",
       "stream": "stdout",
       "text": [
        "\r",
        "[==================.......]  73.02% Tasks retries:0 Time 0:48:14"
       ]
      },
      {
       "output_type": "stream",
       "stream": "stdout",
       "text": [
        "\r",
        "[==================.......]  73.14% Tasks retries:0 Time 0:48:24"
       ]
      },
      {
       "output_type": "stream",
       "stream": "stdout",
       "text": [
        "\r",
        "[==================.......]  73.33% Tasks retries:0 Time 0:48:34"
       ]
      },
      {
       "output_type": "stream",
       "stream": "stdout",
       "text": [
        "\r",
        "[==================.......]  73.56% Tasks retries:0 Time 0:48:44"
       ]
      },
      {
       "output_type": "stream",
       "stream": "stdout",
       "text": [
        "\r",
        "[==================.......]  73.67% Tasks retries:0 Time 0:48:55"
       ]
      },
      {
       "output_type": "stream",
       "stream": "stdout",
       "text": [
        "\r",
        "[==================.......]  73.75% Tasks retries:0 Time 0:49:05"
       ]
      },
      {
       "output_type": "stream",
       "stream": "stdout",
       "text": [
        "\r",
        "[==================.......]  74.06% Tasks retries:0 Time 0:49:15"
       ]
      },
      {
       "output_type": "stream",
       "stream": "stdout",
       "text": [
        "\r",
        "[==================.......]  74.21% Tasks retries:0 Time 0:49:25"
       ]
      },
      {
       "output_type": "stream",
       "stream": "stdout",
       "text": [
        "\r",
        "[==================.......]  74.40% Tasks retries:0 Time 0:49:35"
       ]
      },
      {
       "output_type": "stream",
       "stream": "stdout",
       "text": [
        "\r",
        "[==================.......]  74.75% Tasks retries:0 Time 0:49:45"
       ]
      },
      {
       "output_type": "stream",
       "stream": "stdout",
       "text": [
        "\r",
        "[==================.......]  75.24% Tasks retries:0 Time 0:49:55"
       ]
      },
      {
       "output_type": "stream",
       "stream": "stdout",
       "text": [
        "\r",
        "[==================.......]  75.78% Tasks retries:0 Time 0:50:05"
       ]
      },
      {
       "output_type": "stream",
       "stream": "stdout",
       "text": [
        "\r",
        "[===================......]  76.36% Tasks retries:0 Time 0:50:15"
       ]
      },
      {
       "output_type": "stream",
       "stream": "stdout",
       "text": [
        "\r",
        "[===================......]  77.16% Tasks retries:0 Time 0:50:25"
       ]
      },
      {
       "output_type": "stream",
       "stream": "stdout",
       "text": [
        "\r",
        "[===================......]  77.81% Tasks retries:0 Time 0:50:35"
       ]
      },
      {
       "output_type": "stream",
       "stream": "stdout",
       "text": [
        "\r",
        "[===================......]  78.31% Tasks retries:0 Time 0:50:45"
       ]
      },
      {
       "output_type": "stream",
       "stream": "stdout",
       "text": [
        "\r",
        "[===================......]  78.58% Tasks retries:0 Time 0:50:55"
       ]
      },
      {
       "output_type": "stream",
       "stream": "stdout",
       "text": [
        "\r",
        "[===================......]  78.81% Tasks retries:0 Time 0:51:05"
       ]
      },
      {
       "output_type": "stream",
       "stream": "stdout",
       "text": [
        "\r",
        "[===================......]  78.96% Tasks retries:0 Time 0:51:15"
       ]
      },
      {
       "output_type": "stream",
       "stream": "stdout",
       "text": [
        "\r",
        "[===================......]  79.23% Tasks retries:0 Time 0:51:25"
       ]
      },
      {
       "output_type": "stream",
       "stream": "stdout",
       "text": [
        "\r",
        "[===================......]  79.46% Tasks retries:0 Time 0:51:35"
       ]
      },
      {
       "output_type": "stream",
       "stream": "stdout",
       "text": [
        "\r",
        "[===================......]  79.73% Tasks retries:0 Time 0:51:45"
       ]
      },
      {
       "output_type": "stream",
       "stream": "stdout",
       "text": [
        "\r",
        "[===================......]  79.88% Tasks retries:0 Time 0:51:55"
       ]
      },
      {
       "output_type": "stream",
       "stream": "stdout",
       "text": [
        "\r",
        "[====================.....]  80.00% Tasks retries:0 Time 0:52:05"
       ]
      },
      {
       "output_type": "stream",
       "stream": "stdout",
       "text": [
        "\r",
        "[====================.....]  80.07% Tasks retries:0 Time 0:52:16"
       ]
      },
      {
       "output_type": "stream",
       "stream": "stdout",
       "text": [
        "\r",
        "[====================.....]  80.19% Tasks retries:0 Time 0:52:26"
       ]
      },
      {
       "output_type": "stream",
       "stream": "stdout",
       "text": [
        "\r",
        "[====================.....]  80.26% Tasks retries:0 Time 0:52:36"
       ]
      },
      {
       "output_type": "stream",
       "stream": "stdout",
       "text": [
        "\r",
        "[====================.....]  80.42% Tasks retries:0 Time 0:52:46"
       ]
      },
      {
       "output_type": "stream",
       "stream": "stdout",
       "text": [
        "\r",
        "[====================.....]  80.61% Tasks retries:0 Time 0:52:56"
       ]
      },
      {
       "output_type": "stream",
       "stream": "stdout",
       "text": [
        "\r",
        "[====================.....]  80.91% Tasks retries:0 Time 0:53:06"
       ]
      },
      {
       "output_type": "stream",
       "stream": "stdout",
       "text": [
        "\r",
        "[====================.....]  81.07% Tasks retries:0 Time 0:53:16"
       ]
      },
      {
       "output_type": "stream",
       "stream": "stdout",
       "text": [
        "\r",
        "[====================.....]  81.30% Tasks retries:0 Time 0:53:26"
       ]
      },
      {
       "output_type": "stream",
       "stream": "stdout",
       "text": [
        "\r",
        "[====================.....]  81.57% Tasks retries:0 Time 0:53:36"
       ]
      },
      {
       "output_type": "stream",
       "stream": "stdout",
       "text": [
        "\r",
        "[====================.....]  81.72% Tasks retries:0 Time 0:53:46"
       ]
      },
      {
       "output_type": "stream",
       "stream": "stdout",
       "text": [
        "\r",
        "[====================.....]  81.91% Tasks retries:0 Time 0:53:56"
       ]
      },
      {
       "output_type": "stream",
       "stream": "stdout",
       "text": [
        "\r",
        "[====================.....]  82.10% Tasks retries:0 Time 0:54:06"
       ]
      },
      {
       "output_type": "stream",
       "stream": "stdout",
       "text": [
        "\r",
        "[====================.....]  82.29% Tasks retries:0 Time 0:54:16"
       ]
      },
      {
       "output_type": "stream",
       "stream": "stdout",
       "text": [
        "\r",
        "[====================.....]  82.56% Tasks retries:0 Time 0:54:26"
       ]
      },
      {
       "output_type": "stream",
       "stream": "stdout",
       "text": [
        "\r",
        "[====================.....]  82.83% Tasks retries:0 Time 0:54:36"
       ]
      },
      {
       "output_type": "stream",
       "stream": "stdout",
       "text": [
        "\r",
        "[====================.....]  82.91% Tasks retries:0 Time 0:54:46"
       ]
      },
      {
       "output_type": "stream",
       "stream": "stdout",
       "text": [
        "\r",
        "[====================.....]  83.02% Tasks retries:0 Time 0:54:56"
       ]
      },
      {
       "output_type": "stream",
       "stream": "stdout",
       "text": [
        "\r",
        "[====================.....]  83.33% Tasks retries:0 Time 0:55:06"
       ]
      },
      {
       "output_type": "stream",
       "stream": "stdout",
       "text": [
        "\r",
        "[====================.....]  83.67% Tasks retries:0 Time 0:55:16"
       ]
      },
      {
       "output_type": "stream",
       "stream": "stdout",
       "text": [
        "\r",
        "[====================.....]  83.90% Tasks retries:0 Time 0:55:27"
       ]
      },
      {
       "output_type": "stream",
       "stream": "stdout",
       "text": [
        "\r",
        "[=====================....]  84.36% Tasks retries:0 Time 0:55:37"
       ]
      },
      {
       "output_type": "stream",
       "stream": "stdout",
       "text": [
        "\r",
        "[=====================....]  84.94% Tasks retries:0 Time 0:55:47"
       ]
      },
      {
       "output_type": "stream",
       "stream": "stdout",
       "text": [
        "\r",
        "[=====================....]  85.40% Tasks retries:0 Time 0:55:57"
       ]
      },
      {
       "output_type": "stream",
       "stream": "stdout",
       "text": [
        "\r",
        "[=====================....]  86.09% Tasks retries:0 Time 0:56:07"
       ]
      },
      {
       "output_type": "stream",
       "stream": "stdout",
       "text": [
        "\r",
        "[=====================....]  86.62% Tasks retries:0 Time 0:56:17"
       ]
      },
      {
       "output_type": "stream",
       "stream": "stdout",
       "text": [
        "\r",
        "[=====================....]  87.12% Tasks retries:0 Time 0:56:27"
       ]
      },
      {
       "output_type": "stream",
       "stream": "stdout",
       "text": [
        "\r",
        "[=====================....]  87.47% Tasks retries:0 Time 0:56:37"
       ]
      },
      {
       "output_type": "stream",
       "stream": "stdout",
       "text": [
        "\r",
        "[=====================....]  87.77% Tasks retries:0 Time 0:56:47"
       ]
      },
      {
       "output_type": "stream",
       "stream": "stdout",
       "text": [
        "\r",
        "[=====================....]  87.93% Tasks retries:0 Time 0:56:57"
       ]
      },
      {
       "output_type": "stream",
       "stream": "stdout",
       "text": [
        "\r",
        "[======================...]  88.08% Tasks retries:0 Time 0:57:07"
       ]
      },
      {
       "output_type": "stream",
       "stream": "stdout",
       "text": [
        "\r",
        "[======================...]  88.27% Tasks retries:0 Time 0:57:17"
       ]
      },
      {
       "output_type": "stream",
       "stream": "stdout",
       "text": [
        "\r",
        "[======================...]  88.46% Tasks retries:0 Time 0:57:27"
       ]
      },
      {
       "output_type": "stream",
       "stream": "stdout",
       "text": [
        "\r",
        "[======================...]  88.62% Tasks retries:0 Time 0:57:37"
       ]
      },
      {
       "output_type": "stream",
       "stream": "stdout",
       "text": [
        "\r",
        "[======================...]  88.81% Tasks retries:0 Time 0:57:47"
       ]
      },
      {
       "output_type": "stream",
       "stream": "stdout",
       "text": [
        "\r",
        "[======================...]  89.04% Tasks retries:0 Time 0:57:57"
       ]
      },
      {
       "output_type": "stream",
       "stream": "stdout",
       "text": [
        "\r",
        "[======================...]  89.11% Tasks retries:0 Time 0:58:07"
       ]
      },
      {
       "output_type": "stream",
       "stream": "stdout",
       "text": [
        "\r",
        "[======================...]  89.19% Tasks retries:0 Time 0:58:17"
       ]
      },
      {
       "output_type": "stream",
       "stream": "stdout",
       "text": [
        "\r",
        "[======================...]  89.27% Tasks retries:0 Time 0:58:28"
       ]
      },
      {
       "output_type": "stream",
       "stream": "stdout",
       "text": [
        "\r",
        "[======================...]  89.73% Tasks retries:0 Time 0:58:38"
       ]
      },
      {
       "output_type": "stream",
       "stream": "stdout",
       "text": [
        "\r",
        "[======================...]  89.88% Tasks retries:0 Time 0:58:48"
       ]
      },
      {
       "output_type": "stream",
       "stream": "stdout",
       "text": [
        "\r",
        "[======================...]  90.11% Tasks retries:0 Time 0:58:58"
       ]
      },
      {
       "output_type": "stream",
       "stream": "stdout",
       "text": [
        "\r",
        "[======================...]  90.26% Tasks retries:0 Time 0:59:08"
       ]
      },
      {
       "output_type": "stream",
       "stream": "stdout",
       "text": [
        "\r",
        "[======================...]  90.61% Tasks retries:0 Time 0:59:18"
       ]
      },
      {
       "output_type": "stream",
       "stream": "stdout",
       "text": [
        "\r",
        "[======================...]  90.76% Tasks retries:0 Time 0:59:28"
       ]
      },
      {
       "output_type": "stream",
       "stream": "stdout",
       "text": [
        "\r",
        "[======================...]  90.84% Tasks retries:0 Time 0:59:38"
       ]
      },
      {
       "output_type": "stream",
       "stream": "stdout",
       "text": [
        "\r",
        "[======================...]  91.11% Tasks retries:0 Time 0:59:48"
       ]
      },
      {
       "output_type": "stream",
       "stream": "stdout",
       "text": [
        "\r",
        "[======================...]  91.30% Tasks retries:0 Time 0:59:58"
       ]
      },
      {
       "output_type": "stream",
       "stream": "stdout",
       "text": [
        "\r",
        "[======================...]  91.53% Tasks retries:0 Time 1:00:08"
       ]
      },
      {
       "output_type": "stream",
       "stream": "stdout",
       "text": [
        "\r",
        "[======================...]  91.72% Tasks retries:0 Time 1:00:18"
       ]
      },
      {
       "output_type": "stream",
       "stream": "stdout",
       "text": [
        "\r",
        "[======================...]  91.91% Tasks retries:0 Time 1:00:28"
       ]
      },
      {
       "output_type": "stream",
       "stream": "stdout",
       "text": [
        "\r",
        "[=======================..]  92.26% Tasks retries:0 Time 1:00:38"
       ]
      },
      {
       "output_type": "stream",
       "stream": "stdout",
       "text": [
        "\r",
        "[=======================..]  92.56% Tasks retries:0 Time 1:00:48"
       ]
      },
      {
       "output_type": "stream",
       "stream": "stdout",
       "text": [
        "\r",
        "[=======================..]  92.91% Tasks retries:0 Time 1:00:58"
       ]
      },
      {
       "output_type": "stream",
       "stream": "stdout",
       "text": [
        "\r",
        "[=======================..]  93.21% Tasks retries:0 Time 1:01:09"
       ]
      },
      {
       "output_type": "stream",
       "stream": "stdout",
       "text": [
        "\r",
        "[=======================..]  93.94% Tasks retries:0 Time 1:01:19"
       ]
      },
      {
       "output_type": "stream",
       "stream": "stdout",
       "text": [
        "\r",
        "[=======================..]  94.82% Tasks retries:0 Time 1:01:29"
       ]
      },
      {
       "output_type": "stream",
       "stream": "stdout",
       "text": [
        "\r",
        "[=======================..]  95.44% Tasks retries:0 Time 1:01:39"
       ]
      },
      {
       "output_type": "stream",
       "stream": "stdout",
       "text": [
        "\r",
        "[========================.]  96.36% Tasks retries:0 Time 1:01:49"
       ]
      },
      {
       "output_type": "stream",
       "stream": "stdout",
       "text": [
        "\r",
        "[========================.]  96.59% Tasks retries:0 Time 1:01:59"
       ]
      },
      {
       "output_type": "stream",
       "stream": "stdout",
       "text": [
        "\r",
        "[========================.]  97.27% Tasks retries:0 Time 1:02:09"
       ]
      },
      {
       "output_type": "stream",
       "stream": "stdout",
       "text": [
        "\r",
        "[========================.]  97.62% Tasks retries:0 Time 1:02:19"
       ]
      },
      {
       "output_type": "stream",
       "stream": "stdout",
       "text": [
        "\r",
        "[========================.]  97.81% Tasks retries:0 Time 1:02:29"
       ]
      },
      {
       "output_type": "stream",
       "stream": "stdout",
       "text": [
        "\r",
        "[========================.]  98.19% Tasks retries:0 Time 1:02:39"
       ]
      },
      {
       "output_type": "stream",
       "stream": "stdout",
       "text": [
        "\r",
        "[========================.]  98.69% Tasks retries:0 Time 1:02:49"
       ]
      },
      {
       "output_type": "stream",
       "stream": "stdout",
       "text": [
        "\r",
        "[========================.]  99.15% Tasks retries:0 Time 1:02:59"
       ]
      },
      {
       "output_type": "stream",
       "stream": "stdout",
       "text": [
        "\r",
        "[========================.]  99.50% Tasks retries:0 Time 1:03:09"
       ]
      },
      {
       "output_type": "stream",
       "stream": "stdout",
       "text": [
        "\r",
        "[========================.]  99.84% Tasks retries:0 Time 1:03:19"
       ]
      },
      {
       "output_type": "stream",
       "stream": "stdout",
       "text": [
        "\r",
        "[========================.]  99.96% Tasks retries:0 Time 1:03:29"
       ]
      },
      {
       "output_type": "stream",
       "stream": "stdout",
       "text": [
        "\r",
        "[=========================] 100.00% Tasks retries:0 Time 1:03:39"
       ]
      },
      {
       "output_type": "stream",
       "stream": "stdout",
       "text": [
        "\r",
        "[=========================] 100.00% Tasks retries:0 Time 1:03:50"
       ]
      },
      {
       "output_type": "stream",
       "stream": "stdout",
       "text": [
        "\r",
        "[=========================] 100.00% Tasks retries:0 Time 1:04:00"
       ]
      },
      {
       "output_type": "stream",
       "stream": "stdout",
       "text": [
        "\r",
        "[=========================] 100.00% Tasks retries:0 Time 1:04:10\n"
       ]
      }
     ],
     "prompt_number": 52
    },
    {
     "cell_type": "code",
     "collapsed": false,
     "input": [
      "if drops == True:\n",
      "    drop('sampled_real_netflow')\n",
      "    drop('ibyt_deciles_'+reference)\n",
      "    drop('ipkt_deciles_'+reference)\n",
      "    drop('hour_deciles_'+reference)\n",
      "\n",
      "start=time.time()\n",
      "real_netflow.assign_sample([.9999, .0001], ['nonsample', 'sample'], random_seed = 1729)\n",
      "sampled_real_netflow = real_netflow.copy()\n",
      "sampled_real_netflow.name = 'sampled_real_netflow'\n",
      "sampled_real_netflow.filter(lambda row: row.sample_bin=='sample')\n",
      "\n",
      "ibyt_deciles = sampled_real_netflow.quantiles('ibyt', [0,10,20,30,40,50,60,70,80,90,100])\n",
      "ibyt_deciles.name = 'ibyt_deciles_'+reference\n",
      "\n",
      "ipkt_deciles = sampled_real_netflow.quantiles('ipkt', [0,10,20,30,40,50,60,70,80,90,100])\n",
      "ipkt_deciles.name = 'ipkt_deciles_'+reference\n",
      "hour_deciles = sampled_real_netflow.quantiles('hour', [0,10,20,30,40,50,60,70,80,90,100])\n",
      "hour_deciles.name = 'hour_deciles_'+reference"
     ],
     "language": "python",
     "metadata": {},
     "outputs": [
      {
       "output_type": "stream",
       "stream": "stdout",
       "text": [
        "\r",
        "initializing..."
       ]
      },
      {
       "output_type": "stream",
       "stream": "stdout",
       "text": [
        "\r",
        "initializing..."
       ]
      },
      {
       "output_type": "stream",
       "stream": "stdout",
       "text": [
        "\r",
        "initializing..."
       ]
      },
      {
       "output_type": "stream",
       "stream": "stdout",
       "text": [
        "\r",
        "initializing..."
       ]
      },
      {
       "output_type": "stream",
       "stream": "stdout",
       "text": [
        "\r",
        "[.........................]   2.08% Tasks retries:0 Time 0:00:00"
       ]
      },
      {
       "output_type": "stream",
       "stream": "stdout",
       "text": [
        "\r",
        "[=........................]   6.84% Tasks retries:0 Time 0:00:02"
       ]
      },
      {
       "output_type": "stream",
       "stream": "stdout",
       "text": [
        "\r",
        "[==.......................]  11.87% Tasks retries:0 Time 0:00:04"
       ]
      },
      {
       "output_type": "stream",
       "stream": "stdout",
       "text": [
        "\r",
        "[====.....................]  16.34% Tasks retries:0 Time 0:00:06"
       ]
      },
      {
       "output_type": "stream",
       "stream": "stdout",
       "text": [
        "\r",
        "[=====....................]  20.90% Tasks retries:0 Time 0:00:08"
       ]
      },
      {
       "output_type": "stream",
       "stream": "stdout",
       "text": [
        "\r",
        "[======...................]  25.99% Tasks retries:0 Time 0:00:10"
       ]
      },
      {
       "output_type": "stream",
       "stream": "stdout",
       "text": [
        "\r",
        "[=======..................]  28.57% Tasks retries:0 Time 0:00:12"
       ]
      },
      {
       "output_type": "stream",
       "stream": "stdout",
       "text": [
        "\r",
        "[=======..................]  30.75% Tasks retries:0 Time 0:00:14"
       ]
      },
      {
       "output_type": "stream",
       "stream": "stdout",
       "text": [
        "\r",
        "[========.................]  33.26% Tasks retries:0 Time 0:00:16"
       ]
      },
      {
       "output_type": "stream",
       "stream": "stdout",
       "text": [
        "\r",
        "[========.................]  35.72% Tasks retries:0 Time 0:00:18"
       ]
      },
      {
       "output_type": "stream",
       "stream": "stdout",
       "text": [
        "\r",
        "[==========...............]  41.32% Tasks retries:0 Time 0:00:20"
       ]
      },
      {
       "output_type": "stream",
       "stream": "stdout",
       "text": [
        "\r",
        "[==========...............]  42.94% Tasks retries:0 Time 0:00:22"
       ]
      },
      {
       "output_type": "stream",
       "stream": "stdout",
       "text": [
        "\r",
        "[===========..............]  47.58% Tasks retries:0 Time 0:00:24"
       ]
      },
      {
       "output_type": "stream",
       "stream": "stdout",
       "text": [
        "\r",
        "[============.............]  50.54% Tasks retries:0 Time 0:00:26"
       ]
      },
      {
       "output_type": "stream",
       "stream": "stdout",
       "text": [
        "\r",
        "[=============............]  53.86% Tasks retries:0 Time 0:00:28"
       ]
      },
      {
       "output_type": "stream",
       "stream": "stdout",
       "text": [
        "\r",
        "[=============............]  55.36% Tasks retries:0 Time 0:00:30"
       ]
      },
      {
       "output_type": "stream",
       "stream": "stdout",
       "text": [
        "\r",
        "[=============............]  55.86% Tasks retries:0 Time 0:00:32"
       ]
      },
      {
       "output_type": "stream",
       "stream": "stdout",
       "text": [
        "\r",
        "[=============............]  55.94% Tasks retries:0 Time 0:00:34"
       ]
      },
      {
       "output_type": "stream",
       "stream": "stdout",
       "text": [
        "\r",
        "[==============...........]  58.33% Tasks retries:0 Time 0:00:36"
       ]
      },
      {
       "output_type": "stream",
       "stream": "stdout",
       "text": [
        "\r",
        "[=========================] 100.00% Tasks retries:0 Time 0:00:38\n"
       ]
      },
      {
       "output_type": "stream",
       "stream": "stdout",
       "text": [
        "\r",
        "initializing..."
       ]
      },
      {
       "output_type": "stream",
       "stream": "stdout",
       "text": [
        "\r",
        "initializing..."
       ]
      },
      {
       "output_type": "stream",
       "stream": "stdout",
       "text": [
        "\r",
        "[=========================] 100.00%  Time 0:00:00\n"
       ]
      },
      {
       "output_type": "stream",
       "stream": "stdout",
       "text": [
        "\r",
        "initializing..."
       ]
      },
      {
       "output_type": "stream",
       "stream": "stdout",
       "text": [
        "\r",
        "initializing..."
       ]
      },
      {
       "output_type": "stream",
       "stream": "stdout",
       "text": [
        "\r",
        "initializing..."
       ]
      },
      {
       "output_type": "stream",
       "stream": "stdout",
       "text": [
        "\r",
        "initializing..."
       ]
      },
      {
       "output_type": "stream",
       "stream": "stdout",
       "text": [
        "\r",
        "[.........................]   1.89% Tasks retries:0 Time 0:00:00"
       ]
      },
      {
       "output_type": "stream",
       "stream": "stdout",
       "text": [
        "\r",
        "[=........................]   6.67% Tasks retries:0 Time 0:00:02"
       ]
      },
      {
       "output_type": "stream",
       "stream": "stdout",
       "text": [
        "\r",
        "[==.......................]  10.96% Tasks retries:0 Time 0:00:04"
       ]
      },
      {
       "output_type": "stream",
       "stream": "stdout",
       "text": [
        "\r",
        "[===......................]  14.66% Tasks retries:0 Time 0:00:06"
       ]
      },
      {
       "output_type": "stream",
       "stream": "stdout",
       "text": [
        "\r",
        "[====.....................]  18.63% Tasks retries:0 Time 0:00:08"
       ]
      },
      {
       "output_type": "stream",
       "stream": "stdout",
       "text": [
        "\r",
        "[=====....................]  22.35% Tasks retries:0 Time 0:00:10"
       ]
      },
      {
       "output_type": "stream",
       "stream": "stdout",
       "text": [
        "\r",
        "[======...................]  26.23% Tasks retries:0 Time 0:00:12"
       ]
      },
      {
       "output_type": "stream",
       "stream": "stdout",
       "text": [
        "\r",
        "[=======..................]  28.94% Tasks retries:0 Time 0:00:14"
       ]
      },
      {
       "output_type": "stream",
       "stream": "stdout",
       "text": [
        "\r",
        "[=======..................]  30.91% Tasks retries:0 Time 0:00:16"
       ]
      },
      {
       "output_type": "stream",
       "stream": "stdout",
       "text": [
        "\r",
        "[========.................]  33.38% Tasks retries:0 Time 0:00:18"
       ]
      },
      {
       "output_type": "stream",
       "stream": "stdout",
       "text": [
        "\r",
        "[========.................]  35.71% Tasks retries:0 Time 0:00:20"
       ]
      },
      {
       "output_type": "stream",
       "stream": "stdout",
       "text": [
        "\r",
        "[========.................]  35.71% Tasks retries:0 Time 0:00:22"
       ]
      },
      {
       "output_type": "stream",
       "stream": "stdout",
       "text": [
        "\r",
        "[==========...............]  42.86% Tasks retries:0 Time 0:00:24"
       ]
      },
      {
       "output_type": "stream",
       "stream": "stdout",
       "text": [
        "\r",
        "[==========...............]  43.05% Tasks retries:0 Time 0:00:26"
       ]
      },
      {
       "output_type": "stream",
       "stream": "stdout",
       "text": [
        "\r",
        "[==============...........]  56.25% Tasks retries:0 Time 0:00:28"
       ]
      },
      {
       "output_type": "stream",
       "stream": "stdout",
       "text": [
        "\r",
        "[==============...........]  56.25% Tasks retries:0 Time 0:00:30"
       ]
      },
      {
       "output_type": "stream",
       "stream": "stdout",
       "text": [
        "\r",
        "[==============...........]  56.25% Tasks retries:0 Time 0:00:32"
       ]
      },
      {
       "output_type": "stream",
       "stream": "stdout",
       "text": [
        "\r",
        "[==============...........]  56.25% Tasks retries:0 Time 0:00:34"
       ]
      },
      {
       "output_type": "stream",
       "stream": "stdout",
       "text": [
        "\r",
        "[==============...........]  56.25% Tasks retries:0 Time 0:00:36"
       ]
      },
      {
       "output_type": "stream",
       "stream": "stdout",
       "text": [
        "\r",
        "[==============...........]  58.33% Tasks retries:0 Time 0:00:38"
       ]
      },
      {
       "output_type": "stream",
       "stream": "stdout",
       "text": [
        "\r",
        "[=========================] 100.00% Tasks retries:0 Time 0:00:40\n"
       ]
      },
      {
       "output_type": "stream",
       "stream": "stdout",
       "text": [
        "\r",
        "initializing..."
       ]
      },
      {
       "output_type": "stream",
       "stream": "stdout",
       "text": [
        "\r",
        "initializing..."
       ]
      },
      {
       "output_type": "stream",
       "stream": "stdout",
       "text": [
        "\r",
        "[=========================] 100.00%  Time 0:00:00\n"
       ]
      }
     ],
     "prompt_number": 54
    },
    {
     "cell_type": "code",
     "collapsed": false,
     "input": [
      "ibyt_deciles_list = sorted([ibyt_deciles.take(11)[x][1] for x in range(11)])\n",
      "ipkt_deciles_list = sorted([ipkt_deciles.take(11)[x][1] for x in range(11)])\n",
      "hour_deciles_list = sorted([hour_deciles.take(11)[x][1] for x in range(11)])\n",
      "end = time.time()\n",
      "get_quantiles_from_sample_time = end-start\n",
      "\n",
      "#the 1030 ports used on \n",
      "common_ports = [53, 443, 80, 111111, 23, 22, 444, 25, 0, 161, 445, 19, 137, 123, 1, 21, 81, 119, 993, 17, 1022, 623, 899, 43, 1028, 808, 1014, 389, 179, 135, 82, 88, 102, 500, 11, 13, 15, 465, 110, 902, 995, 514, 143, 541, 862, 843, 502, 1024, 79, 1023, 992, 771, 20, 139, 7, 523, 631, 626, 83, 789, 411, 85, 84, 90, 222, 10, 587, 9, 18, 8, 16, 990, 14, 1025, 12, 5, 6, 24, 887, 4, 77, 26, 27, 1026, 3, 29, 28, 2, 31, 30, 33, 775, 37, 32, 35, 210, 268, 111, 41, 34, 38, 36, 39, 515, 1027, 40, 520, 42, 706, 44, 67, 45, 46, 873, 47, 188, 49, 48, 50, 427, 197, 328, 225, 51, 911, 497, 52, 75, 554, 113, 447, 54, 518, 666, 513, 1000, 55, 800, 888, 56, 464, 69, 70, 57, 517, 96, 74, 86, 177, 407, 280, 260, 395, 977, 138, 58, 456, 577, 529, 615, 495, 397, 59, 912, 162, 60, 120, 473, 182, 516, 1010, 62, 264, 87, 89, 548, 288, 448, 95, 770, 1011, 63, 61, 450, 199, 496, 999, 394, 94, 417, 65, 777, 134, 106, 544, 116, 547, 141, 458, 144, 1001, 437, 543, 555, 220, 399, 178, 422, 452, 66, 349, 494, 398, 613, 730, 91, 140, 115, 428, 130, 998, 109, 127, 557, 190, 1008, 172, 64, 100, 380, 522, 767, 490, 617, 393, 118, 474, 101, 900, 396, 376, 616, 772, 664, 204, 610, 160, 776, 245, 243, 105, 121, 192, 472, 98, 619, 461, 128, 309, 510, 483, 667, 244, 107, 455, 383, 459, 747, 400, 609, 169, 441, 780, 748, 350, 446, 540, 606, 322, 71, 211, 186, 534, 996, 453, 549, 742, 740, 363, 752, 618, 449, 409, 206, 166, 700, 68, 72, 556, 901, 627, 491, 563, 521, 202, 546, 607, 955, 174, 92, 503, 425, 553, 163, 432, 505, 451, 860, 351, 217, 214, 149, 530, 550, 575, 634, 481, 562, 348, 704, 484, 346, 387, 133, 526, 112, 762, 203, 201, 572, 672, 265, 512, 600, 457, 673, 524, 754, 384, 573, 76, 426, 97, 391, 375, 611, 668, 424, 431, 99, 538, 194, 763, 370, 552, 760, 440, 408, 198, 311, 525, 539, 750, 187, 345, 759, 259, 147, 145, 1015, 213, 413, 782, 414, 574, 173, 372, 608, 633, 73, 433, 221, 705, 620, 218, 669, 744, 442, 418, 439, 764, 207, 216, 150, 741, 670, 749, 78, 323, 568, 773, 578, 219, 153, 781, 208, 155, 527, 671, 635, 479, 753, 146, 801, 223, 485, 371, 991, 171, 281, 593, 475, 164, 765, 542, 193, 157, 492, 429, 460, 476, 598, 215, 200, 799, 486, 170, 117, 104, 950, 480, 711, 438, 731, 258, 636, 489, 381, 181, 707, 560, 466, 581, 378, 436, 997, 470, 761, 175, 469, 136, 477, 412, 392, 674, 416, 415, 571, 783, 769, 256, 347, 558, 954, 504, 196, 537, 533, 167, 212, 246, 774, 493, 401, 282, 624, 124, 488, 390, 183, 209, 463, 325, 114, 154, 406, 434, 344, 751, 374, 614, 159, 126, 191, 122, 132, 499, 195, 129, 184, 567, 786, 545, 158, 377, 471, 242, 532, 509, 125, 709, 710, 156, 108, 612, 559, 564, 454, 886, 569, 580, 478, 551, 579, 205, 404, 592, 531, 262, 318, 261, 131, 142, 403, 189, 576, 423, 420, 168, 263, 180, 570, 386, 185, 519, 93, 324, 435, 535, 419, 430, 385, 410, 369, 506, 462, 257, 487, 379, 405, 536, 637, 498, 508, 421, 511, 482, 729, 402, 103, 467, 758, 388, 148, 468, 151, 528, 165, 152, 561, 566, 373, 649, 565, 176, 501, 507, 382, 278, 646, 233, 297, 235, 804, 880, 803, 832, 852, 603, 867, 340, 286, 313, 841, 831, 745, 652, 849, 335, 802, 919, 722, 315, 916, 822, 785, 790, 805, 792, 296, 757, 645, 924, 972, 907, 884, 224, 939, 906, 688, 247, 864, 806, 320, 850, 681, 725, 267, 885, 367, 925, 230, 241, 362, 685, 359, 960, 929, 638, 875, 842, 329, 795, 703, 809, 232, 994, 821, 314, 715, 1009, 969, 971, 602, 605, 1002, 895, 908, 266, 926, 938, 285, 823, 273, 981, 239, 957, 301, 937, 970, 586, 813, 644, 701, 914, 861, 237, 871, 941, 651, 365, 343, 357, 302, 915, 714, 746, 787, 833, 975, 680, 698, 1007, 947, 696, 949, 308, 917, 988, 299, 1013, 898, 940, 312, 778, 687, 332, 891, 675, 364, 743, 341, 279, 588, 251, 601, 829, 683, 905, 811, 713, 682, 1004, 820, 920, 979, 641, 933, 897, 826, 882, 716, 717, 629, 858, 236, 689, 876, 943, 1003, 684, 655, 640, 883, 1012, 252, 734, 966, 648, 300, 699, 331, 855, 930, 650, 1005, 353, 779, 934, 679, 690, 986, 913, 738, 621, 788, 298, 334, 985, 921, 643, 692, 290, 892, 735, 942, 594, 721, 676, 963, 932, 1020, 798, 844, 686, 928, 661, 342, 718, 694, 978, 851, 836, 330, 984, 227, 903, 319, 865, 1016, 890, 1006, 896, 768, 982, 720, 958, 632, 294, 838, 863, 293, 952, 677, 1017, 727, 337, 361, 962, 283, 253, 625, 918, 766, 719, 591, 250, 271, 976, 756, 935, 967, 270, 276, 277, 305, 585, 697, 944, 234, 327, 695, 228, 825, 292, 879, 306, 987, 647, 326, 303, 604, 289, 284, 936, 872, 874, 824, 723, 980, 693, 269, 784, 368, 304, 712, 356, 1018, 847, 956, 628, 796, 894, 321, 724, 922, 815, 794, 622, 866, 226, 654, 659, 791, 338, 255, 660, 653, 599, 910, 817, 812, 733, 665, 639, 973, 904, 663, 630, 662, 968, 595, 358, 927, 837, 295, 953, 275, 909, 961, 287, 755, 316, 974, 857, 691, 945, 249, 656, 726, 590, 658, 881, 814, 642, 702, 1021, 657, 737, 238, 254, 835, 946, 830, 366, 848, 708, 732, 964, 793, 854, 317, 959, 584, 859, 360, 307, 336, 931, 983, 355, 310, 951, 839, 846, 948, 856, 810, 596, 845, 354, 870, 274, 828, 989, 923, 827, 889, 965, 739, 678, 291, 272, 797, 869, 893, 728, 582, 868, 807, 589, 818, 736, 1019, 339, 240, 878, 834, 816, 352, 229, 333, 248, 853, 819, 231, 583, 840, 877, 597]\n"
     ],
     "language": "python",
     "metadata": {},
     "outputs": [],
     "prompt_number": 55
    },
    {
     "cell_type": "code",
     "collapsed": false,
     "input": [
      "##################################\n",
      "\n",
      "start = time.time()\n",
      "\n",
      "def binning(cuts, columns):\n",
      "    '''\n",
      "    cuts is a dictionary of lists of numbers, one list for each column you want to bin\n",
      "    each list should include the min and max point for that column.\n",
      "    the keys of the dictionary should be the same as the names in columns\n",
      "    columns is a list of strings of the names of the columns you want to bin\n",
      "    '''\n",
      "    def bin_2(row):\n",
      "        try:\n",
      "            bin_list=[]\n",
      "            for column in columns:\n",
      "                bin_ = \"None\"\n",
      "                for i in range(1, len(cuts[column])):\n",
      "                    if row[column]<cuts[column][i]:\n",
      "                        bin_ = \"[\" + str(cuts[column][i-1]) + \", \" + str(cuts[column][i]) + \")\"\n",
      "                        break\n",
      "                    elif i == len(cuts[column])-1 and row[column] == cuts[column][i]:\n",
      "                        bin_ = \"[\" + str(cuts[column][i-1]) + \", \" + str(cuts[column][i]) + \"]\"\n",
      "                bin_list.append(bin_)\n",
      "            return bin_list\n",
      "        except:\n",
      "            return [\"None\", \"None\", \"None\", \"None\"]\n",
      "    return bin_2\n",
      "\n",
      "\n",
      "real_netflow.add_columns(binning({'ibyt': ibyt_deciles_list, 'ipkt': ipkt_deciles_list, 'hour': hour_deciles_list},\n",
      "                        ['ibyt', 'ipkt', 'hour']),\n",
      "                        [('ibyt_bin', str), ('ipkt_bin', str), ('hour_bin', str)], columns_accessed=['ibyt', 'ipkt', 'hour'])\n",
      "\n",
      "end = time.time()\n",
      "bin_columns_time = end - start\n",
      "\n"
     ],
     "language": "python",
     "metadata": {},
     "outputs": [
      {
       "ename": "TypeError",
       "evalue": "add_columns() got an unexpected keyword argument 'columns_accessed'",
       "output_type": "pyerr",
       "traceback": [
        "\u001b[1;31m---------------------------------------------------------------------------\u001b[0m\n\u001b[1;31mTypeError\u001b[0m                                 Traceback (most recent call last)",
        "\u001b[1;32m<ipython-input-57-115df3c1507c>\u001b[0m in \u001b[0;36m<module>\u001b[1;34m()\u001b[0m\n\u001b[0;32m     30\u001b[0m real_netflow.add_columns(binning({'ibyt': ibyt_deciles_list, 'ipkt': ipkt_deciles_list, 'hour': hour_deciles_list},\n\u001b[0;32m     31\u001b[0m                         ['ibyt', 'ipkt', 'hour']),\n\u001b[1;32m---> 32\u001b[1;33m                         [('ibyt_bin', str), ('ipkt_bin', str), ('hour_bin', str)], columns_accessed=['ibyt', 'ipkt', 'hour'])\n\u001b[0m\u001b[0;32m     33\u001b[0m \u001b[1;33m\u001b[0m\u001b[0m\n\u001b[0;32m     34\u001b[0m \u001b[0mend\u001b[0m \u001b[1;33m=\u001b[0m \u001b[0mtime\u001b[0m\u001b[1;33m.\u001b[0m\u001b[0mtime\u001b[0m\u001b[1;33m(\u001b[0m\u001b[1;33m)\u001b[0m\u001b[1;33m\u001b[0m\u001b[0m\n",
        "\u001b[1;31mTypeError\u001b[0m: add_columns() got an unexpected keyword argument 'columns_accessed'"
       ]
      }
     ],
     "prompt_number": 57
    },
    {
     "cell_type": "code",
     "collapsed": false,
     "input": [
      "start = time.time()\n",
      "\n",
      "def get_time_and_ports(row):\n",
      "    ip_pair = row.dip + \" \" + row.sip\n",
      "    if row.sip < row.dip:\n",
      "        ip_pair = row.sip + \" \" + row.dip\n",
      "    #    try:\n",
      "    if (row.dport <= 1028 or row.sport<=1028) and (row.dport > 1028 or row.sport>1028):\n",
      "        case = 2\n",
      "        word_port = min(row.dport, row.sport)\n",
      "        if row.dport < row.sport:\n",
      "            word_bytes = row.ibyt_bin\n",
      "            word_packets = row.ipkt_bin\n",
      "        else:\n",
      "            word_bytes = str(-1) + (row.ibyt_bin)\n",
      "            word_packets = str(-1) + (row.ipkt_bin)\n",
      "    elif row.dport >1028 & row.sport>1028:\n",
      "        case = 3\n",
      "        word_port = 333333\n",
      "        word_bytes = row.ibyt_bin\n",
      "        word_packets = row.ipkt_bin\n",
      "    else:\n",
      "        case = 1\n",
      "        word_port = 111111\n",
      "        word_bytes = row.ibyt_bin\n",
      "        word_packets = row.ipkt_bin\n",
      "    ports = str(min(row.sport, row.dport)) + \" \" + str(max(row.sport, row.dport))\n",
      "    word = str(row.hour_bin) + \" \" + str(word_port) + \" \" + str(word_bytes) + \" \" + str(word_packets)\n",
      "    return [ip_pair, case, word_port, word_bytes, word_packets, ports, word]\n",
      "#    except:\n",
      "#        return [ip_pair, date, time, hour, minute, 0, 999999, \"0\", \"0\", \"0\", \"error\"]\n",
      "\n",
      "#real_netflow.drop_columns(['ip_pair', 'date', 'time', 'hour', 'minute', 'case', 'word_port', 'word_bytes', 'word_packets', 'ports', 'word'])\n",
      "real_netflow.add_columns(get_time_and_ports, [('ip_pair', str), ('case', ia.float64), ('word_port', ia.float64), ('word_bytes', str), \n",
      "            ('word_packets', str), ('ports', str), ('word', str)], \n",
      "            columns_accessed = ['dip', 'sip', 'dport', 'sport', 'ibyt_bin', 'ipkt_bin', 'hour_bin'])\n",
      "\n",
      "end = time.time()\n",
      "get_time_and_ports_time = end - start\n"
     ],
     "language": "python",
     "metadata": {},
     "outputs": []
    },
    {
     "cell_type": "code",
     "collapsed": false,
     "input": [
      "# we might be able to get this from ops view data\n",
      "hour_histogram =real_netflow.histogram(column_name = \"hour\", num_bins=24)\n"
     ],
     "language": "python",
     "metadata": {},
     "outputs": [
      {
       "output_type": "stream",
       "stream": "stdout",
       "text": [
        "\r",
        "initializing..."
       ]
      },
      {
       "output_type": "stream",
       "stream": "stdout",
       "text": [
        "\r",
        "initializing..."
       ]
      },
      {
       "output_type": "stream",
       "stream": "stdout",
       "text": [
        "\r",
        "initializing..."
       ]
      },
      {
       "output_type": "stream",
       "stream": "stdout",
       "text": [
        "\r",
        "initializing..."
       ]
      },
      {
       "output_type": "stream",
       "stream": "stdout",
       "text": [
        "\r",
        "initializing..."
       ]
      },
      {
       "output_type": "stream",
       "stream": "stdout",
       "text": [
        "\r",
        "initializing..."
       ]
      },
      {
       "output_type": "stream",
       "stream": "stdout",
       "text": [
        "\r",
        "[.........................]   0.00% Tasks retries:0 Time 0:00:00"
       ]
      },
      {
       "output_type": "stream",
       "stream": "stdout",
       "text": [
        "\r",
        "[.........................]   0.00% Tasks retries:0 Time 0:00:02"
       ]
      },
      {
       "output_type": "stream",
       "stream": "stdout",
       "text": [
        "\r",
        "[.........................]   0.02% Tasks retries:0 Time 0:00:04"
       ]
      },
      {
       "output_type": "stream",
       "stream": "stdout",
       "text": [
        "\r",
        "[.........................]   0.02% Tasks retries:0 Time 0:00:06"
       ]
      },
      {
       "output_type": "stream",
       "stream": "stdout",
       "text": [
        "\r",
        "[.........................]   0.05% Tasks retries:0 Time 0:00:08"
       ]
      },
      {
       "output_type": "stream",
       "stream": "stdout",
       "text": [
        "\r",
        "[.........................]   0.05% Tasks retries:0 Time 0:00:10"
       ]
      },
      {
       "output_type": "stream",
       "stream": "stdout",
       "text": [
        "\r",
        "[.........................]   0.10% Tasks retries:0 Time 0:00:12"
       ]
      },
      {
       "output_type": "stream",
       "stream": "stdout",
       "text": [
        "\r",
        "[.........................]   0.36% Tasks retries:0 Time 0:00:14"
       ]
      },
      {
       "output_type": "stream",
       "stream": "stdout",
       "text": [
        "\r",
        "[.........................]   0.57% Tasks retries:0 Time 0:00:16"
       ]
      },
      {
       "output_type": "stream",
       "stream": "stdout",
       "text": [
        "\r",
        "[.........................]   0.61% Tasks retries:0 Time 0:00:18"
       ]
      },
      {
       "output_type": "stream",
       "stream": "stdout",
       "text": [
        "\r",
        "[.........................]   0.64% Tasks retries:0 Time 0:00:20"
       ]
      },
      {
       "output_type": "stream",
       "stream": "stdout",
       "text": [
        "\r",
        "[.........................]   0.66% Tasks retries:0 Time 0:00:22"
       ]
      },
      {
       "output_type": "stream",
       "stream": "stdout",
       "text": [
        "\r",
        "[.........................]   0.67% Tasks retries:0 Time 0:00:24"
       ]
      },
      {
       "output_type": "stream",
       "stream": "stdout",
       "text": [
        "\r",
        "[.........................]   0.70% Tasks retries:0 Time 0:00:26"
       ]
      },
      {
       "output_type": "stream",
       "stream": "stdout",
       "text": [
        "\r",
        "[.........................]   0.76% Tasks retries:0 Time 0:00:28"
       ]
      },
      {
       "output_type": "stream",
       "stream": "stdout",
       "text": [
        "\r",
        "[.........................]   1.00% Tasks retries:0 Time 0:00:30"
       ]
      },
      {
       "output_type": "stream",
       "stream": "stdout",
       "text": [
        "\r",
        "[.........................]   1.15% Tasks retries:0 Time 0:00:32"
       ]
      },
      {
       "output_type": "stream",
       "stream": "stdout",
       "text": [
        "\r",
        "[.........................]   1.20% Tasks retries:0 Time 0:00:34"
       ]
      },
      {
       "output_type": "stream",
       "stream": "stdout",
       "text": [
        "\r",
        "[.........................]   1.23% Tasks retries:0 Time 0:00:36"
       ]
      },
      {
       "output_type": "stream",
       "stream": "stdout",
       "text": [
        "\r",
        "[.........................]   1.27% Tasks retries:0 Time 0:00:38"
       ]
      },
      {
       "output_type": "stream",
       "stream": "stdout",
       "text": [
        "\r",
        "[.........................]   1.30% Tasks retries:0 Time 0:00:40"
       ]
      },
      {
       "output_type": "stream",
       "stream": "stdout",
       "text": [
        "\r",
        "[.........................]   1.38% Tasks retries:0 Time 0:00:42"
       ]
      },
      {
       "output_type": "stream",
       "stream": "stdout",
       "text": [
        "\r",
        "[.........................]   1.47% Tasks retries:0 Time 0:00:44"
       ]
      },
      {
       "output_type": "stream",
       "stream": "stdout",
       "text": [
        "\r",
        "[.........................]   1.66% Tasks retries:0 Time 0:00:47"
       ]
      },
      {
       "output_type": "stream",
       "stream": "stdout",
       "text": [
        "\r",
        "[.........................]   1.78% Tasks retries:0 Time 0:00:49"
       ]
      },
      {
       "output_type": "stream",
       "stream": "stdout",
       "text": [
        "\r",
        "[.........................]   1.80% Tasks retries:0 Time 0:00:51"
       ]
      },
      {
       "output_type": "stream",
       "stream": "stdout",
       "text": [
        "\r",
        "[.........................]   1.84% Tasks retries:0 Time 0:00:53"
       ]
      },
      {
       "output_type": "stream",
       "stream": "stdout",
       "text": [
        "\r",
        "[.........................]   1.88% Tasks retries:0 Time 0:00:55"
       ]
      },
      {
       "output_type": "stream",
       "stream": "stdout",
       "text": [
        "\r",
        "[.........................]   1.95% Tasks retries:0 Time 0:00:57"
       ]
      },
      {
       "output_type": "stream",
       "stream": "stdout",
       "text": [
        "\r",
        "[.........................]   2.02% Tasks retries:0 Time 0:00:59"
       ]
      },
      {
       "output_type": "stream",
       "stream": "stdout",
       "text": [
        "\r",
        "[.........................]   2.11% Tasks retries:0 Time 0:01:01"
       ]
      },
      {
       "output_type": "stream",
       "stream": "stdout",
       "text": [
        "\r",
        "[.........................]   2.26% Tasks retries:0 Time 0:01:03"
       ]
      },
      {
       "output_type": "stream",
       "stream": "stdout",
       "text": [
        "\r",
        "[.........................]   2.39% Tasks retries:0 Time 0:01:05"
       ]
      },
      {
       "output_type": "stream",
       "stream": "stdout",
       "text": [
        "\r",
        "[.........................]   2.45% Tasks retries:0 Time 0:01:07"
       ]
      },
      {
       "output_type": "stream",
       "stream": "stdout",
       "text": [
        "\r",
        "[.........................]   2.46% Tasks retries:0 Time 0:01:09"
       ]
      },
      {
       "output_type": "stream",
       "stream": "stdout",
       "text": [
        "\r",
        "[.........................]   2.51% Tasks retries:0 Time 0:01:11"
       ]
      },
      {
       "output_type": "stream",
       "stream": "stdout",
       "text": [
        "\r",
        "[.........................]   2.58% Tasks retries:0 Time 0:01:13"
       ]
      },
      {
       "output_type": "stream",
       "stream": "stdout",
       "text": [
        "\r",
        "[.........................]   2.68% Tasks retries:0 Time 0:01:15"
       ]
      },
      {
       "output_type": "stream",
       "stream": "stdout",
       "text": [
        "\r",
        "[.........................]   2.78% Tasks retries:0 Time 0:01:17"
       ]
      },
      {
       "output_type": "stream",
       "stream": "stdout",
       "text": [
        "\r",
        "[.........................]   2.89% Tasks retries:0 Time 0:01:19"
       ]
      },
      {
       "output_type": "stream",
       "stream": "stdout",
       "text": [
        "\r",
        "[.........................]   3.01% Tasks retries:0 Time 0:01:21"
       ]
      },
      {
       "output_type": "stream",
       "stream": "stdout",
       "text": [
        "\r",
        "[.........................]   3.09% Tasks retries:0 Time 0:01:23"
       ]
      },
      {
       "output_type": "stream",
       "stream": "stdout",
       "text": [
        "\r",
        "[.........................]   3.11% Tasks retries:0 Time 0:01:25"
       ]
      },
      {
       "output_type": "stream",
       "stream": "stdout",
       "text": [
        "\r",
        "[.........................]   3.15% Tasks retries:0 Time 0:01:27"
       ]
      },
      {
       "output_type": "stream",
       "stream": "stdout",
       "text": [
        "\r",
        "[.........................]   3.21% Tasks retries:0 Time 0:01:29"
       ]
      },
      {
       "output_type": "stream",
       "stream": "stdout",
       "text": [
        "\r",
        "[.........................]   3.28% Tasks retries:0 Time 0:01:32"
       ]
      },
      {
       "output_type": "stream",
       "stream": "stdout",
       "text": [
        "\r",
        "[.........................]   3.40% Tasks retries:0 Time 0:01:34"
       ]
      },
      {
       "output_type": "stream",
       "stream": "stdout",
       "text": [
        "\r",
        "[.........................]   3.51% Tasks retries:0 Time 0:01:36"
       ]
      },
      {
       "output_type": "stream",
       "stream": "stdout",
       "text": [
        "\r",
        "[.........................]   3.60% Tasks retries:0 Time 0:01:38"
       ]
      },
      {
       "output_type": "stream",
       "stream": "stdout",
       "text": [
        "\r",
        "[.........................]   3.69% Tasks retries:0 Time 0:01:40"
       ]
      },
      {
       "output_type": "stream",
       "stream": "stdout",
       "text": [
        "\r",
        "[.........................]   3.75% Tasks retries:0 Time 0:01:42"
       ]
      },
      {
       "output_type": "stream",
       "stream": "stdout",
       "text": [
        "\r",
        "[.........................]   3.80% Tasks retries:0 Time 0:01:44"
       ]
      },
      {
       "output_type": "stream",
       "stream": "stdout",
       "text": [
        "\r",
        "[.........................]   3.86% Tasks retries:0 Time 0:01:46"
       ]
      },
      {
       "output_type": "stream",
       "stream": "stdout",
       "text": [
        "\r",
        "[.........................]   3.96% Tasks retries:0 Time 0:01:48"
       ]
      },
      {
       "output_type": "stream",
       "stream": "stdout",
       "text": [
        "\r",
        "[=........................]   4.06% Tasks retries:0 Time 0:01:50"
       ]
      },
      {
       "output_type": "stream",
       "stream": "stdout",
       "text": [
        "\r",
        "[=........................]   4.12% Tasks retries:0 Time 0:01:52"
       ]
      },
      {
       "output_type": "stream",
       "stream": "stdout",
       "text": [
        "\r",
        "[=........................]   4.20% Tasks retries:0 Time 0:01:54"
       ]
      },
      {
       "output_type": "stream",
       "stream": "stdout",
       "text": [
        "\r",
        "[=........................]   4.29% Tasks retries:0 Time 0:01:56"
       ]
      },
      {
       "output_type": "stream",
       "stream": "stdout",
       "text": [
        "\r",
        "[=........................]   4.36% Tasks retries:0 Time 0:01:58"
       ]
      },
      {
       "output_type": "stream",
       "stream": "stdout",
       "text": [
        "\r",
        "[=........................]   4.41% Tasks retries:0 Time 0:02:00"
       ]
      },
      {
       "output_type": "stream",
       "stream": "stdout",
       "text": [
        "\r",
        "[=........................]   4.50% Tasks retries:0 Time 0:02:02"
       ]
      },
      {
       "output_type": "stream",
       "stream": "stdout",
       "text": [
        "\r",
        "[=........................]   4.59% Tasks retries:0 Time 0:02:04"
       ]
      },
      {
       "output_type": "stream",
       "stream": "stdout",
       "text": [
        "\r",
        "[=........................]   4.68% Tasks retries:0 Time 0:02:06"
       ]
      },
      {
       "output_type": "stream",
       "stream": "stdout",
       "text": [
        "\r",
        "[=........................]   4.79% Tasks retries:0 Time 0:02:08"
       ]
      },
      {
       "output_type": "stream",
       "stream": "stdout",
       "text": [
        "\r",
        "[=........................]   4.85% Tasks retries:0 Time 0:02:10"
       ]
      },
      {
       "output_type": "stream",
       "stream": "stdout",
       "text": [
        "\r",
        "[=........................]   4.94% Tasks retries:0 Time 0:02:12"
       ]
      },
      {
       "output_type": "stream",
       "stream": "stdout",
       "text": [
        "\r",
        "[=........................]   5.00% Tasks retries:0 Time 0:02:14"
       ]
      },
      {
       "output_type": "stream",
       "stream": "stdout",
       "text": [
        "\r",
        "[=........................]   5.07% Tasks retries:0 Time 0:02:16"
       ]
      },
      {
       "output_type": "stream",
       "stream": "stdout",
       "text": [
        "\r",
        "[=........................]   5.12% Tasks retries:0 Time 0:02:19"
       ]
      },
      {
       "output_type": "stream",
       "stream": "stdout",
       "text": [
        "\r",
        "[=........................]   5.22% Tasks retries:0 Time 0:02:21"
       ]
      },
      {
       "output_type": "stream",
       "stream": "stdout",
       "text": [
        "\r",
        "[=........................]   5.30% Tasks retries:0 Time 0:02:23"
       ]
      },
      {
       "output_type": "stream",
       "stream": "stdout",
       "text": [
        "\r",
        "[=........................]   5.39% Tasks retries:0 Time 0:02:25"
       ]
      },
      {
       "output_type": "stream",
       "stream": "stdout",
       "text": [
        "\r",
        "[=........................]   5.48% Tasks retries:0 Time 0:02:27"
       ]
      },
      {
       "output_type": "stream",
       "stream": "stdout",
       "text": [
        "\r",
        "[=........................]   5.56% Tasks retries:0 Time 0:02:29"
       ]
      },
      {
       "output_type": "stream",
       "stream": "stdout",
       "text": [
        "\r",
        "[=........................]   5.62% Tasks retries:0 Time 0:02:31"
       ]
      },
      {
       "output_type": "stream",
       "stream": "stdout",
       "text": [
        "\r",
        "[=........................]   5.70% Tasks retries:0 Time 0:02:33"
       ]
      },
      {
       "output_type": "stream",
       "stream": "stdout",
       "text": [
        "\r",
        "[=........................]   5.80% Tasks retries:0 Time 0:02:35"
       ]
      },
      {
       "output_type": "stream",
       "stream": "stdout",
       "text": [
        "\r",
        "[=........................]   5.89% Tasks retries:0 Time 0:02:37"
       ]
      },
      {
       "output_type": "stream",
       "stream": "stdout",
       "text": [
        "\r",
        "[=........................]   5.98% Tasks retries:0 Time 0:02:39"
       ]
      },
      {
       "output_type": "stream",
       "stream": "stdout",
       "text": [
        "\r",
        "[=........................]   6.02% Tasks retries:0 Time 0:02:41"
       ]
      },
      {
       "output_type": "stream",
       "stream": "stdout",
       "text": [
        "\r",
        "[=........................]   6.10% Tasks retries:0 Time 0:02:43"
       ]
      },
      {
       "output_type": "stream",
       "stream": "stdout",
       "text": [
        "\r",
        "[=........................]   6.15% Tasks retries:0 Time 0:02:45"
       ]
      },
      {
       "output_type": "stream",
       "stream": "stdout",
       "text": [
        "\r",
        "[=........................]   6.24% Tasks retries:0 Time 0:02:47"
       ]
      },
      {
       "output_type": "stream",
       "stream": "stdout",
       "text": [
        "\r",
        "[=........................]   6.31% Tasks retries:0 Time 0:02:49"
       ]
      },
      {
       "output_type": "stream",
       "stream": "stdout",
       "text": [
        "\r",
        "[=........................]   6.42% Tasks retries:0 Time 0:02:51"
       ]
      },
      {
       "output_type": "stream",
       "stream": "stdout",
       "text": [
        "\r",
        "[=........................]   6.52% Tasks retries:0 Time 0:02:53"
       ]
      },
      {
       "output_type": "stream",
       "stream": "stdout",
       "text": [
        "\r",
        "[=........................]   6.60% Tasks retries:0 Time 0:02:55"
       ]
      },
      {
       "output_type": "stream",
       "stream": "stdout",
       "text": [
        "\r",
        "[=........................]   6.71% Tasks retries:0 Time 0:02:57"
       ]
      },
      {
       "output_type": "stream",
       "stream": "stdout",
       "text": [
        "\r",
        "[=........................]   6.80% Tasks retries:0 Time 0:02:59"
       ]
      },
      {
       "output_type": "stream",
       "stream": "stdout",
       "text": [
        "\r",
        "[=........................]   6.92% Tasks retries:0 Time 0:03:01"
       ]
      },
      {
       "output_type": "stream",
       "stream": "stdout",
       "text": [
        "\r",
        "[=........................]   7.08% Tasks retries:0 Time 0:03:04"
       ]
      },
      {
       "output_type": "stream",
       "stream": "stdout",
       "text": [
        "\r",
        "[=........................]   7.14% Tasks retries:0 Time 0:03:06"
       ]
      },
      {
       "output_type": "stream",
       "stream": "stdout",
       "text": [
        "\r",
        "[==.......................]   8.13% Tasks retries:0 Time 0:03:08"
       ]
      },
      {
       "output_type": "stream",
       "stream": "stdout",
       "text": [
        "\r",
        "[==.......................]  10.14% Tasks retries:0 Time 0:03:10"
       ]
      },
      {
       "output_type": "stream",
       "stream": "stdout",
       "text": [
        "\r",
        "[===......................]  12.14% Tasks retries:0 Time 0:03:12"
       ]
      },
      {
       "output_type": "stream",
       "stream": "stdout",
       "text": [
        "\r",
        "[===......................]  14.19% Tasks retries:0 Time 0:03:14"
       ]
      },
      {
       "output_type": "stream",
       "stream": "stdout",
       "text": [
        "\r",
        "[===......................]  15.30% Tasks retries:0 Time 0:03:16"
       ]
      },
      {
       "output_type": "stream",
       "stream": "stdout",
       "text": [
        "\r",
        "[====.....................]  16.61% Tasks retries:0 Time 0:03:18"
       ]
      },
      {
       "output_type": "stream",
       "stream": "stdout",
       "text": [
        "\r",
        "[====.....................]  17.98% Tasks retries:0 Time 0:03:20"
       ]
      },
      {
       "output_type": "stream",
       "stream": "stdout",
       "text": [
        "\r",
        "[=====....................]  23.81% Tasks retries:0 Time 0:03:22"
       ]
      },
      {
       "output_type": "stream",
       "stream": "stdout",
       "text": [
        "\r",
        "[======...................]  25.77% Tasks retries:0 Time 0:03:24"
       ]
      },
      {
       "output_type": "stream",
       "stream": "stdout",
       "text": [
        "\r",
        "[======...................]  27.83% Tasks retries:0 Time 0:03:26"
       ]
      },
      {
       "output_type": "stream",
       "stream": "stdout",
       "text": [
        "\r",
        "[=======..................]  29.78% Tasks retries:0 Time 0:03:28"
       ]
      },
      {
       "output_type": "stream",
       "stream": "stdout",
       "text": [
        "\r",
        "[=======..................]  31.37% Tasks retries:0 Time 0:03:30"
       ]
      },
      {
       "output_type": "stream",
       "stream": "stdout",
       "text": [
        "\r",
        "[========.................]  32.60% Tasks retries:0 Time 0:03:32"
       ]
      },
      {
       "output_type": "stream",
       "stream": "stdout",
       "text": [
        "\r",
        "[========.................]  33.96% Tasks retries:0 Time 0:03:34"
       ]
      },
      {
       "output_type": "stream",
       "stream": "stdout",
       "text": [
        "\r",
        "[========.................]  35.33% Tasks retries:0 Time 0:03:36"
       ]
      },
      {
       "output_type": "stream",
       "stream": "stdout",
       "text": [
        "\r",
        "[==========...............]  41.66% Tasks retries:0 Time 0:03:38"
       ]
      },
      {
       "output_type": "stream",
       "stream": "stdout",
       "text": [
        "\r",
        "[===========..............]  45.24% Tasks retries:0 Time 0:03:40"
       ]
      },
      {
       "output_type": "stream",
       "stream": "stdout",
       "text": [
        "\r",
        "[===========..............]  45.24% Tasks retries:0 Time 0:03:42"
       ]
      },
      {
       "output_type": "stream",
       "stream": "stdout",
       "text": [
        "\r",
        "[===========..............]  45.25% Tasks retries:0 Time 0:03:44"
       ]
      },
      {
       "output_type": "stream",
       "stream": "stdout",
       "text": [
        "\r",
        "[===========..............]  45.27% Tasks retries:0 Time 0:03:46"
       ]
      },
      {
       "output_type": "stream",
       "stream": "stdout",
       "text": [
        "\r",
        "[===========..............]  45.27% Tasks retries:0 Time 0:03:49"
       ]
      },
      {
       "output_type": "stream",
       "stream": "stdout",
       "text": [
        "\r",
        "[===========..............]  45.28% Tasks retries:0 Time 0:03:51"
       ]
      },
      {
       "output_type": "stream",
       "stream": "stdout",
       "text": [
        "\r",
        "[===========..............]  45.29% Tasks retries:0 Time 0:03:53"
       ]
      },
      {
       "output_type": "stream",
       "stream": "stdout",
       "text": [
        "\r",
        "[===========..............]  45.33% Tasks retries:0 Time 0:03:55"
       ]
      },
      {
       "output_type": "stream",
       "stream": "stdout",
       "text": [
        "\r",
        "[===========..............]  45.62% Tasks retries:0 Time 0:03:57"
       ]
      },
      {
       "output_type": "stream",
       "stream": "stdout",
       "text": [
        "\r",
        "[===========..............]  45.83% Tasks retries:0 Time 0:03:59"
       ]
      },
      {
       "output_type": "stream",
       "stream": "stdout",
       "text": [
        "\r",
        "[===========..............]  45.87% Tasks retries:0 Time 0:04:01"
       ]
      },
      {
       "output_type": "stream",
       "stream": "stdout",
       "text": [
        "\r",
        "[===========..............]  45.87% Tasks retries:0 Time 0:04:03"
       ]
      },
      {
       "output_type": "stream",
       "stream": "stdout",
       "text": [
        "\r",
        "[===========..............]  45.89% Tasks retries:0 Time 0:04:05"
       ]
      },
      {
       "output_type": "stream",
       "stream": "stdout",
       "text": [
        "\r",
        "[===========..............]  45.90% Tasks retries:0 Time 0:04:07"
       ]
      },
      {
       "output_type": "stream",
       "stream": "stdout",
       "text": [
        "\r",
        "[===========..............]  45.93% Tasks retries:0 Time 0:04:09"
       ]
      },
      {
       "output_type": "stream",
       "stream": "stdout",
       "text": [
        "\r",
        "[===========..............]  45.96% Tasks retries:0 Time 0:04:11"
       ]
      },
      {
       "output_type": "stream",
       "stream": "stdout",
       "text": [
        "\r",
        "[===========..............]  46.12% Tasks retries:0 Time 0:04:13"
       ]
      },
      {
       "output_type": "stream",
       "stream": "stdout",
       "text": [
        "\r",
        "[===========..............]  46.33% Tasks retries:0 Time 0:04:15"
       ]
      },
      {
       "output_type": "stream",
       "stream": "stdout",
       "text": [
        "\r",
        "[===========..............]  46.45% Tasks retries:0 Time 0:04:17"
       ]
      },
      {
       "output_type": "stream",
       "stream": "stdout",
       "text": [
        "\r",
        "[===========..............]  46.47% Tasks retries:0 Time 0:04:19"
       ]
      },
      {
       "output_type": "stream",
       "stream": "stdout",
       "text": [
        "\r",
        "[===========..............]  46.50% Tasks retries:0 Time 0:04:21"
       ]
      },
      {
       "output_type": "stream",
       "stream": "stdout",
       "text": [
        "\r",
        "[===========..............]  46.52% Tasks retries:0 Time 0:04:23"
       ]
      },
      {
       "output_type": "stream",
       "stream": "stdout",
       "text": [
        "\r",
        "[===========..............]  46.54% Tasks retries:0 Time 0:04:25"
       ]
      },
      {
       "output_type": "stream",
       "stream": "stdout",
       "text": [
        "\r",
        "[===========..............]  46.59% Tasks retries:0 Time 0:04:27"
       ]
      },
      {
       "output_type": "stream",
       "stream": "stdout",
       "text": [
        "\r",
        "[===========..............]  46.61% Tasks retries:0 Time 0:04:29"
       ]
      },
      {
       "output_type": "stream",
       "stream": "stdout",
       "text": [
        "\r",
        "[===========..............]  46.70% Tasks retries:0 Time 0:04:31"
       ]
      },
      {
       "output_type": "stream",
       "stream": "stdout",
       "text": [
        "\r",
        "[===========..............]  46.85% Tasks retries:0 Time 0:04:33"
       ]
      },
      {
       "output_type": "stream",
       "stream": "stdout",
       "text": [
        "\r",
        "[===========..............]  46.98% Tasks retries:0 Time 0:04:36"
       ]
      },
      {
       "output_type": "stream",
       "stream": "stdout",
       "text": [
        "\r",
        "[===========..............]  47.05% Tasks retries:0 Time 0:04:38"
       ]
      },
      {
       "output_type": "stream",
       "stream": "stdout",
       "text": [
        "\r",
        "[===========..............]  47.12% Tasks retries:0 Time 0:04:40"
       ]
      },
      {
       "output_type": "stream",
       "stream": "stdout",
       "text": [
        "\r",
        "[===========..............]  47.16% Tasks retries:0 Time 0:04:42"
       ]
      },
      {
       "output_type": "stream",
       "stream": "stdout",
       "text": [
        "\r",
        "[===========..............]  47.19% Tasks retries:0 Time 0:04:44"
       ]
      },
      {
       "output_type": "stream",
       "stream": "stdout",
       "text": [
        "\r",
        "[===========..............]  47.22% Tasks retries:0 Time 0:04:46"
       ]
      },
      {
       "output_type": "stream",
       "stream": "stdout",
       "text": [
        "\r",
        "[===========..............]  47.26% Tasks retries:0 Time 0:04:48"
       ]
      },
      {
       "output_type": "stream",
       "stream": "stdout",
       "text": [
        "\r",
        "[===========..............]  47.35% Tasks retries:0 Time 0:04:50"
       ]
      },
      {
       "output_type": "stream",
       "stream": "stdout",
       "text": [
        "\r",
        "[===========..............]  47.47% Tasks retries:0 Time 0:04:52"
       ]
      },
      {
       "output_type": "stream",
       "stream": "stdout",
       "text": [
        "\r",
        "[===========..............]  47.57% Tasks retries:0 Time 0:04:54"
       ]
      },
      {
       "output_type": "stream",
       "stream": "stdout",
       "text": [
        "\r",
        "[===========..............]  47.67% Tasks retries:0 Time 0:04:56"
       ]
      },
      {
       "output_type": "stream",
       "stream": "stdout",
       "text": [
        "\r",
        "[===========..............]  47.74% Tasks retries:0 Time 0:04:58"
       ]
      },
      {
       "output_type": "stream",
       "stream": "stdout",
       "text": [
        "\r",
        "[===========..............]  47.79% Tasks retries:0 Time 0:05:00"
       ]
      },
      {
       "output_type": "stream",
       "stream": "stdout",
       "text": [
        "\r",
        "[===========..............]  47.83% Tasks retries:0 Time 0:05:02"
       ]
      },
      {
       "output_type": "stream",
       "stream": "stdout",
       "text": [
        "\r",
        "[===========..............]  47.85% Tasks retries:0 Time 0:05:04"
       ]
      },
      {
       "output_type": "stream",
       "stream": "stdout",
       "text": [
        "\r",
        "[===========..............]  47.89% Tasks retries:0 Time 0:05:06"
       ]
      },
      {
       "output_type": "stream",
       "stream": "stdout",
       "text": [
        "\r",
        "[===========..............]  47.98% Tasks retries:0 Time 0:05:08"
       ]
      },
      {
       "output_type": "stream",
       "stream": "stdout",
       "text": [
        "\r",
        "[============.............]  48.07% Tasks retries:0 Time 0:05:10"
       ]
      },
      {
       "output_type": "stream",
       "stream": "stdout",
       "text": [
        "\r",
        "[============.............]  48.18% Tasks retries:0 Time 0:05:12"
       ]
      },
      {
       "output_type": "stream",
       "stream": "stdout",
       "text": [
        "\r",
        "[============.............]  48.27% Tasks retries:0 Time 0:05:14"
       ]
      },
      {
       "output_type": "stream",
       "stream": "stdout",
       "text": [
        "\r",
        "[============.............]  48.35% Tasks retries:0 Time 0:05:16"
       ]
      },
      {
       "output_type": "stream",
       "stream": "stdout",
       "text": [
        "\r",
        "[============.............]  48.41% Tasks retries:0 Time 0:05:18"
       ]
      },
      {
       "output_type": "stream",
       "stream": "stdout",
       "text": [
        "\r",
        "[============.............]  48.45% Tasks retries:0 Time 0:05:21"
       ]
      },
      {
       "output_type": "stream",
       "stream": "stdout",
       "text": [
        "\r",
        "[============.............]  48.49% Tasks retries:0 Time 0:05:23"
       ]
      },
      {
       "output_type": "stream",
       "stream": "stdout",
       "text": [
        "\r",
        "[============.............]  48.54% Tasks retries:0 Time 0:05:25"
       ]
      },
      {
       "output_type": "stream",
       "stream": "stdout",
       "text": [
        "\r",
        "[============.............]  48.63% Tasks retries:0 Time 0:05:27"
       ]
      },
      {
       "output_type": "stream",
       "stream": "stdout",
       "text": [
        "\r",
        "[============.............]  48.71% Tasks retries:0 Time 0:05:29"
       ]
      },
      {
       "output_type": "stream",
       "stream": "stdout",
       "text": [
        "\r",
        "[============.............]  48.80% Tasks retries:0 Time 0:05:31"
       ]
      },
      {
       "output_type": "stream",
       "stream": "stdout",
       "text": [
        "\r",
        "[============.............]  48.89% Tasks retries:0 Time 0:05:33"
       ]
      },
      {
       "output_type": "stream",
       "stream": "stdout",
       "text": [
        "\r",
        "[============.............]  48.95% Tasks retries:0 Time 0:05:35"
       ]
      },
      {
       "output_type": "stream",
       "stream": "stdout",
       "text": [
        "\r",
        "[============.............]  49.02% Tasks retries:0 Time 0:05:37"
       ]
      },
      {
       "output_type": "stream",
       "stream": "stdout",
       "text": [
        "\r",
        "[============.............]  49.08% Tasks retries:0 Time 0:05:39"
       ]
      },
      {
       "output_type": "stream",
       "stream": "stdout",
       "text": [
        "\r",
        "[============.............]  49.13% Tasks retries:0 Time 0:05:41"
       ]
      },
      {
       "output_type": "stream",
       "stream": "stdout",
       "text": [
        "\r",
        "[============.............]  49.16% Tasks retries:0 Time 0:05:43"
       ]
      },
      {
       "output_type": "stream",
       "stream": "stdout",
       "text": [
        "\r",
        "[============.............]  49.23% Tasks retries:0 Time 0:05:45"
       ]
      },
      {
       "output_type": "stream",
       "stream": "stdout",
       "text": [
        "\r",
        "[============.............]  49.33% Tasks retries:0 Time 0:05:47"
       ]
      },
      {
       "output_type": "stream",
       "stream": "stdout",
       "text": [
        "\r",
        "[============.............]  49.39% Tasks retries:0 Time 0:05:49"
       ]
      },
      {
       "output_type": "stream",
       "stream": "stdout",
       "text": [
        "\r",
        "[============.............]  49.48% Tasks retries:0 Time 0:05:51"
       ]
      },
      {
       "output_type": "stream",
       "stream": "stdout",
       "text": [
        "\r",
        "[============.............]  49.55% Tasks retries:0 Time 0:05:53"
       ]
      },
      {
       "output_type": "stream",
       "stream": "stdout",
       "text": [
        "\r",
        "[============.............]  49.61% Tasks retries:0 Time 0:05:55"
       ]
      },
      {
       "output_type": "stream",
       "stream": "stdout",
       "text": [
        "\r",
        "[============.............]  49.70% Tasks retries:0 Time 0:05:57"
       ]
      },
      {
       "output_type": "stream",
       "stream": "stdout",
       "text": [
        "\r",
        "[============.............]  49.76% Tasks retries:0 Time 0:05:59"
       ]
      },
      {
       "output_type": "stream",
       "stream": "stdout",
       "text": [
        "\r",
        "[============.............]  49.81% Tasks retries:0 Time 0:06:01"
       ]
      },
      {
       "output_type": "stream",
       "stream": "stdout",
       "text": [
        "\r",
        "[============.............]  49.89% Tasks retries:0 Time 0:06:03"
       ]
      },
      {
       "output_type": "stream",
       "stream": "stdout",
       "text": [
        "\r",
        "[============.............]  49.94% Tasks retries:0 Time 0:06:05"
       ]
      },
      {
       "output_type": "stream",
       "stream": "stdout",
       "text": [
        "\r",
        "[============.............]  50.04% Tasks retries:0 Time 0:06:08"
       ]
      },
      {
       "output_type": "stream",
       "stream": "stdout",
       "text": [
        "\r",
        "[============.............]  50.09% Tasks retries:0 Time 0:06:10"
       ]
      },
      {
       "output_type": "stream",
       "stream": "stdout",
       "text": [
        "\r",
        "[============.............]  50.15% Tasks retries:0 Time 0:06:12"
       ]
      },
      {
       "output_type": "stream",
       "stream": "stdout",
       "text": [
        "\r",
        "[============.............]  50.23% Tasks retries:0 Time 0:06:14"
       ]
      },
      {
       "output_type": "stream",
       "stream": "stdout",
       "text": [
        "\r",
        "[============.............]  50.30% Tasks retries:0 Time 0:06:16"
       ]
      },
      {
       "output_type": "stream",
       "stream": "stdout",
       "text": [
        "\r",
        "[============.............]  50.38% Tasks retries:0 Time 0:06:18"
       ]
      },
      {
       "output_type": "stream",
       "stream": "stdout",
       "text": [
        "\r",
        "[============.............]  50.43% Tasks retries:0 Time 0:06:20"
       ]
      },
      {
       "output_type": "stream",
       "stream": "stdout",
       "text": [
        "\r",
        "[============.............]  50.53% Tasks retries:0 Time 0:06:22"
       ]
      },
      {
       "output_type": "stream",
       "stream": "stdout",
       "text": [
        "\r",
        "[============.............]  50.61% Tasks retries:0 Time 0:06:24"
       ]
      },
      {
       "output_type": "stream",
       "stream": "stdout",
       "text": [
        "\r",
        "[============.............]  50.68% Tasks retries:0 Time 0:06:26"
       ]
      },
      {
       "output_type": "stream",
       "stream": "stdout",
       "text": [
        "\r",
        "[============.............]  50.72% Tasks retries:0 Time 0:06:28"
       ]
      },
      {
       "output_type": "stream",
       "stream": "stdout",
       "text": [
        "\r",
        "[============.............]  50.77% Tasks retries:0 Time 0:06:30"
       ]
      },
      {
       "output_type": "stream",
       "stream": "stdout",
       "text": [
        "\r",
        "[============.............]  50.85% Tasks retries:0 Time 0:06:32"
       ]
      },
      {
       "output_type": "stream",
       "stream": "stdout",
       "text": [
        "\r",
        "[============.............]  50.92% Tasks retries:0 Time 0:06:34"
       ]
      },
      {
       "output_type": "stream",
       "stream": "stdout",
       "text": [
        "\r",
        "[============.............]  51.00% Tasks retries:0 Time 0:06:36"
       ]
      },
      {
       "output_type": "stream",
       "stream": "stdout",
       "text": [
        "\r",
        "[============.............]  51.08% Tasks retries:0 Time 0:06:38"
       ]
      },
      {
       "output_type": "stream",
       "stream": "stdout",
       "text": [
        "\r",
        "[============.............]  51.12% Tasks retries:0 Time 0:06:40"
       ]
      },
      {
       "output_type": "stream",
       "stream": "stdout",
       "text": [
        "\r",
        "[============.............]  51.20% Tasks retries:0 Time 0:06:42"
       ]
      },
      {
       "output_type": "stream",
       "stream": "stdout",
       "text": [
        "\r",
        "[============.............]  51.27% Tasks retries:0 Time 0:06:44"
       ]
      },
      {
       "output_type": "stream",
       "stream": "stdout",
       "text": [
        "\r",
        "[============.............]  51.34% Tasks retries:0 Time 0:06:46"
       ]
      },
      {
       "output_type": "stream",
       "stream": "stdout",
       "text": [
        "\r",
        "[============.............]  51.40% Tasks retries:0 Time 0:06:48"
       ]
      },
      {
       "output_type": "stream",
       "stream": "stdout",
       "text": [
        "\r",
        "[============.............]  51.48% Tasks retries:0 Time 0:06:50"
       ]
      },
      {
       "output_type": "stream",
       "stream": "stdout",
       "text": [
        "\r",
        "[============.............]  51.53% Tasks retries:0 Time 0:06:53"
       ]
      },
      {
       "output_type": "stream",
       "stream": "stdout",
       "text": [
        "\r",
        "[============.............]  51.58% Tasks retries:0 Time 0:06:55"
       ]
      },
      {
       "output_type": "stream",
       "stream": "stdout",
       "text": [
        "\r",
        "[============.............]  51.67% Tasks retries:0 Time 0:06:57"
       ]
      },
      {
       "output_type": "stream",
       "stream": "stdout",
       "text": [
        "\r",
        "[============.............]  51.76% Tasks retries:0 Time 0:06:59"
       ]
      },
      {
       "output_type": "stream",
       "stream": "stdout",
       "text": [
        "\r",
        "[============.............]  51.83% Tasks retries:0 Time 0:07:01"
       ]
      },
      {
       "output_type": "stream",
       "stream": "stdout",
       "text": [
        "\r",
        "[============.............]  51.92% Tasks retries:0 Time 0:07:03"
       ]
      },
      {
       "output_type": "stream",
       "stream": "stdout",
       "text": [
        "\r",
        "[=============............]  52.02% Tasks retries:0 Time 0:07:05"
       ]
      },
      {
       "output_type": "stream",
       "stream": "stdout",
       "text": [
        "\r",
        "[=============............]  52.13% Tasks retries:0 Time 0:07:07"
       ]
      },
      {
       "output_type": "stream",
       "stream": "stdout",
       "text": [
        "\r",
        "[=============............]  52.24% Tasks retries:0 Time 0:07:09"
       ]
      },
      {
       "output_type": "stream",
       "stream": "stdout",
       "text": [
        "\r",
        "[=============............]  52.37% Tasks retries:0 Time 0:07:11"
       ]
      },
      {
       "output_type": "stream",
       "stream": "stdout",
       "text": [
        "\r",
        "[=============............]  52.98% Tasks retries:0 Time 0:07:13"
       ]
      },
      {
       "output_type": "stream",
       "stream": "stdout",
       "text": [
        "\r",
        "[=============............]  55.11% Tasks retries:0 Time 0:07:15"
       ]
      },
      {
       "output_type": "stream",
       "stream": "stdout",
       "text": [
        "\r",
        "[==============...........]  57.24% Tasks retries:0 Time 0:07:17"
       ]
      },
      {
       "output_type": "stream",
       "stream": "stdout",
       "text": [
        "\r",
        "[==============...........]  59.41% Tasks retries:0 Time 0:07:19"
       ]
      },
      {
       "output_type": "stream",
       "stream": "stdout",
       "text": [
        "\r",
        "[=========================] 100.00% Tasks retries:0 Time 0:07:21\n"
       ]
      },
      {
       "metadata": {},
       "output_type": "pyout",
       "prompt_number": 11,
       "text": [
        "<matplotlib.text.Text at 0x5b72990>"
       ]
      }
     ],
     "prompt_number": 11
    },
    {
     "cell_type": "code",
     "collapsed": false,
     "input": [
      "plt.bar(hour_histogram.cutoffs[:-1], hour_histogram.hist, width = hour_histogram.cutoffs[1]-hour_histogram.cutoffs[0])\n",
      "plt.show()\n",
      "plt.xlim(min(hour_histogram.cutoffs), max(hour_histogram.cutoffs))\n",
      "plt.xlabel('Time')\n",
      "plt.ylabel('Count')"
     ],
     "language": "python",
     "metadata": {},
     "outputs": [
      {
       "metadata": {},
       "output_type": "pyout",
       "prompt_number": 18,
       "text": [
        "<matplotlib.text.Text at 0x5b72990>"
       ]
      }
     ],
     "prompt_number": 18
    },
    {
     "cell_type": "code",
     "collapsed": false,
     "input": [
      "#TODO: make this plot interactive\n",
      "#10000 bins vs 1000 bins is 10 times as slow, scratch that, it fails\n",
      "# TODO: maybe split this plot out (1000 bins for 0-1028),(1000 bins for user space), (10 bins for outliers > acceptable range)\n",
      "port_histogram =real_netflow.histogram(column_name = \"word_port\",num_bins=1000)\n",
      "plt.bar(port_histogram.cutoffs[:-1], port_histogram.hist, width = port_histogram.cutoffs[1]-port_histogram.cutoffs[0])\n",
      "plt.xlabel('Destination Port')\n",
      "plt.ylabel('Count')\n",
      "plt.title('Distribution of Destination Port')"
     ],
     "language": "python",
     "metadata": {},
     "outputs": [
      {
       "output_type": "stream",
       "stream": "stdout",
       "text": [
        "\r",
        "initializing..."
       ]
      },
      {
       "output_type": "stream",
       "stream": "stdout",
       "text": [
        "\r",
        "initializing..."
       ]
      },
      {
       "output_type": "stream",
       "stream": "stdout",
       "text": [
        "\r",
        "initializing..."
       ]
      },
      {
       "output_type": "stream",
       "stream": "stderr",
       "text": [
        "ERROR:intelanalytics.core.frame:Traceback (most recent call last):\n",
        "  File \"/usr/lib/python2.7/site-packages/intelanalytics/meta/api.py\", line 104, in _api\n",
        "    return function(*args, **kwargs)\n",
        "  File \"<string>\", line 83, in histogram\n",
        "  File \"/usr/lib/python2.7/site-packages/intelanalytics/meta/metaprog.py\", line 356, in execute_command\n",
        "    return execute_command_function(_command_name, _selfish, **arguments)\n",
        "  File \"/usr/lib/python2.7/site-packages/intelanalytics/rest/command.py\", line 49, in execute_command\n",
        "    command_info = executor.issue(command_request)\n",
        "  File \"/usr/lib/python2.7/site-packages/intelanalytics/rest/command.py\", line 399, in issue\n",
        "    return self.poll_command_info(response)\n",
        "  File \"/usr/lib/python2.7/site-packages/intelanalytics/rest/command.py\", line 419, in poll_command_info\n",
        "    raise CommandServerError(command_info)\n",
        "CommandServerError: Invalid column name word_port provided, please choose from: tstart, tend, tdur, sip, dip, sport, dport, proto, flag, fwd, stos, ipkt, ibyt, opkt, obyt, date, time, hour, minute (command: 129, corId: 13437dc4-38fc-4c6b-8ed7-316c8328afeb)\n",
        "\n"
       ]
      },
      {
       "output_type": "stream",
       "stream": "stderr",
       "text": [
        "ERROR:intelanalytics.core.frame:Traceback (most recent call last):\n",
        "  File \"/usr/lib/python2.7/site-packages/intelanalytics/meta/api.py\", line 110, in _api\n",
        "    raise error  # see intelanalytics.errors.last for details\n",
        "CommandServerError: Invalid column name word_port provided, please choose from: tstart, tend, tdur, sip, dip, sport, dport, proto, flag, fwd, stos, ipkt, ibyt, opkt, obyt, date, time, hour, minute (command: 129, corId: 13437dc4-38fc-4c6b-8ed7-316c8328afeb)\n",
        "\n"
       ]
      },
      {
       "ename": "CommandServerError",
       "evalue": "Invalid column name word_port provided, please choose from: tstart, tend, tdur, sip, dip, sport, dport, proto, flag, fwd, stos, ipkt, ibyt, opkt, obyt, date, time, hour, minute (command: 129, corId: 13437dc4-38fc-4c6b-8ed7-316c8328afeb)",
       "output_type": "pyerr",
       "traceback": [
        "\u001b[1;31m---------------------------------------------------------------------------\u001b[0m\n\u001b[1;31mCommandServerError\u001b[0m                        Traceback (most recent call last)",
        "\u001b[1;32m<ipython-input-12-1ee73ab9fd9f>\u001b[0m in \u001b[0;36m<module>\u001b[1;34m()\u001b[0m\n\u001b[0;32m      2\u001b[0m \u001b[1;31m#10000 bins vs 1000 bins is 10 times as slow, scratch that, it fails\u001b[0m\u001b[1;33m\u001b[0m\u001b[1;33m\u001b[0m\u001b[0m\n\u001b[0;32m      3\u001b[0m \u001b[1;31m# TODO: maybe split this plot out (1000 bins for 0-1028),(1000 bins for user space), (10 bins for outliers > acceptable range)\u001b[0m\u001b[1;33m\u001b[0m\u001b[1;33m\u001b[0m\u001b[0m\n\u001b[1;32m----> 4\u001b[1;33m \u001b[0mport_histogram\u001b[0m \u001b[1;33m=\u001b[0m\u001b[0mreal_netflow\u001b[0m\u001b[1;33m.\u001b[0m\u001b[0mhistogram\u001b[0m\u001b[1;33m(\u001b[0m\u001b[0mcolumn_name\u001b[0m \u001b[1;33m=\u001b[0m \u001b[1;34m\"word_port\"\u001b[0m\u001b[1;33m,\u001b[0m\u001b[0mnum_bins\u001b[0m\u001b[1;33m=\u001b[0m\u001b[1;36m1000\u001b[0m\u001b[1;33m)\u001b[0m\u001b[1;33m\u001b[0m\u001b[0m\n\u001b[0m\u001b[0;32m      5\u001b[0m \u001b[0mplt\u001b[0m\u001b[1;33m.\u001b[0m\u001b[0mbar\u001b[0m\u001b[1;33m(\u001b[0m\u001b[0mport_histogram\u001b[0m\u001b[1;33m.\u001b[0m\u001b[0mcutoffs\u001b[0m\u001b[1;33m[\u001b[0m\u001b[1;33m:\u001b[0m\u001b[1;33m-\u001b[0m\u001b[1;36m1\u001b[0m\u001b[1;33m]\u001b[0m\u001b[1;33m,\u001b[0m \u001b[0mport_histogram\u001b[0m\u001b[1;33m.\u001b[0m\u001b[0mhist\u001b[0m\u001b[1;33m,\u001b[0m \u001b[0mwidth\u001b[0m \u001b[1;33m=\u001b[0m \u001b[0mport_histogram\u001b[0m\u001b[1;33m.\u001b[0m\u001b[0mcutoffs\u001b[0m\u001b[1;33m[\u001b[0m\u001b[1;36m1\u001b[0m\u001b[1;33m]\u001b[0m\u001b[1;33m-\u001b[0m\u001b[0mport_histogram\u001b[0m\u001b[1;33m.\u001b[0m\u001b[0mcutoffs\u001b[0m\u001b[1;33m[\u001b[0m\u001b[1;36m0\u001b[0m\u001b[1;33m]\u001b[0m\u001b[1;33m)\u001b[0m\u001b[1;33m\u001b[0m\u001b[0m\n\u001b[0;32m      6\u001b[0m \u001b[0mplt\u001b[0m\u001b[1;33m.\u001b[0m\u001b[0mxlabel\u001b[0m\u001b[1;33m(\u001b[0m\u001b[1;34m'Destination Port'\u001b[0m\u001b[1;33m)\u001b[0m\u001b[1;33m\u001b[0m\u001b[0m\n",
        "\u001b[1;32m<string>\u001b[0m in \u001b[0;36mhistogram\u001b[1;34m(self, column_name, num_bins, weight_column_name, bin_type)\u001b[0m\n",
        "\u001b[1;32m/usr/lib/python2.7/site-packages/intelanalytics/meta/api.py\u001b[0m in \u001b[0;36m_api\u001b[1;34m(function, *args, **kwargs)\u001b[0m\n\u001b[0;32m    108\u001b[0m \u001b[1;33m\u001b[0m\u001b[0m\n\u001b[0;32m    109\u001b[0m \u001b[1;33m\u001b[0m\u001b[0m\n\u001b[1;32m--> 110\u001b[1;33m                 \u001b[1;32mraise\u001b[0m \u001b[0merror\u001b[0m  \u001b[1;31m# see intelanalytics.errors.last for details\u001b[0m\u001b[1;33m\u001b[0m\u001b[0m\n\u001b[0m\u001b[0;32m    111\u001b[0m \u001b[1;33m\u001b[0m\u001b[0m\n\u001b[0;32m    112\u001b[0m \u001b[1;33m\u001b[0m\u001b[0m\n",
        "\u001b[1;32m/usr/lib/python2.7/site-packages/intelanalytics/meta/api.py\u001b[0m in \u001b[0;36m__exit__\u001b[1;34m(self, exception_type, exception_value, traceback)\u001b[0m\n\u001b[0;32m     85\u001b[0m \u001b[1;33m\u001b[0m\u001b[0m\n\u001b[0;32m     86\u001b[0m \u001b[1;33m\u001b[0m\u001b[0m\n\u001b[1;32m---> 87\u001b[1;33m             \u001b[1;32mraise\u001b[0m \u001b[0merror\u001b[0m  \u001b[1;31m# see intelanalytics.errors.last for details\u001b[0m\u001b[1;33m\u001b[0m\u001b[0m\n\u001b[0m\u001b[0;32m     88\u001b[0m \u001b[1;33m\u001b[0m\u001b[0m\n\u001b[0;32m     89\u001b[0m \u001b[1;33m\u001b[0m\u001b[0m\n",
        "\u001b[1;31mCommandServerError\u001b[0m: Invalid column name word_port provided, please choose from: tstart, tend, tdur, sip, dip, sport, dport, proto, flag, fwd, stos, ipkt, ibyt, opkt, obyt, date, time, hour, minute (command: 129, corId: 13437dc4-38fc-4c6b-8ed7-316c8328afeb)"
       ]
      }
     ],
     "prompt_number": 12
    },
    {
     "cell_type": "code",
     "collapsed": false,
     "input": [],
     "language": "python",
     "metadata": {},
     "outputs": []
    }
   ],
   "metadata": {}
  }
 ]
}