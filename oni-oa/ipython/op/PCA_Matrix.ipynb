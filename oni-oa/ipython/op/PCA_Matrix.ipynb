{
 "metadata": {
  "name": "",
  "signature": "sha256:6e6301d506a39caaa42dde943e50a1b6e3c5fc750fcf7c963b1c13c880fa2815"
 },
 "nbformat": 3,
 "nbformat_minor": 0,
 "worksheets": [
  {
   "cells": [
    {
     "cell_type": "code",
     "collapsed": false,
     "input": [
      "import csv\n",
      "import operator\n",
      "import math\n",
      "import numpy as np\n",
      "import time\n",
      "import sys\n",
      "import socket,struct\n",
      "\n",
      "basefile = 'vast0407'\n",
      "parsefile = '/home/hadoop/ipython/matrixdata'+basefile #sys.argv[1]\n",
      "parsedfile = '/home/hadoop/ipython/dataset/ts/vast/matrixdata'+basefile+'_clean'\n",
      "\n",
      "print 'libraries loaded'"
     ],
     "language": "python",
     "metadata": {},
     "outputs": [
      {
       "output_type": "stream",
       "stream": "stdout",
       "text": [
        "libraries loaded\n"
       ]
      }
     ],
     "prompt_number": 80
    },
    {
     "cell_type": "code",
     "collapsed": false,
     "input": [
      "# BUG: doesn't quite work for some reason, some lines are left over\n",
      "with open(parsedfile,'wb') as g:\n",
      "    riter = csv.writer(g,delimiter=',')\n",
      "    with open(parsefile, 'rb') as f:\n",
      "        reader = csv.reader(f,delimiter=',') \n",
      "        d = [i for i in csv.reader(f)]\n",
      "        rowct = 1\n",
      "        rowctproc = 1\n",
      "        for row in d:\n",
      "            if (row[0]=='0' and row[1]=='0'):\n",
      "                d.remove(row)\n",
      "                rowct = rowct + 1\n",
      "            else:\n",
      "                \n",
      "                rowct = rowct + 1\n",
      "                rowctproc = rowctproc + 1\n",
      "        riter.writerows(d)\n",
      "    f.close()\n",
      "g.close()\n",
      "print rowct,'rows processed'\n",
      "print rowctproc, 'rows saved'\n",
      "                \n"
     ],
     "language": "python",
     "metadata": {},
     "outputs": [
      {
       "output_type": "stream",
       "stream": "stdout",
       "text": [
        "14067 rows processed\n",
        "14067 rows saved\n"
       ]
      }
     ],
     "prompt_number": 81
    },
    {
     "cell_type": "code",
     "collapsed": false,
     "input": [
      "############### Long step #############################\n",
      "print 'loading CSV matrix ...'\n",
      "M = np.loadtxt(parsedfile,delimiter=\",\",dtype=np.int64)\n",
      "print 'matrix loaded'\n",
      "\n",
      "N = 1440\n",
      "M1 = M[:,2:len(M)]\n",
      "mean = np.zeros([len(M),1],np.float32)\n",
      "mean[:,0] = np.mean(M1,axis=1)\n",
      "\n",
      "DM = (M1-np.tile(mean,N))\n",
      "#DM = M1\n",
      "print 'ensemble averaged matrix ready'\n",
      "\n",
      "print 'starting SVD ...'\n",
      "####################Long step########################\n",
      "U,S,V = np.linalg.svd(DM, full_matrices=0)\n",
      "print 'SVD matrix ready'\n",
      "print 'first ten singular values:'\n",
      "print S[0:10]"
     ],
     "language": "python",
     "metadata": {},
     "outputs": [
      {
       "output_type": "stream",
       "stream": "stdout",
       "text": [
        "loading CSV matrix ...\n",
        "matrix loaded"
       ]
      },
      {
       "output_type": "stream",
       "stream": "stdout",
       "text": [
        "\n",
        "ensemble averaged matrix ready"
       ]
      },
      {
       "output_type": "stream",
       "stream": "stdout",
       "text": [
        "\n",
        "starting SVD ...\n",
        "SVD matrix ready"
       ]
      },
      {
       "output_type": "stream",
       "stream": "stdout",
       "text": [
        "\n",
        "first ten singular values:\n",
        "[  6.34623425e+08   2.21935781e+07   1.86455613e+07   1.68784362e+07\n",
        "   1.61298649e+07   1.53960859e+07   1.49081813e+07   1.45317994e+07\n",
        "   1.38553041e+07   1.28054808e+07]\n"
       ]
      }
     ],
     "prompt_number": 82
    },
    {
     "cell_type": "code",
     "collapsed": false,
     "input": [
      "outfile='/home/hadoop/ipython/dataset/pca/vast/pcadata'+basefile\n",
      "np.savez(outfile, U=U,S=S,V=V)\n",
      "print 'PCA results saved.'"
     ],
     "language": "python",
     "metadata": {},
     "outputs": [
      {
       "output_type": "stream",
       "stream": "stdout",
       "text": [
        "PCA results saved.\n"
       ]
      }
     ],
     "prompt_number": 83
    },
    {
     "cell_type": "code",
     "collapsed": false,
     "input": [
      "!du -h /home/hadoop/ipython/dataset/pca/vast/*"
     ],
     "language": "python",
     "metadata": {},
     "outputs": [
      {
       "output_type": "stream",
       "stream": "stdout",
       "text": [
        "171M\t/home/hadoop/ipython/dataset/pca/vast/pcadatavast0407.npz\r\n",
        "190M\t/home/hadoop/ipython/dataset/pca/vast/pcadatavast0410.npz\r\n",
        "173M\t/home/hadoop/ipython/dataset/pca/vast/pcadatavast0411.npz\r\n",
        "180M\t/home/hadoop/ipython/dataset/pca/vast/pcadatavast0412.npz\r\n",
        "177M\t/home/hadoop/ipython/dataset/pca/vast/pcadatavast0413.npz\r\n",
        "215M\t/home/hadoop/ipython/dataset/pca/vast/pcadatavast0414.npz\r\n",
        "211M\t/home/hadoop/ipython/dataset/pca/vast/pcadatavast0415.npz\r\n"
       ]
      }
     ],
     "prompt_number": 84
    },
    {
     "cell_type": "code",
     "collapsed": false,
     "input": [],
     "language": "python",
     "metadata": {},
     "outputs": []
    }
   ],
   "metadata": {}
  }
 ]
}